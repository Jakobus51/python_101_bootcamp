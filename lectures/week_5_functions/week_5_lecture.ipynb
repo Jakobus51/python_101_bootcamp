{
 "cells": [
  {
   "cell_type": "markdown",
   "metadata": {},
   "source": [
    "# Functional vs object orientated programming"
   ]
  },
  {
   "cell_type": "code",
   "execution_count": null,
   "metadata": {},
   "outputs": [],
   "source": [
    "import pandas as pd\n",
    "\n",
    "\n",
    "def remove_null_values(dataframe: pd.DataFrame) -> pd.DataFrame:\n",
    "    \"\"\"Remove null values from the dataframe.\"\"\"\n",
    "    dataframe = dataframe.dropna()\n",
    "    return dataframe"
   ]
  },
  {
   "cell_type": "code",
   "execution_count": null,
   "metadata": {},
   "outputs": [],
   "source": [
    "def some_random_function() -> None:\n",
    "    \"\"\"A random function that does nothing.\"\"\"\n",
    "    print(\"Nothing\")\n",
    "\n",
    "\n",
    "some_random_function()"
   ]
  },
  {
   "cell_type": "code",
   "execution_count": null,
   "metadata": {},
   "outputs": [],
   "source": [
    "x_function = some_random_function\n",
    "x_function()"
   ]
  },
  {
   "cell_type": "code",
   "execution_count": null,
   "metadata": {},
   "outputs": [],
   "source": [
    "def some_random_function(\n",
    "    first_input: str,\n",
    "    second_input: str,\n",
    "    third_input: str,\n",
    ") -> str:\n",
    "    \"\"\"Return the inputs with an underscore inbetween.\"\"\"\n",
    "    return f\"{first_input}_{second_input}_{third_input}\"\n",
    "\n",
    "\n",
    "some_random_function(\n",
    "    third_input=\"c\",\n",
    "    second_input=\"b\",\n",
    "    first_input=\"a\",\n",
    ")"
   ]
  },
  {
   "cell_type": "code",
   "execution_count": null,
   "metadata": {},
   "outputs": [],
   "source": []
  },
  {
   "cell_type": "code",
   "execution_count": null,
   "metadata": {},
   "outputs": [],
   "source": [
    "def some_random_function(\n",
    "    first_input: str,\n",
    "    second_input: str,\n",
    "    third_input: str,\n",
    ") -> str:\n",
    "    \"\"\"Return the inputs with an underscore inbetween.\"\"\"\n",
    "    return f\"{first_input}_{second_input}_{third_input}\"\n",
    "\n",
    "\n",
    "some_random_function(\n",
    "    \"a\",\n",
    "    \"b\",\n",
    ")"
   ]
  },
  {
   "cell_type": "code",
   "execution_count": null,
   "metadata": {},
   "outputs": [],
   "source": [
    "def some_random_function(\n",
    "    first_input: str,\n",
    "    second_input: str,\n",
    "    third_input: str,\n",
    ") -> str:\n",
    "    \"\"\"Return the inputs with an underscore inbetween.\"\"\"\n",
    "    return f\"{first_input}_{second_input}_{third_input}\"\n",
    "\n",
    "\n",
    "some_random_function(\n",
    "    first_input=\"a\",\n",
    "    second_input=\"b\",\n",
    ")"
   ]
  },
  {
   "cell_type": "code",
   "execution_count": null,
   "metadata": {},
   "outputs": [],
   "source": [
    "def this_person_is_going_to_the_vrijmibo(\n",
    "    person: str = \"Jakob\",\n",
    ") -> None:\n",
    "    \"\"\"Return the inputs with an underscore inbetween.\"\"\"\n",
    "    print(f\"{person} is going to the vrijmibo!\")\n",
    "\n",
    "\n",
    "this_person_is_going_to_the_vrijmibo(person=\"Floris\")"
   ]
  },
  {
   "cell_type": "code",
   "execution_count": null,
   "metadata": {},
   "outputs": [],
   "source": [
    "def this_person_is_going_to_the_vrijmibo(\n",
    "    person: str = \"Jakob\",\n",
    ") -> None:\n",
    "    \"\"\"Return the inputs with an underscore inbetween.\"\"\"\n",
    "    print(f\"{person} is going to the vrijmibo!\")\n",
    "\n",
    "\n",
    "this_person_is_going_to_the_vrijmibo(person=None)"
   ]
  },
  {
   "cell_type": "code",
   "execution_count": null,
   "metadata": {},
   "outputs": [],
   "source": [
    "def this_person_is_going_to_the_vrijmibo(\n",
    "    person: str | None,\n",
    ") -> None:\n",
    "    \"\"\"Return the inputs with an underscore inbetween.\"\"\"\n",
    "    if person is None:\n",
    "        print(\"nobody is going to the vrijmibo :(\")\n",
    "    else:\n",
    "        print(f\"{person} is going to the vrijmibo!\")\n",
    "\n",
    "\n",
    "this_person_is_going_to_the_vrijmibo()"
   ]
  },
  {
   "cell_type": "code",
   "execution_count": null,
   "metadata": {},
   "outputs": [],
   "source": [
    "from typing import Optional\n",
    "\n",
    "\n",
    "def this_person_is_going_to_the_vrijmibo(\n",
    "    person: Optional[str] = None,\n",
    ") -> None:\n",
    "    \"\"\"Return the inputs with an underscore inbetween.\"\"\"\n",
    "    if person is None:\n",
    "        print(\"nobody is going to the vrijmibo :(\")\n",
    "    else:\n",
    "        print(f\"{person} is going to the vrijmibo!\")\n",
    "\n",
    "\n",
    "this_person_is_going_to_the_vrijmibo()"
   ]
  },
  {
   "cell_type": "code",
   "execution_count": null,
   "metadata": {},
   "outputs": [],
   "source": [
    "from typing import Union\n",
    "\n",
    "\n",
    "def this_person_is_going_to_the_vrijmibo(\n",
    "    person: Union[str, None],\n",
    ") -> None:\n",
    "    \"\"\"Return the inputs with an underscore inbetween.\"\"\"\n",
    "    if person is None:\n",
    "        print(\"nobody is going to the vrijmibo :(\")\n",
    "    else:\n",
    "        print(f\"{person} is going to the vrijmibo!\")\n",
    "\n",
    "\n",
    "this_person_is_going_to_the_vrijmibo(person=None)"
   ]
  },
  {
   "cell_type": "code",
   "execution_count": null,
   "metadata": {},
   "outputs": [],
   "source": [
    "def args_function(*args) -> None:\n",
    "    \"\"\"A random function that prints each argument.\"\"\"\n",
    "    print(type(args))\n",
    "    for arg in args:\n",
    "        print(arg)\n",
    "\n",
    "\n",
    "args_function(\"apple\", \"banana\", \"cherry\")"
   ]
  },
  {
   "cell_type": "code",
   "execution_count": null,
   "metadata": {},
   "outputs": [],
   "source": [
    "def kwargs_function(**kwargs) -> None:\n",
    "    \"\"\"A random function that prints each argument.\"\"\"\n",
    "    print(type(kwargs))\n",
    "    for key, arg in kwargs.items():\n",
    "        print(f\"{key}: {arg}\")\n",
    "\n",
    "\n",
    "kwargs_function(\n",
    "    first=\"apple\",\n",
    "    yellow_fruit=\"banana\",\n",
    "    small_fruit=\"cherry\",\n",
    ")"
   ]
  },
  {
   "cell_type": "code",
   "execution_count": null,
   "metadata": {},
   "outputs": [],
   "source": [
    "def args_and_kwargs_function(*args, **kwargs) -> None:\n",
    "    \"\"\"A random function that prints each argument.\"\"\"\n",
    "    print(type(args))\n",
    "    for arg in args:\n",
    "        print(arg)\n",
    "\n",
    "    print(type(kwargs))\n",
    "    for key, arg in kwargs.items():\n",
    "        print(f\"{key}: {arg}\")\n",
    "\n",
    "\n",
    "args_and_kwargs_function(\n",
    "    \"cat\",\n",
    "    \"dog\",\n",
    "    first=\"apple\",\n",
    "    yellow_fruit=\"banana\",\n",
    "    small_fruit=\"cherry\",\n",
    ")"
   ]
  },
  {
   "cell_type": "code",
   "execution_count": null,
   "metadata": {},
   "outputs": [],
   "source": [
    "from pathlib import Path\n",
    "\n",
    "\n",
    "def download_dataframe(\n",
    "    dataframe: pd.DataFrame,\n",
    "    download_location: Path,\n",
    "    as_csv: bool,\n",
    ") -> None:\n",
    "    \"\"\"Download the dataframe to the specified location.\"\"\"\n",
    "    pass\n",
    "\n",
    "\n",
    "df = pd.DataFrame({})\n",
    "download_location = Path(\"...\")\n",
    "download_dataframe(\n",
    "    dataframe=df,\n",
    "    download_location=download_location,\n",
    "    as_csv=False,\n",
    ")"
   ]
  },
  {
   "cell_type": "code",
   "execution_count": null,
   "metadata": {},
   "outputs": [],
   "source": [
    "from enum import Enum\n",
    "\n",
    "\n",
    "class ExportTypes(Enum):\n",
    "    \"\"\"Export types for the dataframe.\"\"\"\n",
    "\n",
    "    CSV = \"csv\"\n",
    "    EXCEL = \"excel\"\n",
    "    JSON = \"json\"\n",
    "\n",
    "\n",
    "def download_dataframe(\n",
    "    dataframe: pd.DataFrame,\n",
    "    download_location: Path,\n",
    "    export_type: ExportTypes,\n",
    ") -> None:\n",
    "    \"\"\"Download the dataframe to the specified location.\"\"\"\n",
    "    pass\n",
    "\n",
    "\n",
    "download_dataframe(\n",
    "    dataframe=df,\n",
    "    download_location=download_location,\n",
    "    export_type=ExportTypes.JSON,\n",
    ")"
   ]
  },
  {
   "cell_type": "code",
   "execution_count": null,
   "metadata": {},
   "outputs": [],
   "source": [
    "def download_dataframe_as_csv(\n",
    "    dataframe: pd.DataFrame,\n",
    "    download_location: Path,\n",
    ") -> None:\n",
    "    \"\"\"Download the dataframe as a CSV.\"\"\"\n",
    "    dataframe.to_csv(download_location)\n",
    "    print(f\"Downloaded dataframe as CSV to {download_location}\")\n",
    "\n",
    "\n",
    "def download_dataframe_as_excel(\n",
    "    dataframe: pd.DataFrame,\n",
    "    download_location: Path,\n",
    ") -> None:\n",
    "    \"\"\"Download the dataframe as an Excel file.\"\"\"\n",
    "    dataframe.to_excel(download_location)\n",
    "    print(f\"Downloaded dataframe as Excel to {download_location}\")\n",
    "\n",
    "\n",
    "def download_dataframe(\n",
    "    dataframe: pd.DataFrame,\n",
    "    download_location: Path,\n",
    "    export_type: ExportTypes,\n",
    ") -> None:\n",
    "    \"\"\"Download the dataframe to the specified location.\"\"\"\n",
    "    if export_type == ExportTypes.CSV:\n",
    "        download_dataframe_as_csv(dataframe, download_location)\n",
    "    elif export_type == ExportTypes.EXCEL:\n",
    "        download_dataframe_as_excel(dataframe, download_location)\n",
    "\n",
    "    print(f\"Downloaded dataframe as {export_type} to {download_location}\")"
   ]
  },
  {
   "cell_type": "code",
   "execution_count": null,
   "metadata": {},
   "outputs": [],
   "source": [
    "def get_query(table_name: str, columns: list) -> str:\n",
    "    PROJECT_NAME = \"adidas_pricing\"\n",
    "    DATASET_NAME = \"prince_project\"\n",
    "\n",
    "    columns_str = \", \".join(columns)\n",
    "\n",
    "    query = f\"\"\"\n",
    "        SELECT {columns_str}\n",
    "        FROM `{PROJECT_NAME}.{DATASET_NAME}.{table_name}`\n",
    "    \"\"\"\n",
    "    return query"
   ]
  },
  {
   "cell_type": "code",
   "execution_count": null,
   "metadata": {},
   "outputs": [],
   "source": [
    "CONNECTION = \"\"\n",
    "\n",
    "\n",
    "def get_data_and_process_dataframe(\n",
    "    table_name: str,\n",
    "    columns: list,\n",
    ") -> pd.DataFrame:\n",
    "    \"\"\"Get data from the database and drop null values.\"\"\"\n",
    "    query = get_query(table_name, columns)\n",
    "    dataframe = pd.read_sql(query, con=CONNECTION)\n",
    "    dataframe = remove_null_values(dataframe)\n",
    "    dataframe = dataframe.drop_duplicates()\n",
    "\n",
    "    return dataframe\n",
    "\n",
    "\n",
    "def get_raw_data(\n",
    "    table_name: str,\n",
    "    columns: list,\n",
    ") -> pd.DataFrame:\n",
    "    \"\"\"Get raw data from the database.\"\"\"\n",
    "    query = get_query(table_name, columns)\n",
    "    dataframe = pd.read_sql(query, con=CONNECTION)\n",
    "    return dataframe\n",
    "\n",
    "\n",
    "def process_raw_data(\n",
    "    dataframe: pd.DataFrame,\n",
    ") -> pd.DataFrame:\n",
    "    \"\"\"Process the dataframe.\"\"\"\n",
    "    dataframe = remove_null_values(dataframe)\n",
    "    dataframe = dataframe.drop_duplicates()\n",
    "\n",
    "    return dataframe\n",
    "\n",
    "\n",
    "def get_cleaned_dataframe(\n",
    "    table_name: str,\n",
    "    columns: list,\n",
    ") -> pd.DataFrame:\n",
    "    \"\"\"Retrieve data from the database.\"\"\"\n",
    "    raw_dataframe = get_raw_data(table_name, columns)\n",
    "    dataframe = process_raw_data(raw_dataframe)\n",
    "    return dataframe"
   ]
  },
  {
   "cell_type": "code",
   "execution_count": null,
   "metadata": {},
   "outputs": [],
   "source": [
    "def logic_around_the_dance(func: callable) -> callable:\n",
    "    \"\"\"A decorator that adds logic around the dance function.\"\"\"\n",
    "\n",
    "    def wrapper(*args) -> None:\n",
    "        \"\"\"Wrapper.\"\"\"\n",
    "        print(\"Logic before the dance\")\n",
    "        result = func(*args)\n",
    "        print(\"Logic after the dance\")\n",
    "        return result\n",
    "\n",
    "    return wrapper\n",
    "\n",
    "\n",
    "@logic_around_the_dance\n",
    "def do_a_dance(person: str) -> None:\n",
    "    \"\"\"A function that does a dance.\"\"\"\n",
    "    print(f\"{person} is doing a dance!\")\n",
    "\n",
    "\n",
    "do_a_dance(person=\"Jakob\")"
   ]
  },
  {
   "cell_type": "code",
   "execution_count": null,
   "metadata": {},
   "outputs": [],
   "source": []
  },
  {
   "cell_type": "code",
   "execution_count": null,
   "metadata": {},
   "outputs": [],
   "source": []
  },
  {
   "cell_type": "code",
   "execution_count": null,
   "metadata": {},
   "outputs": [],
   "source": []
  }
 ],
 "metadata": {
  "kernelspec": {
   "display_name": "python-bootcamp-101",
   "language": "python",
   "name": "python3"
  },
  "language_info": {
   "codemirror_mode": {
    "name": "ipython",
    "version": 3
   },
   "file_extension": ".py",
   "mimetype": "text/x-python",
   "name": "python",
   "nbconvert_exporter": "python",
   "pygments_lexer": "ipython3",
   "version": "3.10.5"
  }
 },
 "nbformat": 4,
 "nbformat_minor": 2
}
