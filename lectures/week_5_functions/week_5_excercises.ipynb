{
 "cells": [
  {
   "cell_type": "markdown",
   "metadata": {},
   "source": [
    "# Readings/ watchings"
   ]
  },
  {
   "cell_type": "markdown",
   "metadata": {},
   "source": [
    "Article about the boolean trap: <br> \n",
    "https://read.engineerscodex.com/p/the-boolean-trap<br> \n",
    "\n",
    "Video of ArjanCodes about good function design: <br>\n",
    "https://www.youtube.com/watch?v=g-Cytq7YDCc&ab_channel=ArjanCodes <br>"
   ]
  },
  {
   "cell_type": "markdown",
   "metadata": {},
   "source": [
    "# Exercises"
   ]
  },
  {
   "cell_type": "code",
   "execution_count": null,
   "metadata": {},
   "outputs": [],
   "source": [
    "# Question 1: Explain the difference between positional and keyword arguments in Python functions."
   ]
  },
  {
   "cell_type": "code",
   "execution_count": null,
   "metadata": {},
   "outputs": [],
   "source": [
    "# your answer here"
   ]
  },
  {
   "cell_type": "code",
   "execution_count": null,
   "metadata": {},
   "outputs": [],
   "source": [
    "# answer\n",
    "print(\"\"\"\n",
    "answer 1:\n",
    "    Positional arguments are the arguments that are passed to a function in the order they are defined.\n",
    "    They are matched to the function's parameters based on their position.\n",
    "    Keyword arguments are the arguments that are passed to a function using the parameter name.\n",
    "    They are matched to the function's parameters based on the parameter name, regardless of their position.\n",
    "\"\"\")"
   ]
  },
  {
   "cell_type": "code",
   "execution_count": null,
   "metadata": {},
   "outputs": [],
   "source": [
    "# Question 2a: Add functionality to the following function to let keys_to_keep also be None. And make sure you\n",
    "# return an empty dictionary if keys_to_keep is None.\n",
    "\n",
    "\n",
    "def keep_entries_from_dict(input_dict: dict, keys_to_keep: list[str]) -> dict:\n",
    "    \"\"\"Keeps only the entries in input_dict whose keys are in keys_to_keep.\"\"\"\n",
    "    output_dict = input_dict.copy()\n",
    "    output_dict = {k: v for k, v in output_dict.items() if k in keys_to_keep}\n",
    "    return output_dict\n",
    "\n",
    "test = {\n",
    "    \"a\": 1,\n",
    "    \"b\": 2,\n",
    "    \"c\": 3,\n",
    "}\n",
    "\n",
    "output_dict = keep_entries_from_dict(input_dict=test, keys_to_keep=[\"a\", \"b\"])\n",
    "print(output_dict)\n"
   ]
  },
  {
   "cell_type": "code",
   "execution_count": null,
   "metadata": {},
   "outputs": [],
   "source": [
    "# your answer here\n"
   ]
  },
  {
   "cell_type": "code",
   "execution_count": null,
   "metadata": {},
   "outputs": [],
   "source": [
    "# answer\n",
    "print(\n",
    "'''\n",
    "answer 2a:\n",
    "    from typing import Optional\n",
    "    def keep_entries_from_dict(input_dict: dict, keys_to_keep: Optional[list[str]]) -> dict:\n",
    "        \"\"\"Keeps only the entries in input_dict whose keys are in keys_to_keep.\"\"\"\n",
    "\n",
    "        if keys_to_keep is None:\n",
    "            return {}\n",
    "        output_dict = input_dict.copy()\n",
    "        output_dict = {k: v for k, v in output_dict.items() if k in keys_to_keep}\n",
    "        return output_dict\n",
    "\n",
    "    output_dict = keep_entries_from_dict(input_dict=test, keys_to_keep=None)\n",
    "\n",
    "    \n",
    "    You can also use  'list[str] | None' or 'Union[list[str], None]'\n",
    "    instead of 'Optional[list[str]]' depending on your python version and preference.\n",
    "'''\n",
    ")"
   ]
  },
  {
   "cell_type": "code",
   "execution_count": null,
   "metadata": {},
   "outputs": [],
   "source": [
    "# Question 2b: Make sure the function return an empty dictionary if keys_to_keep is not specified.\n",
    "# so use a default value.\n"
   ]
  },
  {
   "cell_type": "code",
   "execution_count": null,
   "metadata": {},
   "outputs": [],
   "source": [
    "# your answer here"
   ]
  },
  {
   "cell_type": "code",
   "execution_count": null,
   "metadata": {},
   "outputs": [],
   "source": [
    "# answer\n",
    "print(\n",
    "'''\n",
    "answer 2b:\n",
    "    def keep_entries_from_dict(input_dict: dict, keys_to_keep: Optional[list[str]] = None) -> dict:\n",
    "        \"\"\"Keeps only the entries in input_dict whose keys are in keys_to_keep.\"\"\"\n",
    "        if keys_to_keep is None:\n",
    "            return {}\n",
    "        output_dict = input_dict.copy()\n",
    "        output_dict = {k: v for k, v in output_dict.items() if k in keys_to_keep}\n",
    "        return output_dict\n",
    "\n",
    "    output_dict = keep_entries_from_dict(input_dict=test, keys_to_keep=None)\n",
    "    print(output_dict)\n",
    "    ''')"
   ]
  },
  {
   "cell_type": "code",
   "execution_count": null,
   "metadata": {},
   "outputs": [],
   "source": [
    "# Question 3a: Complete the add_features_to_dataframe function so it adds the features to the dataframe, based on the\n",
    "# input of features_to_add, while using the feature_loader_dict to load the features.\n",
    "# the function starts at the bottom of this cell\n",
    "\n",
    "import pandas as pd\n",
    "\n",
    "def add_price_data(df: pd.DataFrame, *args, **kwargs) -> pd.DataFrame:\n",
    "    \"\"\"Adds price data to the dataframe.\"\"\"\n",
    "    prices = [100, 200, 300]\n",
    "    if \"discount\" in kwargs:\n",
    "        discount = kwargs[\"discount\"]\n",
    "        prices = [price * (1 - discount) for price in prices]\n",
    "\n",
    "    df[\"price\"] = prices\n",
    "    return df\n",
    "\n",
    "def add_tax_percentage(df: pd.DataFrame, *args, **kwargs) -> pd.DataFrame:\n",
    "    \"\"\"Adds tax percentage to the dataframe.\"\"\"\n",
    "    tax = kwargs.get(\"tax\", 0.21)\n",
    "\n",
    "    df[\"tax_percentage\"] = tax\n",
    "    return df\n",
    "\n",
    "def add_shoe_color(df: pd.DataFrame, *args, **kwargs) -> pd.DataFrame:\n",
    "    \"\"\"Adds shoe color to the dataframe.\"\"\"\n",
    "    df[\"shoe_color\"] = [\"black\", \"white\", \"red\"]\n",
    "    return df\n",
    "\n",
    "\n",
    "feature_loader_dict = {\n",
    "    \"price\": add_price_data,\n",
    "    \"tax_percentage\": add_tax_percentage,\n",
    "    \"shoe_color\": add_shoe_color,\n",
    "}\n",
    "\n",
    "data = pd.DataFrame(\n",
    "    {\n",
    "        \"article\": [\"black_shoe\", \"white_shoe\", \"red_shoe\"],\n",
    "    }\n",
    ")\n",
    "features_to_add = [\"price\", 'tax_percentage']\n",
    "\n",
    "# ============== START HERE ================\n",
    "def add_features_to_dataframe(df: pd.DataFrame, features_to_add: list[str]) -> pd.DataFrame:\n",
    "    \"\"\"Adds features to the dataframe based on the input of features_to_add.\"\"\"\n",
    "    \n",
    "    return df\n",
    "\n",
    "data = add_features_to_dataframe(data, features_to_add)\n",
    "display(data)"
   ]
  },
  {
   "cell_type": "code",
   "execution_count": null,
   "metadata": {},
   "outputs": [],
   "source": [
    "# your answer here"
   ]
  },
  {
   "cell_type": "code",
   "execution_count": null,
   "metadata": {},
   "outputs": [],
   "source": [
    "# answer\n",
    "print(\n",
    "'''\n",
    "answer 3a:\n",
    "    def add_features_to_dataframe(df: pd.DataFrame, features_to_add: list[str]) -> pd.DataFrame:\n",
    "        for feature in features_to_add:\n",
    "            df = feature_loader_dict[feature](df)\n",
    "        return df\n",
    "\n",
    "    data = add_features_to_dataframe(data, features_to_add)\n",
    "    display(data)\n",
    "\n",
    "    Explanation:\n",
    "    feature_loader_dict[feature] returns a function, which is then called with df as the argument.\n",
    "    We thus abstracted the feature loading process into a dictionary of functions.\n",
    "'''\n",
    ")"
   ]
  },
  {
   "cell_type": "code",
   "execution_count": null,
   "metadata": {},
   "outputs": [],
   "source": [
    "# Question 3b: Update your add_features_to_dataframe function so that the following code works:\n",
    "\n",
    "data = add_features_to_dataframe(data, features_to_add, discount=0.1, tax=0.2)\n",
    "display(data)"
   ]
  },
  {
   "cell_type": "code",
   "execution_count": null,
   "metadata": {},
   "outputs": [],
   "source": [
    "# your answer here"
   ]
  },
  {
   "cell_type": "code",
   "execution_count": null,
   "metadata": {},
   "outputs": [],
   "source": [
    "# answer\n",
    "print(\n",
    "'''\n",
    "answer 3b:\n",
    "    def add_features_to_dataframe(df: pd.DataFrame, features_to_add: list[str], **kwargs) -> pd.DataFrame:\n",
    "        \"\"\"Adds features to the dataframe based on the input of features_to_add.\"\"\"\n",
    "        for feature in features_to_add:\n",
    "            df = feature_loader_dict[feature](df, **kwargs)\n",
    "\n",
    "        return df\n",
    "\n",
    "    data = add_features_to_dataframe(data, features_to_add, discount=0.2, tax=0.01)\n",
    "    display(data)\n",
    "\n",
    "\n",
    "    Explanation:\n",
    "    The **kwargs argument allows us to pass arbitrary arguments, since the add_price_data, add_tax_percentage and \n",
    "    add_shoe_color all also accept **kwargs, we can safely call them with arbitrary keyed arguments. These functions\n",
    "    just ignore the arguments they don't need and use the ones they do need.\n",
    "'''\n",
    ")"
   ]
  },
  {
   "cell_type": "code",
   "execution_count": null,
   "metadata": {},
   "outputs": [],
   "source": [
    "# Question 4a: Go to the code base of your current project and try to find examples where the Don't Repeat Yourself\n",
    "# principle is violated."
   ]
  },
  {
   "cell_type": "code",
   "execution_count": null,
   "metadata": {},
   "outputs": [],
   "source": [
    "# Question 4b: Go to the code base of your current project and try to find examples where the Single Responsibility\n",
    "# principle is violated."
   ]
  },
  {
   "cell_type": "code",
   "execution_count": null,
   "metadata": {},
   "outputs": [],
   "source": [
    "# Question 4c: Make a PR where you fix these violations in your code base.\n",
    "# Congratulations! You just refactored your code base and made it more maintainable!"
   ]
  },
  {
   "cell_type": "code",
   "execution_count": null,
   "metadata": {},
   "outputs": [],
   "source": [
    "# Question 5: write a decorator called time_function which times how long Jakobs dancing routine takes.\n",
    "# Tip: use time.time() to get the current time in seconds.\n",
    "import time\n",
    "\n",
    "def dancing():\n",
    "    \"\"\"Jakob's dancing routine.\"\"\"\n",
    "    print(\"Doing the macarena...\")\n",
    "    time.sleep(2)\n",
    "    print(\"Doing the polonaise...\")\n",
    "    time.sleep(3)\n",
    "    print(\"Doing the lawnmower...\")\n",
    "    time.sleep(1)"
   ]
  },
  {
   "cell_type": "code",
   "execution_count": null,
   "metadata": {},
   "outputs": [],
   "source": [
    "# your answer here"
   ]
  },
  {
   "cell_type": "code",
   "execution_count": null,
   "metadata": {},
   "outputs": [],
   "source": [
    "# answer\n",
    "print(\n",
    "'''\n",
    "answer 5:\n",
    "    def time_function(func):\n",
    "        \"\"\"Decorator that times how long a function takes to run.\"\"\"\n",
    "        def wrapper(*args, **kwargs):\n",
    "            start_time = time.time()\n",
    "            func(*args, **kwargs)\n",
    "            end_time = time.time()\n",
    "            print(f\"Function {func.__name__} took {end_time - start_time:.2f} seconds to run.\")\n",
    "        return wrapper\n",
    "\n",
    "    @time_function\n",
    "    def dancing():\n",
    "        \"\"\"Simulates a dancing function.\"\"\"\n",
    "        print(\"Doing the macarena...\")\n",
    "        time.sleep(2)\n",
    "        print(\"Doing the polonaise...\")\n",
    "        time.sleep(3)\n",
    "        print(\"Doing the lawnmower...\")\n",
    "        time.sleep(1)\n",
    "\n",
    "    dancing()\n",
    "'''\n",
    ")"
   ]
  }
 ],
 "metadata": {
  "kernelspec": {
   "display_name": "sparo",
   "language": "python",
   "name": "python3"
  },
  "language_info": {
   "codemirror_mode": {
    "name": "ipython",
    "version": 3
   },
   "file_extension": ".py",
   "mimetype": "text/x-python",
   "name": "python",
   "nbconvert_exporter": "python",
   "pygments_lexer": "ipython3",
   "version": "3.10.5"
  }
 },
 "nbformat": 4,
 "nbformat_minor": 2
}
