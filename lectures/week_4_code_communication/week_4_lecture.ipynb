{
 "cells": [
  {
   "cell_type": "markdown",
   "metadata": {},
   "source": [
    "# How to name things"
   ]
  },
  {
   "cell_type": "code",
   "execution_count": null,
   "metadata": {},
   "outputs": [],
   "source": []
  },
  {
   "cell_type": "code",
   "execution_count": null,
   "metadata": {},
   "outputs": [],
   "source": [
    "import random\n",
    "\n",
    "SEED = 42\n",
    "\n",
    "random.seed(SEED)\n",
    "\n",
    "\n",
    "NUMBER_OF_RANDOM_NUMBERS = 5\n",
    "LOWER_BOUND = 1\n",
    "UPPER_BOUND = 100\n",
    "\n",
    "for i in range(NUMBER_OF_RANDOM_NUMBERS):\n",
    "    random_number = random.randint(LOWER_BOUND, UPPER_BOUND)\n",
    "    print(\"Random number:\", random_number)"
   ]
  },
  {
   "cell_type": "code",
   "execution_count": null,
   "metadata": {},
   "outputs": [],
   "source": [
    "a = 32\n",
    "b = 10.5\n",
    "\n",
    "y = a * b"
   ]
  },
  {
   "cell_type": "code",
   "execution_count": null,
   "metadata": {},
   "outputs": [],
   "source": [
    "HOURS_WORKED = 32\n",
    "HOURLY_RATE = 10.5\n",
    "\n",
    "pay_out = HOURS_WORKED * HOURLY_RATE"
   ]
  },
  {
   "cell_type": "code",
   "execution_count": null,
   "metadata": {},
   "outputs": [],
   "source": []
  },
  {
   "cell_type": "code",
   "execution_count": null,
   "metadata": {},
   "outputs": [],
   "source": [
    "import pandas as pd\n",
    "\n",
    "df_1 = pd.read_csv(\"customer_data.csv\")\n",
    "df_2 = pd.read_csv(\"price_data.csv\")\n",
    "df_3 = pd.read_csv(\"store_data.csv\")"
   ]
  },
  {
   "cell_type": "code",
   "execution_count": null,
   "metadata": {},
   "outputs": [],
   "source": [
    "import pandas as pd\n",
    "\n",
    "customer_data = pd.read_csv(\"customer_data.csv\")\n",
    "price_data = pd.read_csv(\"price_data.csv\")\n",
    "store_data = pd.read_csv(\"store_data.csv\")"
   ]
  },
  {
   "cell_type": "code",
   "execution_count": null,
   "metadata": {},
   "outputs": [],
   "source": [
    "import pandas as pd\n",
    "\n",
    "customer_data = pd.DataFrame({})\n",
    "price_data = pd.DataFrame({})\n",
    "store_data = pd.DataFrame({})"
   ]
  },
  {
   "cell_type": "code",
   "execution_count": null,
   "metadata": {},
   "outputs": [],
   "source": [
    "def update_dataframe(value):\n",
    "    value = value.dropna()\n",
    "    return value\n",
    "\n",
    "\n",
    "dict = {\"customer_data\": customer_data, \"price_data\": price_data, \"store_data\": store_data}\n",
    "\n",
    "for key in dict:\n",
    "    value = dict[key]\n",
    "    new_value = update_dataframe(value)"
   ]
  },
  {
   "cell_type": "code",
   "execution_count": null,
   "metadata": {},
   "outputs": [],
   "source": [
    "def remove_null_values(dataframe):\n",
    "    dataframe = dataframe.dropna()\n",
    "    return dataframe\n",
    "\n",
    "\n",
    "data_dict = {\"customer_data\": customer_data, \"price_data\": price_data, \"store_data\": store_data}\n",
    "\n",
    "for dataframe_name in data_dict:\n",
    "    dataframe = data_dict[dataframe_name]\n",
    "    dataframe_without_nulls = remove_null_values(dataframe)"
   ]
  },
  {
   "cell_type": "code",
   "execution_count": null,
   "metadata": {},
   "outputs": [],
   "source": [
    "import numpy as np\n",
    "\n",
    "black_price = np.random.randint(30, 100, size=10)\n",
    "\n",
    "train_data = pd.DataFrame(\n",
    "    {\n",
    "        \"rrp\": black_price,\n",
    "        \"crp\": black_price * 0.7,\n",
    "        \"md\": 70,\n",
    "        \"mod_cat\": [f\"{x}\" for x in [\"A\", \"B\", \"B\"] * 17][:10],  # Categorical data\n",
    "    }\n",
    ")\n",
    "\n",
    "display(train_data)"
   ]
  },
  {
   "cell_type": "code",
   "execution_count": null,
   "metadata": {},
   "outputs": [],
   "source": [
    "import numpy as np\n",
    "\n",
    "train_data = pd.DataFrame(\n",
    "    {\n",
    "        \"retail_price\": black_price,\n",
    "        \"commercial_price\": black_price * 0.7,\n",
    "        \"markdown\": 70,\n",
    "        \"model_category\": [f\"{x}\" for x in [\"A\", \"B\", \"B\"] * 17][:10],  # Categorical data\n",
    "    }\n",
    ")\n",
    "\n",
    "display(train_data)"
   ]
  },
  {
   "cell_type": "code",
   "execution_count": null,
   "metadata": {},
   "outputs": [],
   "source": [
    "# This is a comment\n",
    "import numpy as np  # Comments can be on the same line as code\n",
    "# But not before it. import polars as pl"
   ]
  },
  {
   "cell_type": "code",
   "execution_count": null,
   "metadata": {},
   "outputs": [],
   "source": [
    "import pandas as pd\n",
    "\n",
    "# Import data from csv files\n",
    "customer_data = pd.read_csv(\"customer_data.csv\")\n",
    "\n",
    "# Remove null values\n",
    "customer_data = customer_data.dropna()\n",
    "\n",
    "# Display the first few rows of the dataframe\n",
    "customer_data.head()"
   ]
  },
  {
   "cell_type": "code",
   "execution_count": null,
   "metadata": {},
   "outputs": [],
   "source": [
    "def do_something_with_input_number():\n",
    "    print(\"Doing something with the input number...\")\n",
    "\n",
    "\n",
    "INPUT_NUMBER = 15\n",
    "\n",
    "# Check if the number is even and non-negative and an integer\n",
    "if INPUT_NUMBER % 2 == 0 & INPUT_NUMBER >= 0 & isinstance(INPUT_NUMBER, int):\n",
    "    do_something_with_input_number(INPUT_NUMBER)"
   ]
  },
  {
   "cell_type": "code",
   "execution_count": null,
   "metadata": {},
   "outputs": [],
   "source": [
    "def do_something_with_input_number():\n",
    "    print(\"Doing something with the input number...\")\n",
    "\n",
    "\n",
    "INPUT_NUMBER = 15\n",
    "\n",
    "is_even = INPUT_NUMBER % 2 == 0\n",
    "is_non_negative = INPUT_NUMBER >= 0\n",
    "is_integer = isinstance(INPUT_NUMBER, int)\n",
    "\n",
    "if is_even and is_non_negative and is_integer:\n",
    "    do_something_with_input_number(INPUT_NUMBER)"
   ]
  },
  {
   "cell_type": "code",
   "execution_count": null,
   "metadata": {},
   "outputs": [],
   "source": [
    "class ExampleClass:\n",
    "    \"\"\"I'm a class docstring.\"\"\"\n",
    "\n",
    "    def __init__(self, name):\n",
    "        \"\"\"Hello, I'm a function docstring.\"\"\"\n",
    "        self.name = name"
   ]
  },
  {
   "cell_type": "code",
   "execution_count": null,
   "metadata": {},
   "outputs": [],
   "source": [
    "def add_two_numbers_together(number_1: int, number_2: int) -> int:\n",
    "    \"\"\"This function adds two numbers together.\n",
    "\n",
    "    Args:\n",
    "        number_1 (int): The first number.\n",
    "        number_2 (int): The second number.\n",
    "\n",
    "    Returns:\n",
    "        int: The sum of the two numbers.\n",
    "\n",
    "    \"\"\"\n",
    "    return number_1 + number_2"
   ]
  },
  {
   "cell_type": "code",
   "execution_count": null,
   "metadata": {},
   "outputs": [],
   "source": [
    "NUMBERS = [1, 2, 3, 4, 5]\n",
    "squares = [num**2 for num in NUMBERS if num % 2 == 0]\n",
    "print(squares)"
   ]
  },
  {
   "cell_type": "code",
   "execution_count": null,
   "metadata": {},
   "outputs": [],
   "source": [
    "NUMBERS_DICT = {\"A\": [1, 2], \"B\": [3, 4], \"C\": [5, 6]}\n",
    "\n",
    "result = [\n",
    "    number**2\n",
    "    if category == \"A\" and number % 2 == 0\n",
    "    else number**2\n",
    "    if category == \"B\" and number % 2 != 0\n",
    "    else number**3\n",
    "    for category, category_numbers in NUMBERS_DICT.items()\n",
    "    for number in category_numbers\n",
    "]\n",
    "\n",
    "print(result)"
   ]
  },
  {
   "cell_type": "code",
   "execution_count": null,
   "metadata": {},
   "outputs": [],
   "source": [
    "results = []\n",
    "\n",
    "for category, category_numbers in NUMBERS_DICT.items():\n",
    "    for number in category_numbers:\n",
    "        if category == \"A\" and number % 2 == 0:\n",
    "            results.append(number**2)\n",
    "        elif category == \"B\" and number % 2 != 0:\n",
    "            results.append(number**2)\n",
    "        else:\n",
    "            results.append(number**3)\n",
    "\n",
    "print(results)"
   ]
  }
 ],
 "metadata": {
  "kernelspec": {
   "display_name": "sparo",
   "language": "python",
   "name": "python3"
  },
  "language_info": {
   "codemirror_mode": {
    "name": "ipython",
    "version": 3
   },
   "file_extension": ".py",
   "mimetype": "text/x-python",
   "name": "python",
   "nbconvert_exporter": "python",
   "pygments_lexer": "ipython3",
   "version": "3.10.5"
  }
 },
 "nbformat": 4,
 "nbformat_minor": 2
}
