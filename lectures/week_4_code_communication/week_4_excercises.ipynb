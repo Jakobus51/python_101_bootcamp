{
 "cells": [
  {
   "cell_type": "markdown",
   "metadata": {},
   "source": [
    "# Readings/ watchings"
   ]
  },
  {
   "cell_type": "markdown",
   "metadata": {},
   "source": [
    "Please also check all the different methods of lists, tuples, sets and dicts. We do not cover them all:\n",
    "\n",
    "Two very nice video's of the youtuber who in my opinion explains coding beautifully. <br> \n",
    "Video about his take on naming (I stole some of his content): <br> \n",
    "https://www.youtube.com/watch?v=-J3wNP6u5YU&ab_channel=CodeAesthetic <br> \n",
    "\n",
    "Video about how you should never write comments, bit radical but has some interesting takes: <br> \n",
    "https://www.youtube.com/watch?v=Bf7vDBBOBUA&ab_channel=CodeAesthetic <br> \n",
    "\n",
    "Video of my favourite python youtuber about code documentation: <br>\n",
    "https://www.youtube.com/watch?v=L7Ry-Fiij-M&ab_channel=ArjanCodes <br>\n",
    "\n",
    "\n",
    "Lastly a new blog post on why readable matters <br>\n",
    "https://blog.pragmaticengineer.com/readable-code/ <br>\n",
    "\n",
    "this guy also wrote an amazing book on how to grow as a software engineer and how to mentor younger software engineers: <br>\n",
    "https://www.bol.com/nl/nl/p/the-software-engineer-s-guidebook/9300000168794051/?Referrer=ADVNLGOO002008N-S--9300000168794051-PMAX-C-22294771678&gad_source=1&gad_campaignid=22294773253&gbraid=0AAAAAD5OnmPPVWENx0J904MmS6MXkJRdd&gclid=CjwKCAjwz_bABhAGEiwAm-P8YVoIv5OY8tlySoBA7xQ0e0MjMX3LqUhriAMXpQvE2UX6Z4s1VGe2phoC7PgQAvD_BwE <br>\n"
   ]
  },
  {
   "cell_type": "markdown",
   "metadata": {},
   "source": [
    "# Exercises"
   ]
  },
  {
   "cell_type": "code",
   "execution_count": null,
   "metadata": {},
   "outputs": [],
   "source": [
    "# Question 0: In case you haven't please go over the folder structure slides."
   ]
  },
  {
   "cell_type": "code",
   "execution_count": null,
   "metadata": {},
   "outputs": [],
   "source": [
    "# Question 1: correct the following variable naming conventions:\n",
    "\n",
    "# 1a\n",
    "InputNumber = 5\n",
    "\n",
    "# 1b\n",
    "import numpy as np\n",
    "inputNumber = np.random.rand(5)\n",
    "\n",
    "# 1c\n",
    "class example_class:\n",
    "    pass\n",
    "\n",
    "# 1d\n",
    "def Example_Function():\n",
    "    pass\n",
    "\n",
    "\n",
    "# 1e\n",
    "import pandas as pd\n",
    "data = pd.DataFrame(\n",
    "    {\n",
    "        'input-number': [1, 2, 3],\n",
    "        'Output-number': [4, 5, 6]\n",
    "    }\n",
    ")"
   ]
  },
  {
   "cell_type": "code",
   "execution_count": null,
   "metadata": {},
   "outputs": [],
   "source": [
    "# your answer here"
   ]
  },
  {
   "cell_type": "code",
   "execution_count": null,
   "metadata": {},
   "outputs": [],
   "source": [
    "# answer\n",
    "print(\"\"\"\n",
    "answer 1a:\n",
    "      It is a constant so it should be in all caps snake_case\n",
    "      INPUT_NUMBER = 5\n",
    "\"\"\")\n",
    "\n",
    "print(\"\"\"\n",
    "answer 1b:\n",
    "      It is a variable so it should be in snake_case\n",
    "      input_number = np.random.rand(5)\n",
    "\"\"\")\n",
    "\n",
    "print(\"\"\"\n",
    "answer 1c:\n",
    "        It is a class so it should be in PascalCase\n",
    "        ExampleClass\n",
    "    \"\"\")\n",
    "\n",
    "\n",
    "print(\"\"\"\n",
    "answer 1d:\n",
    "        It is a function so it should be in snake_case\n",
    "        example_function\n",
    "    \"\"\")\n",
    "\n",
    "\n",
    "print(\"\"\"\n",
    "answer 1e:\n",
    "        Columns names should be in snake_case\n",
    "        data = pd.DataFrame(\n",
    "            {\n",
    "                'input_number': [1, 2, 3],\n",
    "                'output_number': [4, 5, 6]\n",
    "            }\n",
    "        )\n",
    "      \n",
    "        Often we have to deal with data from the client, so we can not update the source columns.\n",
    "        But we can update the columns names in the dataframe.\n",
    "        I use the following boiler plate code normally to first select the relevant columns and then update the names:\n",
    "      \n",
    "        rename_dict = {\n",
    "            \"input-number\": \"input_number\",\n",
    "            \"Output-number\" : \"output_number\"\n",
    "        }\n",
    "\n",
    "        data_clean = data[rename_dict.keys()]\n",
    "        data_clean = data_clean.rename(columns=rename_dict)\n",
    "    \"\"\")"
   ]
  },
  {
   "cell_type": "code",
   "execution_count": null,
   "metadata": {},
   "outputs": [],
   "source": [
    "# Question 2a: Correct the following names so they become clearer and more readable.\n",
    "def f(x):\n",
    "    return x * 2\n",
    "\n",
    "x_1 = f(5)\n",
    "x_2 = f(5.0)\n",
    "\n",
    "# Question 2b: Should we treat the * 2 as a magic number and thus put it in a constant?\n",
    "\n",
    "# Question 2c: Add type hints to the function\n",
    "\n",
    "# Question 2d: Add a docstring to the function"
   ]
  },
  {
   "cell_type": "code",
   "execution_count": null,
   "metadata": {},
   "outputs": [],
   "source": [
    "# your answer here"
   ]
  },
  {
   "cell_type": "code",
   "execution_count": null,
   "metadata": {},
   "outputs": [],
   "source": [
    "# answer\n",
    "print(\"\"\"\n",
    "answer 2a:\n",
    "    Multiple answers are possible as long as you renamed the function, parameter and output variables\n",
    "    to something meaningful.\n",
    "      \n",
    "    def multiply_number_by_two(number):\n",
    "        return number * 2\n",
    "      \n",
    "    doubled_int = multiply_number_by_two(5)\n",
    "    doubled_float = multiply_number_by_two(5.0)\n",
    "\"\"\")\n",
    "\n",
    "print(\"\"\"\n",
    "answer 2b:\n",
    "    If we are very strict about the magic number rule, then yes.\n",
    "    But since it is implicit in the function name, I would not treat it as a magic number.\n",
    "    But if we want to be very strict, we can define a constant:\n",
    "    And then use it in the function:\n",
    "      \n",
    "    def multiply_number_by_two(number: int) -> int:\n",
    "        MULTIPLY_BY = 2\n",
    "        return number * MULTIPLY_BY\n",
    "\"\"\")\n",
    "\n",
    "\n",
    "print(\"\"\"\n",
    "answer 2c:\n",
    "    Since the function can accept both int and float, we can use the Union type hint.\n",
    "    We will discuss this more in lecture 5 where we will dive into functions.\n",
    "      \n",
    "    from typing import Union \n",
    "    def multiply_number_by_two(number: Union[int, float]) -> Union[int, float]:\n",
    "        return number * 2\n",
    "      \n",
    "    If for now you just only put in int, that is also fine.\n",
    "      \n",
    "    def multiply_number_by_two(number: int) -> int:\n",
    "        return number * 2\n",
    "\"\"\")\n",
    "\n",
    "\n",
    "print('''\n",
    "answer 2d:\n",
    "    def multiply_number_by_two(number: Union[int, float]) -> Union[int, float]:\n",
    "        \"\"\"\n",
    "        Multiplies the input number by 2.\n",
    "        \n",
    "        Args:\n",
    "            number (Union[int, float]): The number to be multiplied.\n",
    "        \n",
    "        Returns:\n",
    "            Union[int, float]: The result of the multiplication.\n",
    "        \"\"\"\n",
    "        return number * 2\n",
    "      \n",
    "\n",
    "    You can skip the Args and Returns if you think it is overkill,\n",
    "    but these conventions are different in different companies and/ or projects.\n",
    "''')"
   ]
  },
  {
   "cell_type": "code",
   "execution_count": null,
   "metadata": {},
   "outputs": [],
   "source": [
    "# Question 3a: Correct the following names\n",
    "class no_file_found(Exception):\n",
    "    def __init__(self, MESSAGE):\n",
    "        super().__init__(MESSAGE)\n",
    "\n",
    "\n",
    "# Question 3b: Add type hints to the function\n",
    "\n",
    "# Question 3c: Add a docstring to the function"
   ]
  },
  {
   "cell_type": "code",
   "execution_count": null,
   "metadata": {},
   "outputs": [],
   "source": [
    "# your answer here"
   ]
  },
  {
   "cell_type": "code",
   "execution_count": null,
   "metadata": {},
   "outputs": [],
   "source": [
    "# answer\n",
    "\n",
    "print(\"\"\"\n",
    "answer 3a:\n",
    "    Make sure you use PascalCase for classes and snake_case for variables, and since it is an error,\n",
    "    it should end with Error.\n",
    "    class FileNotFoundError(Exception):\n",
    "        def __init__(self, message):\n",
    "            super().__init__(message)\n",
    "\"\"\")\n",
    "\n",
    "print(\"\"\"\n",
    "answer 3b:\n",
    "    class FileNotFoundError(Exception):\n",
    "        def __init__(self, message: str) -> None:\n",
    "            super().__init__(message)\n",
    "      \n",
    "\n",
    "    The Exception you pass into the FileNotFoundError, is not a input variable, but syntax that makes the \n",
    "    FileNotFoundError a subclass of Exception, so it does not need a type hint. \n",
    "    We will discuss this more in lecture 6 where we will dive into classes.\n",
    "      \n",
    "    We also do not type hint self, since it is implicit in the class definition. Also we will discuss this\n",
    "    in lecture 6.\n",
    "      \n",
    "    Lastly, you write '-> None' as the return type if the function does not return anything.\n",
    "\"\"\")\n",
    "\n",
    "print('''\n",
    "answer 3c:\n",
    "    class FileNotFoundError(Exception):\n",
    "        \"\"\"Exception raised when a file is not found.\"\"\"\n",
    "      \n",
    "        def __init__(self, message: str) -> None:\n",
    "            \"\"\"\n",
    "            Initialize the FileNotFoundError with a message.\n",
    "      \n",
    "            Args:\n",
    "                message (str): Error message to be displayed.\n",
    "            \"\"\"\n",
    "            super().__init__(message)\n",
    "''')"
   ]
  },
  {
   "cell_type": "markdown",
   "metadata": {},
   "source": [
    "# List comprehension"
   ]
  },
  {
   "cell_type": "code",
   "execution_count": null,
   "metadata": {},
   "outputs": [],
   "source": [
    "# Question 4a: With the help of a for loop, save all fruits wich contain the letter 'a' in a new list.append\n",
    "\n",
    "fruits = ['apple', 'banana', 'cherry', 'dragon_fruit', 'date','fig', 'grape']\n",
    "fruits_with_a = []\n",
    "\n",
    "print(fruits_with_a)"
   ]
  },
  {
   "cell_type": "code",
   "execution_count": null,
   "metadata": {},
   "outputs": [],
   "source": [
    "# your answer here"
   ]
  },
  {
   "cell_type": "code",
   "execution_count": null,
   "metadata": {},
   "outputs": [],
   "source": [
    "# answer\n",
    "print(\"\"\"\n",
    "answer 4a:\n",
    "    fruits = ['apple', 'banana', 'cherry', 'dragon_fruit', 'date','fig', 'grape']\n",
    "    fruits_with_a = []\n",
    "    \n",
    "    for fruit in fruits:\n",
    "        if 'a' in fruit:\n",
    "            fruits_with_a.append(fruit)\n",
    "      \n",
    "    print(fruits_with_a)\n",
    "\"\"\")"
   ]
  },
  {
   "cell_type": "code",
   "execution_count": null,
   "metadata": {},
   "outputs": [],
   "source": [
    "# question 4b: Do the same, but now with a list comprehension\n",
    "fruits_with_a = [fruit for fruit in fruits if 'a' in fruit]\n",
    "print(fruits_with_a)"
   ]
  },
  {
   "cell_type": "code",
   "execution_count": null,
   "metadata": {},
   "outputs": [],
   "source": [
    "# your answer here"
   ]
  },
  {
   "cell_type": "code",
   "execution_count": null,
   "metadata": {},
   "outputs": [],
   "source": [
    "# answer\n",
    "print(\"\"\"\n",
    "answer 4b:\n",
    "    fruits = ['apple', 'banana', 'cherry', 'dragon_fruit', 'date','fig', 'grape']\n",
    "    fruits_with_a = [fruit for fruit in fruits if 'a' in fruit]\n",
    "    \n",
    "    print(fruits_with_a)\n",
    "\"\"\")\n",
    "      "
   ]
  },
  {
   "cell_type": "code",
   "execution_count": null,
   "metadata": {},
   "outputs": [],
   "source": [
    "# question 4c: Explain what the following list comprehension does:\n",
    "fruits = ['apple', 'banana', 'cherry', 'dragon_fruit', 'date','fig', 'grape']\n",
    "list_comprehension = [fruit if (len(fruit) >= 5 and fruit.count('a') <= 2) else fruit.upper() for fruit in fruits if 'a' in fruit and 'r' not in fruit]\n",
    "print(list_comprehension)\n",
    "\n"
   ]
  },
  {
   "cell_type": "code",
   "execution_count": null,
   "metadata": {},
   "outputs": [],
   "source": [
    "# your answer here"
   ]
  },
  {
   "cell_type": "code",
   "execution_count": null,
   "metadata": {},
   "outputs": [],
   "source": [
    "# answer\n",
    "print(\"\"\"\n",
    "answer 4c:\n",
    "    We save the fruits which contain the letter 'a' and do not contain the letter 'r'\n",
    "    if the length of the fruit is larger than 5 and the number of 'a' in the fruit is smaller than 2,\n",
    "    we save the fruit as is, otherwise we save the fruit in upper case.\n",
    "      \"\"\")"
   ]
  },
  {
   "cell_type": "code",
   "execution_count": null,
   "metadata": {},
   "outputs": [],
   "source": [
    "# Question 4d: Break the list comprehension down into a for loop and save the if statements as boolean variables\n",
    "fruits = ['apple', 'banana', 'cherry', 'dragon_fruit', 'date','fig', 'grape']\n",
    "\n",
    "list_comprehension = []\n",
    "for fruit in fruits:\n",
    "    contains_a = 'a' in fruit\n",
    "    does_not_contain_r = 'r' not in fruit\n",
    "\n",
    "    if contains_a and does_not_contain_r:\n",
    "        length_check = len(fruit) >= 5\n",
    "        count_check = fruit.count('a') <= 2\n",
    "\n",
    "        if length_check and count_check:\n",
    "            list_comprehension.append(fruit)\n",
    "        else:\n",
    "            list_comprehension.append(fruit.upper())\n"
   ]
  },
  {
   "cell_type": "code",
   "execution_count": null,
   "metadata": {},
   "outputs": [],
   "source": [
    "# your answer here"
   ]
  },
  {
   "cell_type": "code",
   "execution_count": null,
   "metadata": {},
   "outputs": [],
   "source": [
    "# answer\n",
    "print(\"\"\"\n",
    "answer 4d:\n",
    "    list_comprehension = []\n",
    "    for fruit in fruits:\n",
    "        contains_a = 'a' in fruit\n",
    "        does_not_contain_r = 'r' not in fruit\n",
    "\n",
    "        if contains_a and does_not_contain_r:\n",
    "            length_check = len(fruit) >= 5\n",
    "            count_check = fruit.count('a') <= 2\n",
    "\n",
    "            if length_check and count_check:\n",
    "                list_comprehension.append(fruit)\n",
    "            else:\n",
    "                list_comprehension.append(fruit.upper())\n",
    "      \"\"\")"
   ]
  },
  {
   "cell_type": "code",
   "execution_count": null,
   "metadata": {},
   "outputs": [],
   "source": [
    "# Question 4e: You can practice more with list comprehensions here:\n",
    "# https://www.w3schools.com/python/exercise.asp?x=xrcise_lists_comprehension1"
   ]
  },
  {
   "cell_type": "code",
   "execution_count": null,
   "metadata": {},
   "outputs": [],
   "source": [
    "# Question 5a print the following variables in an f-string, printing what each variable means\n",
    "PROFIT = 36000\n",
    "REVENUE = 91000\n",
    "margin_percentage = (REVENUE - PROFIT) / REVENUE\n"
   ]
  },
  {
   "cell_type": "code",
   "execution_count": null,
   "metadata": {},
   "outputs": [],
   "source": [
    "# answer"
   ]
  },
  {
   "cell_type": "code",
   "execution_count": null,
   "metadata": {},
   "outputs": [],
   "source": [
    "# your answer here\n",
    "print(\n",
    "    \"\"\"\n",
    "    answer 5a:    \n",
    "        print(f\"Profit: {PROFIT}, Revenue: {REVENUE}, Margin Percentage: {margin_percentage}\")\n",
    "\n",
    "\"\"\")\n",
    "print(f\"Profit: {PROFIT}, Revenue: {REVENUE}, Margin Percentage: {margin_percentage}\")"
   ]
  },
  {
   "cell_type": "code",
   "execution_count": null,
   "metadata": {},
   "outputs": [],
   "source": [
    "# Question 5b: Use f-string rounding to round the margin percentage to 2 decimal places"
   ]
  },
  {
   "cell_type": "code",
   "execution_count": null,
   "metadata": {},
   "outputs": [],
   "source": [
    "# answer"
   ]
  },
  {
   "cell_type": "code",
   "execution_count": null,
   "metadata": {},
   "outputs": [],
   "source": [
    "# your answer here\n",
    "print(\"\"\"\n",
    "    answer 5b:\n",
    "        print(f\"Profit: {PROFIT}, Revenue: {REVENUE}, Margin Percentage: {margin_percentage:.2f}\")\n",
    "\"\"\")\n",
    "print(f\"Profit: {PROFIT}, Revenue: {REVENUE}, Margin Percentage: {margin_percentage:.2f}\")"
   ]
  },
  {
   "cell_type": "code",
   "execution_count": null,
   "metadata": {},
   "outputs": [],
   "source": [
    "# Question 5c: Use f-string formatting to print the margin percentage as a percentage with 1 decimal place"
   ]
  },
  {
   "cell_type": "code",
   "execution_count": null,
   "metadata": {},
   "outputs": [],
   "source": [
    "# answer"
   ]
  },
  {
   "cell_type": "code",
   "execution_count": null,
   "metadata": {},
   "outputs": [],
   "source": [
    "# your answer here\n",
    "# answer\n",
    "print(\"\"\"\n",
    "      answer 5c:\n",
    "        print(f\"Profit: {PROFIT}, Revenue: {REVENUE}, Margin Percentage: {margin_percentage:.1%}\")\n",
    "\"\"\")\n",
    "print(f\"Profit: {PROFIT}, Revenue: {REVENUE}, Margin Percentage: {margin_percentage:.1%}\")"
   ]
  },
  {
   "cell_type": "code",
   "execution_count": null,
   "metadata": {},
   "outputs": [],
   "source": [
    "# Question 5d: print the price of the \"banana\" key in the following dictionary in an f-string\n",
    "fruit_prices = {\n",
    "    \"apple\": 1.2,\n",
    "    \"banana\": 0.5,\n",
    "    \"cherry\": 2.5,\n",
    "    \"dragon_fruit\": 3.0\n",
    "}\n",
    "\n",
    "# answer\n",
    "# your answer here\n"
   ]
  },
  {
   "cell_type": "code",
   "execution_count": null,
   "metadata": {},
   "outputs": [],
   "source": [
    "# answer"
   ]
  },
  {
   "cell_type": "code",
   "execution_count": null,
   "metadata": {},
   "outputs": [],
   "source": [
    "# your answer here\n",
    "print(\"\"\"\n",
    "    answer 5d:\n",
    "        This can be a tricky one, as you can not use double quotes in the f-string as the f-string itself is\n",
    "        already in double quotes. So you have to use single quotes for accessing the key in the dictionary.\n",
    "        \n",
    "        print(f\"Price of banana: {fruit_prices['banana']}\")\n",
    "        \n",
    "        You could also use single quotes for the f-string and double quotes for the key in the dictionary.\n",
    "        print(f'Price of banana: {fruit_prices[\"banana\"]}')\n",
    "\"\"\")\n",
    "print(f\"Price of banana: {fruit_prices['banana']}\")"
   ]
  },
  {
   "cell_type": "code",
   "execution_count": null,
   "metadata": {},
   "outputs": [],
   "source": [
    "# Question 5e: loop over the following dictionary and print the key and value in an f-string\n",
    "PROGRAMMING_LANGUAGES = {\n",
    "    \"python\": 100,\n",
    "    \"R\": 80,\n",
    "    \"visual_basic\": 10,\n",
    "}"
   ]
  },
  {
   "cell_type": "code",
   "execution_count": null,
   "metadata": {},
   "outputs": [],
   "source": [
    "# answer"
   ]
  },
  {
   "cell_type": "code",
   "execution_count": null,
   "metadata": {},
   "outputs": [],
   "source": [
    "# your answer here\n",
    "print(\"\"\"\n",
    "    answer 5e:\n",
    "        for language in PROGRAMMING_LANGUAGES:\n",
    "            print(f\"{language}: {PROGRAMMING_LANGUAGES[language]}\")\n",
    "\"\"\")"
   ]
  },
  {
   "cell_type": "code",
   "execution_count": null,
   "metadata": {},
   "outputs": [],
   "source": [
    "# Question 5f: Read the following page: https://www.geeksforgeeks.org/string-alignment-in-python-f-string/\n",
    "# and use alignment in a f-string to make the language middle aligned and the value left aligned"
   ]
  },
  {
   "cell_type": "code",
   "execution_count": null,
   "metadata": {},
   "outputs": [],
   "source": [
    "# answer"
   ]
  },
  {
   "cell_type": "code",
   "execution_count": null,
   "metadata": {},
   "outputs": [],
   "source": [
    "# your answer here\n",
    "print(\"\"\"\n",
    "    answer 5f:\n",
    "        for language in PROGRAMMING_LANGUAGES:\n",
    "            print(f\"{language:^20} | {PROGRAMMING_LANGUAGES[language]:<10}\")\n",
    "      \n",
    "    ^20 means we take 20 characters for this variable in total and center the string\n",
    "    <10 means we take 10 characters for this variable in total and left align the string\n",
    "        \"\"\")"
   ]
  },
  {
   "cell_type": "code",
   "execution_count": null,
   "metadata": {},
   "outputs": [],
   "source": [
    "# Question 6a: Refactor (rewrite to make it better) the following code:\n",
    "def get_price_data_query():\n",
    "    query = \"\"\"\n",
    "        SELECT article, store, price, discount\n",
    "        FROM `adidas_pricing.prince_project.price_data`\n",
    "    \"\"\"\n",
    "    return query\n",
    "\n",
    "\n",
    "def get_article_info_query():\n",
    "    query = \"\"\"\n",
    "        SELECT article, description, category\n",
    "        FROM `adidas_pricing.prince_project.article_info`\n",
    "    \"\"\"\n",
    "    return query\n",
    "\n",
    "def get_store_info_query():\n",
    "    query = \"\"\"\n",
    "        SELECT store, country, city\n",
    "        FROM `adidas_pricing.prince_project.store_info`\n",
    "    \"\"\"\n",
    "    return query\n",
    "\n",
    "\n",
    "price_data_query = get_price_data_query()\n",
    "article_info_query = get_article_info_query()\n",
    "store_info_query = get_store_info_query()"
   ]
  },
  {
   "cell_type": "code",
   "execution_count": null,
   "metadata": {},
   "outputs": [],
   "source": [
    "# your answer here"
   ]
  },
  {
   "cell_type": "code",
   "execution_count": null,
   "metadata": {},
   "outputs": [],
   "source": [
    "#answer\n",
    "print('''\n",
    "answer 6a:\n",
    "    1. We see that we have 3 functions which are almost identical.\n",
    "    We can refactor this code, by putting all the common code in a single function and\n",
    "    passing their unique parts as parameters. We do this using an f-string.\n",
    "      \n",
    "    2. We can also put the project_name and dataset_name in a constant. This helps with readability\n",
    "     and also makes it easier to change the project name and dataset name in the future.\n",
    "      \n",
    "    3. We do need to add a small piece of code that makes sure we convert our list into a format that the query can use.\n",
    "        columns_str = \", \".join(columns)\n",
    "    \n",
    "    4. While we are at it, we can also add type hints and a docstring to the function.\n",
    "    \n",
    "      \n",
    "    The refactored code looks like something like this:\n",
    "      \n",
    "    def get_query(table_name: str, columns: list) -> str:\n",
    "        \"\"\"\n",
    "        Generates a SQL query to select specified columns from a given table.\n",
    "      \n",
    "        Args:\n",
    "            table_name (str): The name of the table to query.\n",
    "            columns (list): A list of column names to select.\n",
    "      \n",
    "        Returns:\n",
    "            str: The SQL query string.\n",
    "        \"\"\"\n",
    "      \n",
    "        PROJECT_NAME = \"adidas_pricing\"\n",
    "        DATASET_NAME = \"prince_project\"\n",
    "      \n",
    "        columns_str = \", \".join(columns)\n",
    "\n",
    "        query = f\"\"\"\n",
    "            SELECT {columns_str}\n",
    "            FROM `{PROJECT_NAME}.{DATASET_NAME}.{table_name}`\n",
    "        \"\"\"\n",
    "        return query\n",
    "\n",
    "    price_data_query = get_query(\"price_data\", [\"article\", \"store\", \"price\", \"discount\"])\n",
    "    article_info_query = get_query(\"article_info\", [\"article\", \"description\", \"category\"])\n",
    "    store_info_query = get_query(\"store_info\", [\"store\", \"country\", \"city\"])\n",
    "      \n",
    "    ''')"
   ]
  },
  {
   "cell_type": "code",
   "execution_count": null,
   "metadata": {},
   "outputs": [],
   "source": [
    "# Question 6b: You get a message from Adidas that they will be switching database names, would you prefer to have the\n",
    "# original code or the refactored code? Why?\n",
    "\n",
    "# Question 6c: We also decided to retrieve the country_info specific info from the database, this is stored in the\n",
    "# country_info table. would you prefer to add this feature to the original code or the refactored code? Why?\n",
    "\n",
    "# Question 6d: Now that we have the country_info table, we also need to retrieve the country name from all other\n",
    "# tables. Would you prefer to add this feature to the original code or the refactored code? Why?\n"
   ]
  },
  {
   "cell_type": "code",
   "execution_count": null,
   "metadata": {},
   "outputs": [],
   "source": [
    "# your answer here"
   ]
  },
  {
   "cell_type": "code",
   "execution_count": null,
   "metadata": {},
   "outputs": [],
   "source": [
    "# answer\n",
    "print(\"\"\"\n",
    "In general, we refactor code to make it more readable and maintainable. Hopefully you see that with this refactored\n",
    "code, exactly this is possible. Great software engineers keep these ideas in the back of their head every time\n",
    "they write a piece of code. Hopefully you start to get warmed up to this idea and way of working.\n",
    "This will be a big part of the next lectures.     \n",
    "\"\"\")"
   ]
  }
 ],
 "metadata": {
  "kernelspec": {
   "display_name": "sparo",
   "language": "python",
   "name": "python3"
  },
  "language_info": {
   "codemirror_mode": {
    "name": "ipython",
    "version": 3
   },
   "file_extension": ".py",
   "mimetype": "text/x-python",
   "name": "python",
   "nbconvert_exporter": "python",
   "pygments_lexer": "ipython3",
   "version": "3.10.5"
  }
 },
 "nbformat": 4,
 "nbformat_minor": 2
}
