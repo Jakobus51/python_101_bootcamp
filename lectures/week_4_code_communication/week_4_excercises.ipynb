{
 "cells": [
  {
   "cell_type": "markdown",
   "metadata": {},
   "source": [
    "# Readings/ watchings"
   ]
  },
  {
   "cell_type": "markdown",
   "metadata": {},
   "source": [
    "Please also check all the different methods of lists, tuples, sets adn dicts. We do not cover them all:\n",
    "\n",
    "Two very nice video's of the youtuber who in my opinion explains coding beautifully. <br> \n",
    "Video about his take on naming (I stole some of his content): <br> \n",
    "https://www.youtube.com/watch?v=-J3wNP6u5YU&ab_channel=CodeAesthetic <br> \n",
    "\n",
    "Video about how you should never write comments, bit radical but has some interesting takes: <br> \n",
    "https://www.youtube.com/watch?v=Bf7vDBBOBUA&ab_channel=CodeAesthetic <br> \n",
    "\n",
    "Video of my favourite python youtuber about code documentation: <br>\n",
    "https://www.youtube.com/watch?v=L7Ry-Fiij-M&ab_channel=ArjanCodes <br>\n",
    "\n",
    "\n",
    "Lastly a new blog post on why readable matters <br>\n",
    "https://blog.pragmaticengineer.com/readable-code/ <br>\n",
    "\n",
    "this guy also wrote an amazing book on how to grow as a software engineer and how to mentor younger software engineers: <br>\n",
    "https://www.bol.com/nl/nl/p/the-software-engineer-s-guidebook/9300000168794051/?Referrer=ADVNLGOO002008N-S--9300000168794051-PMAX-C-22294771678&gad_source=1&gad_campaignid=22294773253&gbraid=0AAAAAD5OnmPPVWENx0J904MmS6MXkJRdd&gclid=CjwKCAjwz_bABhAGEiwAm-P8YVoIv5OY8tlySoBA7xQ0e0MjMX3LqUhriAMXpQvE2UX6Z4s1VGe2phoC7PgQAvD_BwE <br>\n"
   ]
  }
 ],
 "metadata": {
  "kernelspec": {
   "display_name": ".venv",
   "language": "python",
   "name": "python3"
  },
  "language_info": {
   "codemirror_mode": {
    "name": "ipython",
    "version": 3
   },
   "file_extension": ".py",
   "mimetype": "text/x-python",
   "name": "python",
   "nbconvert_exporter": "python",
   "pygments_lexer": "ipython3",
   "version": "3.10.5"
  }
 },
 "nbformat": 4,
 "nbformat_minor": 2
}
