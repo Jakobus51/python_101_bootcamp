{
 "cells": [
  {
   "cell_type": "markdown",
   "metadata": {},
   "source": [
    "# What happens when you run a python file?"
   ]
  },
  {
   "cell_type": "code",
   "execution_count": null,
   "metadata": {},
   "outputs": [],
   "source": [
    "from lectures.week_2_flow_control import test_imports\n",
    "\n",
    "print(\"Hello ADC!\")"
   ]
  },
  {
   "cell_type": "code",
   "execution_count": null,
   "metadata": {},
   "outputs": [],
   "source": [
    "print(__name__)"
   ]
  },
  {
   "cell_type": "code",
   "execution_count": null,
   "metadata": {},
   "outputs": [],
   "source": [
    "if __name__ == \"__main__\":\n",
    "    print(\"This is the main module.\")"
   ]
  },
  {
   "cell_type": "code",
   "execution_count": null,
   "metadata": {},
   "outputs": [],
   "source": [
    "from lectures.week_2_flow_control import test_imports_with_main\n",
    "\n",
    "print(\"Hello ADC!\")"
   ]
  },
  {
   "cell_type": "markdown",
   "metadata": {},
   "source": [
    "# Flow control basics\n",
    "# if, else, elif, match, case"
   ]
  },
  {
   "cell_type": "code",
   "execution_count": null,
   "metadata": {},
   "outputs": [],
   "source": [
    "print(\"0, 0.0, '', [], (), {}, None\")"
   ]
  },
  {
   "cell_type": "code",
   "execution_count": null,
   "metadata": {},
   "outputs": [],
   "source": [
    "x_bool = False\n",
    "\n",
    "if x_bool:\n",
    "    print(\"Option A\")\n",
    "else:\n",
    "    print(\"Option B\")"
   ]
  },
  {
   "cell_type": "code",
   "execution_count": null,
   "metadata": {},
   "outputs": [],
   "source": [
    "x_int = 0\n",
    "\n",
    "if x_int:\n",
    "    print(\"Option A\")\n",
    "else:\n",
    "    print(\"Option B\")"
   ]
  },
  {
   "cell_type": "code",
   "execution_count": null,
   "metadata": {},
   "outputs": [],
   "source": [
    "x_float = 0.0\n",
    "\n",
    "if x_float:\n",
    "    print(\"Option A\")\n",
    "else:\n",
    "    print(\"Option B\")"
   ]
  },
  {
   "cell_type": "code",
   "execution_count": null,
   "metadata": {},
   "outputs": [],
   "source": [
    "x_str = \"\"\n",
    "\n",
    "if x_str:\n",
    "    print(\"Option A\")\n",
    "else:\n",
    "    print(\"Option B\")"
   ]
  },
  {
   "cell_type": "code",
   "execution_count": null,
   "metadata": {},
   "outputs": [],
   "source": [
    "x_list = []\n",
    "\n",
    "if x_list:\n",
    "    print(\"Option A\")\n",
    "else:\n",
    "    print(\"Option B\")"
   ]
  },
  {
   "cell_type": "code",
   "execution_count": null,
   "metadata": {},
   "outputs": [],
   "source": [
    "x_tuple = ()\n",
    "\n",
    "if x_tuple:\n",
    "    print(\"Option A\")\n",
    "else:\n",
    "    print(\"Option B\")"
   ]
  },
  {
   "cell_type": "code",
   "execution_count": null,
   "metadata": {},
   "outputs": [],
   "source": [
    "x_set = {}\n",
    "\n",
    "if x_set:\n",
    "    print(\"Option A\")\n",
    "else:\n",
    "    print(\"Option B\")"
   ]
  },
  {
   "cell_type": "code",
   "execution_count": null,
   "metadata": {},
   "outputs": [],
   "source": [
    "x_None = None\n",
    "\n",
    "if x_None:\n",
    "    print(\"Option A\")\n",
    "else:\n",
    "    print(\"Option B\")"
   ]
  },
  {
   "cell_type": "code",
   "execution_count": null,
   "metadata": {},
   "outputs": [],
   "source": [
    "x_list = []\n",
    "\n",
    "if len(x_list) > 0:\n",
    "    print(\"Option A\")\n",
    "else:\n",
    "    print(\"Option B\")"
   ]
  },
  {
   "cell_type": "code",
   "execution_count": null,
   "metadata": {},
   "outputs": [],
   "source": [
    "day = \"friday\"\n",
    "\n",
    "if day == \"friday\":\n",
    "    print(\"Vrijmibo time!!!\")"
   ]
  },
  {
   "cell_type": "code",
   "execution_count": null,
   "metadata": {},
   "outputs": [],
   "source": [
    "day = \"monday\"\n",
    "\n",
    "if day == \"friday\":\n",
    "    print(\"Vrijmibo time!!!\")\n",
    "else:\n",
    "    print(\"No Vrijmibo time :(\")\n"
   ]
  },
  {
   "cell_type": "code",
   "execution_count": null,
   "metadata": {},
   "outputs": [],
   "source": [
    "day = \"Jochem\"\n",
    "\n",
    "if day == \"friday\":\n",
    "    print(\"Vrijmibo time!!!\")\n",
    "elif day == \"saturday\":\n",
    "    print(\"Zamibo time?\")\n",
    "elif day == \"sunday\":\n",
    "    print(\"Zomibo time!\")\n",
    "elif day == \"monday\":\n",
    "    print(\"Mamibo time\")\n",
    "elif day == \"tuesday\":\n",
    "    print(\"Dimibo time\")\n",
    "elif day == \"wednesday\":\n",
    "    print(\"Woemibo time\")\n",
    "elif day == \"thursday\":\n",
    "    print(\"Domibo time\")\n",
    "else:\n",
    "    print(\"This is not a valid day of the week\")\n"
   ]
  },
  {
   "cell_type": "code",
   "execution_count": null,
   "metadata": {},
   "outputs": [],
   "source": [
    "day = \"Jochem\"\n",
    "\n",
    "match day:\n",
    "    case \"friday\":\n",
    "        print(\"Vrijmibo time!!!\")\n",
    "    case \"saturday\":\n",
    "        print(\"Zamibo time?\")\n",
    "    case \"sunday\":\n",
    "        print(\"Zomibo time!\")\n",
    "    case \"monday\":\n",
    "        print(\"Mamibo time\")\n",
    "    case \"tuesday\":\n",
    "        print(\"Dimibo time\")\n",
    "    case \"wednesday\":\n",
    "        print(\"Woemibo time\")\n",
    "    case \"thursday\":\n",
    "        print(\"Domibo time\")\n",
    "    case _:\n",
    "        print(\"This is not a valid day of the week\")\n"
   ]
  },
  {
   "cell_type": "markdown",
   "metadata": {},
   "source": [
    "# for, while, break, continue"
   ]
  },
  {
   "cell_type": "code",
   "execution_count": null,
   "metadata": {},
   "outputs": [],
   "source": [
    "x_list = [\"Astrid\", \"Jochem\", \"Jaap\"]\n",
    "for name in x_list:\n",
    "    print(name)"
   ]
  },
  {
   "cell_type": "code",
   "execution_count": null,
   "metadata": {},
   "outputs": [],
   "source": [
    "x_set = {\"Astrid\", \"Jochem\", \"Jaap\"}\n",
    "for name in x_set:\n",
    "    print(name)"
   ]
  },
  {
   "cell_type": "code",
   "execution_count": null,
   "metadata": {},
   "outputs": [],
   "source": [
    "x_int = 3\n",
    "for i in x_int:\n",
    "    print(i)"
   ]
  },
  {
   "cell_type": "code",
   "execution_count": null,
   "metadata": {},
   "outputs": [],
   "source": [
    "test = dict"
   ]
  },
  {
   "cell_type": "code",
   "execution_count": null,
   "metadata": {},
   "outputs": [],
   "source": [
    "x_dict = {\n",
    "    \"tomato\": \"red\",\n",
    "    \"banana\": \"yellow\",\n",
    "    \"kiwi\": \"green\",\n",
    "}\n",
    "for fruit in x_dict:\n",
    "    print(f\"{fruit} {x_dict[fruit]}\")"
   ]
  },
  {
   "cell_type": "code",
   "execution_count": null,
   "metadata": {},
   "outputs": [],
   "source": [
    "x_dict = {\"tomato\": \"red\", \"banana\": \"yellow\", \"kiwi\": \"green\"}\n",
    "for fruit, color in x_dict.items():\n",
    "    print(fruit, color)"
   ]
  },
  {
   "cell_type": "code",
   "execution_count": null,
   "metadata": {},
   "outputs": [],
   "source": [
    "x_dict = {\"tomato\": \"red\", \"banana\": \"yellow\", \"kiwi\": \"green\"}\n",
    "for color in x_dict.values():\n",
    "    print(color)"
   ]
  },
  {
   "cell_type": "code",
   "execution_count": null,
   "metadata": {},
   "outputs": [],
   "source": [
    "x_dict = {\"tomato\": \"red\", \"banana\": \"yellow\", \"kiwi\": \"green\"}\n",
    "for fruit in x_dict.keys():\n",
    "    print(fruit)"
   ]
  },
  {
   "cell_type": "code",
   "execution_count": null,
   "metadata": {},
   "outputs": [],
   "source": [
    "x_str = \"Retail is the best!\"\n",
    "for i in x_str:\n",
    "    print(i)"
   ]
  },
  {
   "cell_type": "code",
   "execution_count": null,
   "metadata": {},
   "outputs": [],
   "source": [
    "x_list = [\"Astrid\", \"Jochem\", \"Jaap\"]\n",
    "for index, name in enumerate(x_list):\n",
    "    print(index, name)"
   ]
  },
  {
   "cell_type": "code",
   "execution_count": null,
   "metadata": {},
   "outputs": [],
   "source": [
    "x_str = \"Retail is the best!\"\n",
    "for index, letter in enumerate(x_str):\n",
    "    print(index, letter)"
   ]
  },
  {
   "cell_type": "code",
   "execution_count": null,
   "metadata": {},
   "outputs": [],
   "source": [
    "optimization_value = 0\n",
    "\n",
    "while optimization_value < 5:\n",
    "    print(optimization_value)\n",
    "    optimization_value -= 1"
   ]
  },
  {
   "cell_type": "code",
   "execution_count": null,
   "metadata": {},
   "outputs": [],
   "source": [
    "optimization_value = 0\n",
    "\n",
    "while optimization_value < 5:\n",
    "    print(optimization_value)\n",
    "    optimization_value -= 1\n",
    "\n",
    "    if optimization_value < -10:\n",
    "        print(\"Optimization value is too low\")\n",
    "        break\n"
   ]
  },
  {
   "cell_type": "code",
   "execution_count": null,
   "metadata": {},
   "outputs": [],
   "source": [
    "for i in range(10):\n",
    "    if i == 8:\n",
    "        print(\"When we reach 8, we will break\")\n",
    "        break\n",
    "    else:\n",
    "        print(i)\n"
   ]
  },
  {
   "cell_type": "code",
   "execution_count": null,
   "metadata": {},
   "outputs": [],
   "source": [
    "for i in range(10):\n",
    "    if i == 8:\n",
    "        print(\"When we reach 8, we will break\")\n",
    "        break\n",
    "    if i %2 != 0:\n",
    "        # Skip odd numbers\n",
    "        ...\n",
    "    \n",
    "    print(i)\n"
   ]
  },
  {
   "cell_type": "code",
   "execution_count": null,
   "metadata": {},
   "outputs": [],
   "source": [
    "for i in range(10):\n",
    "    if i == 8:\n",
    "        print(\"When we reach 8, we will break\")\n",
    "        break\n",
    "    if i %2 != 0:\n",
    "        # do nothing at odd numbers\n",
    "        pass\n",
    "    \n",
    "    print(i)\n"
   ]
  },
  {
   "cell_type": "code",
   "execution_count": null,
   "metadata": {},
   "outputs": [],
   "source": [
    "x_string = \"vrijdag\"\n",
    "\n",
    "if x_string == \"vrijdag\":\n",
    "    # TODO: Need to fill out logic for Vrijmibo\n",
    "    ...\n",
    "else:\n",
    "    print(\"No Vrijmibo time :(\")"
   ]
  },
  {
   "cell_type": "code",
   "execution_count": 6,
   "metadata": {},
   "outputs": [
    {
     "name": "stdout",
     "output_type": "stream",
     "text": [
      "Example file\n"
     ]
    }
   ],
   "source": [
    "file_name = \"lectures/week_2_flow_control/example.txt\"\n",
    "with open(file_name, \"r\") as file:\n",
    "    content = file.read()\n",
    "    print(content) "
   ]
  },
  {
   "cell_type": "code",
   "execution_count": 7,
   "metadata": {},
   "outputs": [
    {
     "name": "stdout",
     "output_type": "stream",
     "text": [
      "Example file\n"
     ]
    }
   ],
   "source": [
    "file_name = \"lectures/week_2_flow_control/example.txt\"\n",
    "file = open(file_name, \"r\")\n",
    "content = file.read()\n",
    "print(content)\n",
    "file.close() "
   ]
  },
  {
   "cell_type": "markdown",
   "metadata": {},
   "source": [
    "# (Custom) Error handling"
   ]
  },
  {
   "cell_type": "code",
   "execution_count": null,
   "metadata": {},
   "outputs": [
    {
     "name": "stdout",
     "output_type": "stream",
     "text": [
      "File Thomas not found\n",
      "do something with the dataframe\n"
     ]
    }
   ],
   "source": [
    "import polars as pl\n",
    "\n",
    "file_name = \"Thomas\"\n",
    "df = pl.read_csv(file_name)\n",
    "\n",
    "print(\"do something with the dataframe\")"
   ]
  },
  {
   "cell_type": "code",
   "execution_count": null,
   "metadata": {},
   "outputs": [],
   "source": [
    "import polars as pl\n",
    "\n",
    "file_name = \"Thomas\"\n",
    "try:\n",
    "    df = pl.read_csv(file_name)\n",
    "    print(df)\n",
    "except:\n",
    "    print(f\"File {file_name} not found\")\n",
    "\n",
    "print(\"do something with the dataframe\")"
   ]
  },
  {
   "cell_type": "code",
   "execution_count": 100,
   "metadata": {},
   "outputs": [
    {
     "name": "stdout",
     "output_type": "stream",
     "text": [
      "shape: (3, 1)\n",
      "┌───────┐\n",
      "│ Naam  │\n",
      "│ ---   │\n",
      "│ str   │\n",
      "╞═══════╡\n",
      "│ Petr  │\n",
      "│ Max   │\n",
      "│ Negin │\n",
      "└───────┘\n",
      "do something with the dataframe\n"
     ]
    }
   ],
   "source": [
    "import polars as pl\n",
    "\n",
    "file_name = \"lectures/week_2_flow_control/jakobs_beste_vrienden.csv\"\n",
    "try:\n",
    "    df = pl.read_csv(file_name)\n",
    "    print(df)\n",
    "except:\n",
    "    print(f\"File {file_name} not found\")\n",
    "\n",
    "print(\"do something with the dataframe\")"
   ]
  },
  {
   "cell_type": "code",
   "execution_count": 98,
   "metadata": {},
   "outputs": [
    {
     "name": "stdout",
     "output_type": "stream",
     "text": [
      "File thomas not found\n",
      "do something with the dataframe\n"
     ]
    }
   ],
   "source": [
    "import polars as pl\n",
    "\n",
    "file_name = \"thomas\"\n",
    "try:\n",
    "    df = pl.read_csv(file_name)\n",
    "    print(df)\n",
    "except FileNotFoundError:\n",
    "    print(f\"File {file_name} not found\")\n",
    "except ValueError:\n",
    "  print(\"Value error\")\n",
    "\n",
    "\n",
    "print(\"do something with the dataframe\")"
   ]
  },
  {
   "cell_type": "code",
   "execution_count": 104,
   "metadata": {},
   "outputs": [
    {
     "name": "stdout",
     "output_type": "stream",
     "text": [
      "shape: (3, 1)\n",
      "┌───────┐\n",
      "│ Naam  │\n",
      "│ ---   │\n",
      "│ str   │\n",
      "╞═══════╡\n",
      "│ Petr  │\n",
      "│ Max   │\n",
      "│ Negin │\n",
      "└───────┘\n",
      "File was found\n",
      "do something with the dataframe\n"
     ]
    }
   ],
   "source": [
    "import polars as pl\n",
    "\n",
    "file_name = \"lectures/week_2_flow_control/jakobs_beste_vrienden.csv\"\n",
    "try:\n",
    "    df = pl.read_csv(file_name)\n",
    "    print(df)\n",
    "except FileNotFoundError:\n",
    "    print(f\"File {file_name} not found\")\n",
    "else:\n",
    "    print(\"File was found\")\n",
    "\n",
    "print(\"do something with the dataframe\")"
   ]
  },
  {
   "cell_type": "code",
   "execution_count": 114,
   "metadata": {},
   "outputs": [
    {
     "name": "stdout",
     "output_type": "stream",
     "text": [
      "<class 'FileNotFoundError'>\n",
      "No such file or directory (os error 2): thomas\n"
     ]
    }
   ],
   "source": [
    "import polars as pl\n",
    "\n",
    "file_name = \"thomas\"\n",
    "try:\n",
    "    df = pl.read_csv(file_name)\n",
    "except FileNotFoundError as error:\n",
    "    print(type(error))\n",
    "    print(error)\n"
   ]
  },
  {
   "cell_type": "code",
   "execution_count": 126,
   "metadata": {},
   "outputs": [],
   "source": [
    "class ThomasIsNotAFileError(Exception):\n",
    "    def __init__(self):\n",
    "        self.message = \"Thomas is not a file\"\n",
    "        super().__init__(self.message)\n"
   ]
  },
  {
   "cell_type": "code",
   "execution_count": null,
   "metadata": {},
   "outputs": [
    {
     "name": "stdout",
     "output_type": "stream",
     "text": [
      "<class '__main__.ThomasIsNotAFileError'>\n",
      "Thomas is not a file\n"
     ]
    }
   ],
   "source": [
    "import polars as pl\n",
    "\n",
    "file_name = \"thomas\"\n",
    "try:\n",
    "    if file_name == \"thomas\":\n",
    "        raise ThomasIsNotAFileError()\n",
    "    df = pl.read_csv(file_name)\n",
    "except FileNotFoundError as error:\n",
    "    print(type(error))\n",
    "    print(error)\n",
    "except ThomasIsNotAFileError as error:\n",
    "    print(type(error))\n",
    "    print(error)\n"
   ]
  },
  {
   "cell_type": "markdown",
   "metadata": {},
   "source": [
    "# Enums"
   ]
  },
  {
   "cell_type": "code",
   "execution_count": null,
   "metadata": {},
   "outputs": [
    {
     "name": "stdout",
     "output_type": "stream",
     "text": [
      "This is not a valid day of the week\n"
     ]
    }
   ],
   "source": [
    "day = \"Friday\"\n",
    "\n",
    "if day == \"friday\":\n",
    "    print(\"Vrijmibo time!!!\")\n",
    "elif day == \"saturday\":\n",
    "    print(\"Zamibo time?\")\n",
    "elif day == \"sunday\":\n",
    "    print(\"Zomibo time!\")\n",
    "elif day == \"monday\":\n",
    "    print(\"Mamibo time\")\n",
    "elif day == \"tuesday\":\n",
    "    print(\"Dimibo time\")\n",
    "elif day == \"wednesday\":\n",
    "    print(\"Woemibo time\")\n",
    "elif day == \"thursday\":\n",
    "    print(\"Domibo time\")\n",
    "else:\n",
    "    print(\"This is not a valid day of the week\")"
   ]
  },
  {
   "cell_type": "code",
   "execution_count": null,
   "metadata": {},
   "outputs": [],
   "source": [
    "from enum import Enum\n",
    "\n",
    "class DayOfTheWeek(Enum):\n",
    "    MONDAY = 1\n",
    "    TUESDAY = 2\n",
    "    WEDNESDAY = 3\n",
    "    THURSDAY = 4\n",
    "    FRIDAY = 5\n",
    "    SATURDAY = 6\n",
    "    SUNDAY = 7\n",
    "  \n",
    "\n",
    "day = DayOfTheWeek.FRIDAY\n",
    "\n",
    "if day == DayOfTheWeek.FRIDAY:\n",
    "    print(\"Vrijmibo time!!!\")\n",
    "elif day == DayOfTheWeek.SATURDAY:\n",
    "    print(\"Zamibo time?\")\n",
    "elif day == DayOfTheWeek.SUNDAY:\n",
    "    print(\"Zomibo time!\")\n",
    "elif day == DayOfTheWeek.MONDAY:\n",
    "    print(\"Mamibo time\")\n",
    "elif day == DayOfTheWeek.TUESDAY:\n",
    "    print(\"Dimibo time\")\n",
    "elif day == DayOfTheWeek.WEDNESDAY:\n",
    "    print(\"Woemibo time\")\n",
    "elif day == DayOfTheWeek.THURSDAY:\n",
    "    print(\"Domibo time\")\n"
   ]
  },
  {
   "cell_type": "code",
   "execution_count": 15,
   "metadata": {},
   "outputs": [
    {
     "name": "stdout",
     "output_type": "stream",
     "text": [
      "DayOfTheWeek.FRIDAY\n",
      "FRIDAY\n",
      "5\n"
     ]
    }
   ],
   "source": [
    "from enum import Enum\n",
    "\n",
    "class DayOfTheWeek(Enum):\n",
    "    MONDAY = 1\n",
    "    TUESDAY = 2\n",
    "    WEDNESDAY = 3\n",
    "    THURSDAY = 4\n",
    "    FRIDAY = 5\n",
    "    SATURDAY = 6\n",
    "    SUNDAY = 7\n",
    "  \n",
    "\n",
    "friday = DayOfTheWeek.FRIDAY\n",
    "saturday = DayOfTheWeek(6)\n",
    "print(friday)\n",
    "print(friday.name)\n",
    "print(friday.value)"
   ]
  }
 ],
 "metadata": {
  "kernelspec": {
   "display_name": ".venv",
   "language": "python",
   "name": "python3"
  },
  "language_info": {
   "codemirror_mode": {
    "name": "ipython",
    "version": 3
   },
   "file_extension": ".py",
   "mimetype": "text/x-python",
   "name": "python",
   "nbconvert_exporter": "python",
   "pygments_lexer": "ipython3",
   "version": "3.10.5"
  }
 },
 "nbformat": 4,
 "nbformat_minor": 2
}
