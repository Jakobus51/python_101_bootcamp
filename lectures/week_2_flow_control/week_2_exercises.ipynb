{
 "cells": [
  {
   "cell_type": "markdown",
   "metadata": {},
   "source": [
    "# While"
   ]
  },
  {
   "cell_type": "code",
   "execution_count": null,
   "metadata": {},
   "outputs": [],
   "source": [
    "# Question 1a: Run the following code and explain what is does\n",
    "# Question 1b: Set the denominator to 0 and run the code again. What happens?\n",
    "# Question 1c: Add a check IN the while loop to break the loop if the denominator is 0\n",
    "NOMINATOR = 16\n",
    "DENOMINATOR = 3\n",
    "\n",
    "\n",
    "remainder = NOMINATOR\n",
    "quotient = 0\n",
    "while remainder >= DENOMINATOR:\n",
    "    remainder = remainder - DENOMINATOR\n",
    "    quotient = quotient + 1\n",
    "\n",
    "print(f\"{NOMINATOR} divided by {DENOMINATOR} equals {quotient} with remainder {remainder}\")"
   ]
  },
  {
   "cell_type": "code",
   "execution_count": null,
   "metadata": {},
   "outputs": [],
   "source": [
    "# Your answer here:"
   ]
  },
  {
   "cell_type": "markdown",
   "metadata": {},
   "source": [
    "To see the answer click the play button next to the # answer: cell"
   ]
  },
  {
   "cell_type": "code",
   "execution_count": null,
   "metadata": {},
   "outputs": [],
   "source": [
    "# answer:\n",
    "print(\n",
    "    \"answer 1a:\\n This is a simple division algorithm that calculates the quotient and remainder of NOMINATOR divided by DENOMINATOR using repeated subtraction. It continues subtracting DENOMINATOR from NOMINATOR until the remainder is less than DENOMINATOR, at which point it prints the quotient and remainder.\"\n",
    ")\n",
    "print(\n",
    "    \"answer 1b:\\n If the denominator is set to 0, the code will enter an infinite loop because the condition 'remainder >= DENOMINATOR' will always be true, and the program will not be able to terminate.\"\n",
    ")\n",
    "# answer 1c:\n",
    "print(\"\"\"\n",
    "answer 1c:\n",
    " while remainder >= DENOMINATOR:\n",
    "    if DENOMINATOR == 0:\n",
    "        print(\"Denominator is 0, breaking the loop.\")\n",
    "        break\n",
    "    remainder = remainder - DENOMINATOR\n",
    "    quotient = quotient + 1\n",
    "\"\"\")"
   ]
  },
  {
   "cell_type": "markdown",
   "metadata": {},
   "source": [
    "# For loop"
   ]
  },
  {
   "cell_type": "code",
   "execution_count": null,
   "metadata": {},
   "outputs": [],
   "source": [
    "# Question 2a: write a function that prints the sum of the following list using a for loop\n",
    "x_list = [1, 2, 3, 4, 5, 6, 7, 8, 9, 10]"
   ]
  },
  {
   "cell_type": "code",
   "execution_count": null,
   "metadata": {},
   "outputs": [],
   "source": [
    "# Your answer here:"
   ]
  },
  {
   "cell_type": "code",
   "execution_count": null,
   "metadata": {},
   "outputs": [],
   "source": [
    "# Answer:\n",
    "print(\"answer 2a:\")\n",
    "print(\"\"\"\n",
    "    sum = 0\n",
    "    for number in x_list:\n",
    "        sum = sum + number\n",
    "    print(f\"The sum of the list is {sum}\")\n",
    "\"\"\")"
   ]
  },
  {
   "cell_type": "code",
   "execution_count": null,
   "metadata": {},
   "outputs": [],
   "source": [
    "# Question 2b: write a function that prints the sum of all EVEN numbers by using a continue statement in a for loop\n",
    "x_list = [1, 2, 3, 4, 5, 6, 7, 8, 9, 10]\n",
    "\n",
    "sum = 0\n",
    "for number in x_list:\n",
    "    if number % 2 != 0:\n",
    "        continue\n",
    "    sum = sum + number\n",
    "print(f\"The sum of the even numbers in the list is {sum}\")"
   ]
  },
  {
   "cell_type": "code",
   "execution_count": null,
   "metadata": {},
   "outputs": [],
   "source": [
    "# Your answer here:"
   ]
  },
  {
   "cell_type": "code",
   "execution_count": null,
   "metadata": {},
   "outputs": [],
   "source": [
    "# Answer:\n",
    "print(\"answer 2b:\")\n",
    "print(\"\"\"\n",
    "    sum = 0\n",
    "    for number in x_list:\n",
    "        if number % 2 != 0:\n",
    "            continue\n",
    "        sum = sum + number\n",
    "    print(f\"The sum of the even numbers in the list is {sum}\")\n",
    "\"\"\")"
   ]
  },
  {
   "cell_type": "code",
   "execution_count": null,
   "metadata": {},
   "outputs": [],
   "source": [
    "# Question 2c: write a function that prints the sum of all numbers using a for loop, but let it break if the sum is greater than 20\n",
    "x_list = [1, 2, 3, 4, 5, 6, 7, 8, 9, 10]"
   ]
  },
  {
   "cell_type": "code",
   "execution_count": null,
   "metadata": {},
   "outputs": [],
   "source": [
    "# Your answer here:"
   ]
  },
  {
   "cell_type": "code",
   "execution_count": null,
   "metadata": {},
   "outputs": [],
   "source": [
    "# Answer:\n",
    "print(\"answer 2c:\")\n",
    "print(\"\"\"\n",
    "    sum = 0\n",
    "    for number in x_list:\n",
    "        sum = sum + number\n",
    "        if sum > 20:\n",
    "            print(\"Sum exceeded 20, breaking the loop.\")\n",
    "            break\n",
    "    print(f\"The sum of the numbers in the list is {sum}\")\n",
    "\"\"\")"
   ]
  },
  {
   "cell_type": "code",
   "execution_count": null,
   "metadata": {},
   "outputs": [],
   "source": [
    "# Question 3a: Print how many times the letter 'a' or \"A\" appears in the name variable below\n",
    "name = \"Amsterdam Data Collective\""
   ]
  },
  {
   "cell_type": "code",
   "execution_count": null,
   "metadata": {},
   "outputs": [],
   "source": [
    "# Your answer here:"
   ]
  },
  {
   "cell_type": "code",
   "execution_count": null,
   "metadata": {},
   "outputs": [],
   "source": [
    "# Answer:\n",
    "print(\"answer 3a:\")\n",
    "print(\"\"\"\n",
    "    counter = 0\n",
    "    for letter in name:\n",
    "        if letter == \"a\" or letter == \"A\":\n",
    "            counter = counter + 1\n",
    "    print(f\"The letter 'a' appears {counter} times in the string '{name}'\")\n",
    "\"\"\")"
   ]
  },
  {
   "cell_type": "code",
   "execution_count": null,
   "metadata": {},
   "outputs": [],
   "source": [
    "# Question 3b: Print the index of all occurrences of the letter 'a' or \"A\" in the name variable below\n",
    "# Tip: use the enumerate function\n",
    "name = \"Amsterdam Data Collective\""
   ]
  },
  {
   "cell_type": "code",
   "execution_count": null,
   "metadata": {},
   "outputs": [],
   "source": [
    "# Your answer here:"
   ]
  },
  {
   "cell_type": "code",
   "execution_count": null,
   "metadata": {},
   "outputs": [],
   "source": [
    "# Answer:\n",
    "print(\"answer 3b:\")\n",
    "print(\"\"\"\n",
    "    counter = 0\n",
    "    for letter in name:\n",
    "        if letter == \"a\" or letter == \"A\":\n",
    "            counter = counter + 1\n",
    "    print(f\"The letter 'a' appears {counter} times in the string '{name}'\")\n",
    "\"\"\")"
   ]
  },
  {
   "cell_type": "markdown",
   "metadata": {},
   "source": [
    "# If, elif else, match- case"
   ]
  },
  {
   "cell_type": "code",
   "execution_count": null,
   "metadata": {},
   "outputs": [],
   "source": [
    "# Question 4a: Write a function that prints the season of the year based on an input month using if, elif and else\n",
    "# make sure you handle incorrect month names\n",
    "favorite_month = \"October\"\n",
    "\n",
    "if favorite_month == \"January\" or favorite_month == \"February\" or favorite_month == \"March\":\n",
    "    print(\"Winter\")\n",
    "elif favorite_month == \"April\" or favorite_month == \"May\" or favorite_month == \"June\":\n",
    "    print(\"Spring\")\n",
    "elif favorite_month == \"July\" or favorite_month == \"August\" or favorite_month == \"September\":\n",
    "    print(\"Summer\")\n",
    "elif favorite_month == \"October\" or favorite_month == \"November\" or favorite_month == \"December\":\n",
    "    print(\"Fall\")\n",
    "else:\n",
    "    print(\"Invalid month\")"
   ]
  },
  {
   "cell_type": "code",
   "execution_count": null,
   "metadata": {},
   "outputs": [],
   "source": [
    "# Your answer here:"
   ]
  },
  {
   "cell_type": "code",
   "execution_count": null,
   "metadata": {},
   "outputs": [],
   "source": [
    "# Answer:\n",
    "print(\"answer 4a:\")\n",
    "print(\"\"\"\n",
    "    if favorite_month == \"January\" or favorite_month == \"February\" or favorite_month == \"March\":\n",
    "        print(\"Winter\")\n",
    "    elif favorite_month == \"April\" or favorite_month == \"May\" or favorite_month == \"June\":\n",
    "        print(\"Spring\")\n",
    "    elif favorite_month == \"July\" or favorite_month == \"August\" or favorite_month == \"September\":\n",
    "        print(\"Summer\")\n",
    "    elif favorite_month == \"October\" or favorite_month == \"November\" or favorite_month == \"December\":\n",
    "        print(\"Fall\")\n",
    "    else:\n",
    "        print(\"Invalid month\")\n",
    "\n",
    "\"\"\")"
   ]
  },
  {
   "cell_type": "code",
   "execution_count": null,
   "metadata": {},
   "outputs": [],
   "source": [
    "# Question 4b: Write a function that prints the season of the year based on an input month using a match case statement\n",
    "# Tip: You might need to research how to do or statements using match case statements (we will cover this in the next lesson)\n",
    "favorite_month = \"October\""
   ]
  },
  {
   "cell_type": "code",
   "execution_count": null,
   "metadata": {},
   "outputs": [],
   "source": [
    "# Your answer here:"
   ]
  },
  {
   "cell_type": "code",
   "execution_count": null,
   "metadata": {},
   "outputs": [],
   "source": [
    "# Answer:\n",
    "print(\"answer 4b:\")\n",
    "print(\"\"\"\n",
    "    match favorite_month:\n",
    "        case \"January\" | \"February\" | \"March\":\n",
    "            print(\"Winter\")\n",
    "        case \"April\" | \"May\" | \"June\":\n",
    "            print(\"Spring\")\n",
    "        case \"July\" | \"August\" | \"September\":\n",
    "            print(\"Summer\")\n",
    "        case \"October\" | \"November\" | \"December\":\n",
    "            print(\"Fall\")\n",
    "        case _:\n",
    "            print(\"Invalid month\")\n",
    "\"\"\")"
   ]
  },
  {
   "cell_type": "markdown",
   "metadata": {},
   "source": [
    "# Error handling"
   ]
  },
  {
   "cell_type": "code",
   "execution_count": null,
   "metadata": {},
   "outputs": [],
   "source": [
    "# Question 5a: Coming back to our homework of last week, try to cast a string to a float:\n",
    "# And catch the error if it fails, do also print the error message\n",
    "\n",
    "x_string = \"ADC\"\n",
    "x_float = float(x_string)"
   ]
  },
  {
   "cell_type": "code",
   "execution_count": null,
   "metadata": {},
   "outputs": [],
   "source": [
    "# Your answer here:"
   ]
  },
  {
   "cell_type": "code",
   "execution_count": null,
   "metadata": {},
   "outputs": [],
   "source": [
    "# answer:\n",
    "print(\"answer 5a:\")\n",
    "print(\"\"\"\n",
    "    x_string = \"ADC\"\n",
    "    try:\n",
    "        x_float = float(x_string)\n",
    "    except ValueError as error:\n",
    "        print(error)\n",
    "\"\"\")"
   ]
  },
  {
   "cell_type": "code",
   "execution_count": null,
   "metadata": {},
   "outputs": [],
   "source": [
    "# Question 5b: Make a custom AdcIsNotAFloatError\n",
    "# Question 5c: Raise the AdcIsNotAFloatError if the string equals \"ADC\", do make sure to still catch the ValueError\n",
    "\n",
    "x_string = \"ADC\"\n",
    "x_float = float(x_string)"
   ]
  },
  {
   "cell_type": "code",
   "execution_count": null,
   "metadata": {},
   "outputs": [],
   "source": [
    "# Your answer here:"
   ]
  },
  {
   "cell_type": "code",
   "execution_count": null,
   "metadata": {},
   "outputs": [],
   "source": [
    "# answer:\n",
    "print(\"answer 5b:\")\n",
    "print(\"\"\"\n",
    "   class AdcIsNotAFloatError(Exception):\n",
    "        def __init__(self):\n",
    "            self.message = \"ADC is not a float\"\n",
    "            super().__init__(self.message)\n",
    "\"\"\")\n",
    "\n",
    "print(\"answer 5c:\")\n",
    "print(\"\"\"\n",
    "    x_string = \"ADC\"\n",
    "\n",
    "    try:\n",
    "        if x_string == \"ADC\":\n",
    "            raise AdcIsNotAFloatError\n",
    "        x_float = float(x_string)\n",
    "    except ValueError as error:\n",
    "        print(error)\n",
    "    except AdcIsNotAFloatError as error:\n",
    "        print(error)\n",
    "\"\"\")"
   ]
  },
  {
   "cell_type": "markdown",
   "metadata": {},
   "source": [
    "# Enums"
   ]
  },
  {
   "cell_type": "code",
   "execution_count": null,
   "metadata": {},
   "outputs": [],
   "source": [
    "# Question 6a: Make an enum where we define the following optimization strategies:\n",
    "# - ordinary_least_squares\n",
    "# - mixed_linear_model\n",
    "# - neural_network\n",
    "\n",
    "from enum import Enum"
   ]
  },
  {
   "cell_type": "code",
   "execution_count": null,
   "metadata": {},
   "outputs": [],
   "source": [
    "# Your answer here:"
   ]
  },
  {
   "cell_type": "code",
   "execution_count": null,
   "metadata": {},
   "outputs": [],
   "source": [
    "# Answer:\n",
    "print(\"answer 6a:\")\n",
    "print(\"\"\"\n",
    "    from enum import Enum\n",
    "\n",
    "    class OptimizationStrategies(Enum):\n",
    "        OLS = \"ordinary_least_squares\"\n",
    "        MLM = \"mixed_linear_model\"\n",
    "        NN = \"neural_network\"\n",
    "      \"\"\")"
   ]
  },
  {
   "cell_type": "code",
   "execution_count": null,
   "metadata": {},
   "outputs": [],
   "source": [
    "# Question 6b: Fill the optimization_strategy variable with an instance of the enum\n",
    "# And the logic to run the correct optimization strategy based on your chosen optimization_strategy\n",
    "\n",
    "optimization_strategy = ...\n",
    "\n",
    "\n",
    "def RunOrdinaryLeastSquaresOptimization():\n",
    "    print(\"running OLS optimization...\")\n",
    "\n",
    "\n",
    "def RunMixedLinearModelOptimization():\n",
    "    print(\"running Mixed Linear optimization...\")\n",
    "\n",
    "\n",
    "def RunNeuralNetworkOptimization():\n",
    "    print(\"running Neural Network optimization...\")\n",
    "\n",
    "\n",
    "optimization_strategy = ..."
   ]
  },
  {
   "cell_type": "code",
   "execution_count": null,
   "metadata": {},
   "outputs": [],
   "source": [
    "# Your answer here:"
   ]
  },
  {
   "cell_type": "code",
   "execution_count": null,
   "metadata": {},
   "outputs": [],
   "source": [
    "print(\"answer 6b:\")\n",
    "print(\"\"\"\n",
    "    class OptimizationStrategies(Enum):\n",
    "        OLS = \"ordinary_least_squares\"\n",
    "        MLM = \"mixed_linear_model\"\n",
    "        NN = \"neural_network\"\n",
    "\n",
    "    optimization_strategy = OptimizationStrategies.OLS\n",
    "\n",
    "    def RunOrdinaryLeastSquaresOptimization():\n",
    "        print(\"running OLS optimization...\")\n",
    "\n",
    "    def RunMixedLinearModelOptimization():\n",
    "        print(\"running Mixed Linear optimization...\")\n",
    "\n",
    "    def RunNeuralNetworkOptimization():\n",
    "        print(\"running Neural Network optimization...\")\n",
    "      \n",
    "\n",
    "    if optimization_strategy == OptimizationStrategies.OLS:\n",
    "        RunOrdinaryLeastSquaresOptimization()\n",
    "    elif optimization_strategy == OptimizationStrategies.MLM:\n",
    "        RunMixedLinearModelOptimization()\n",
    "    elif optimization_strategy == OptimizationStrategies.NN:\n",
    "        RunNeuralNetworkOptimization()\n",
    "\"\"\")"
   ]
  },
  {
   "cell_type": "code",
   "execution_count": null,
   "metadata": {},
   "outputs": [],
   "source": [
    "# Question 6c: Add a new optimization strategy method like RunOrdinaryLeastSquaresOptimization\n",
    "# and update the enum and the code of 6b to use the new method\n"
   ]
  },
  {
   "cell_type": "code",
   "execution_count": null,
   "metadata": {},
   "outputs": [],
   "source": [
    "# your answer here:\n",
    "\n"
   ]
  },
  {
   "cell_type": "code",
   "execution_count": null,
   "metadata": {},
   "outputs": [],
   "source": [
    "# answer:\n",
    "print(\"answer 6c:\")\n",
    "print(\"\"\"\n",
    "class OptimizationStrategies(Enum):\n",
    "    OLS = \"ordinary_least_squares\"\n",
    "    MLM = \"mixed_linear_model\"\n",
    "    NN = \"neural_network\"\n",
    "    NEW_METHOD = \"new_method\"\n",
    "\n",
    "optimization_strategy = OptimizationStrategies.OLS\n",
    "\n",
    "def RunOrdinaryLeastSquaresOptimization():\n",
    "    print(\"running OLS optimization...\")\n",
    "\n",
    "def RunMixedLinearModelOptimization():\n",
    "    print(\"running Mixed Linear optimization...\")\n",
    "\n",
    "def RunNeuralNetworkOptimization():\n",
    "    print(\"running Neural Network optimization...\")\n",
    "\n",
    "def RunNewMethodOptimization():\n",
    "    print(\"running new method optimization...\")\n",
    "    \n",
    "\n",
    "if optimization_strategy == OptimizationStrategies.OLS:\n",
    "    RunOrdinaryLeastSquaresOptimization()\n",
    "elif optimization_strategy == OptimizationStrategies.MLM:\n",
    "    RunMixedLinearModelOptimization()\n",
    "elif optimization_strategy == OptimizationStrategies.NN:\n",
    "    RunNeuralNetworkOptimization()\n",
    "elif optimization_strategy == OptimizationStrategies.NEW_METHOD:\n",
    "    RunNewMethodOptimization()\n",
    "      \"\"\")"
   ]
  }
 ],
 "metadata": {
  "kernelspec": {
   "display_name": "sparo",
   "language": "python",
   "name": "python3"
  },
  "language_info": {
   "codemirror_mode": {
    "name": "ipython",
    "version": 3
   },
   "file_extension": ".py",
   "mimetype": "text/x-python",
   "name": "python",
   "nbconvert_exporter": "python",
   "pygments_lexer": "ipython3",
   "version": "3.10.5"
  }
 },
 "nbformat": 4,
 "nbformat_minor": 2
}
