{
 "cells": [
  {
   "cell_type": "markdown",
   "metadata": {},
   "source": [
    "# Lecture 3: Operators"
   ]
  },
  {
   "cell_type": "code",
   "execution_count": null,
   "metadata": {},
   "outputs": [],
   "source": [
    "x_int = 5\n",
    "y_int = 10\n",
    "z = x_int + y_int\n",
    "print(z)\n",
    "print(type(z))"
   ]
  },
  {
   "cell_type": "code",
   "execution_count": null,
   "metadata": {},
   "outputs": [],
   "source": [
    "x_int = 5\n",
    "y_float = 10.0\n",
    "z = x_int + y_float\n",
    "print(z)\n",
    "print(type(z))"
   ]
  },
  {
   "cell_type": "code",
   "execution_count": null,
   "metadata": {},
   "outputs": [],
   "source": [
    "x_int = 5\n",
    "y_string = \"10\"\n",
    "z = x_int + y_string\n",
    "print(z)\n",
    "print(type(z))"
   ]
  },
  {
   "cell_type": "code",
   "execution_count": null,
   "metadata": {},
   "outputs": [],
   "source": [
    "x_string = \"5\"\n",
    "y_string = \"10\"\n",
    "z = x_string + y_string\n",
    "print(z)\n",
    "print(type(z))"
   ]
  },
  {
   "cell_type": "code",
   "execution_count": null,
   "metadata": {},
   "outputs": [],
   "source": [
    "x_string = \"5\"\n",
    "y_string = \"10\"\n",
    "z = x_string - y_string\n",
    "print(z)\n",
    "print(type(z))"
   ]
  },
  {
   "cell_type": "code",
   "execution_count": null,
   "metadata": {},
   "outputs": [],
   "source": [
    "x_int = 10\n",
    "y_int = 5.0\n",
    "z = x_int * y_int\n",
    "print(z)\n",
    "print(type(z))"
   ]
  },
  {
   "cell_type": "code",
   "execution_count": null,
   "metadata": {},
   "outputs": [],
   "source": [
    "x_int = 10\n",
    "y_int = 5\n",
    "z = x_int / y_int\n",
    "print(z)\n",
    "print(type(z))"
   ]
  },
  {
   "cell_type": "code",
   "execution_count": null,
   "metadata": {},
   "outputs": [],
   "source": [
    "x_int = 10\n",
    "y_int = 5\n",
    "z = x_int**y_int\n",
    "print(z)\n",
    "print(type(z))"
   ]
  },
  {
   "cell_type": "code",
   "execution_count": null,
   "metadata": {},
   "outputs": [],
   "source": [
    "print(\"==========================================\")\n",
    "print(\"start log:\")\n",
    "print(\"...\")\n",
    "print(\"end log\")\n",
    "print(\"==========================================\")"
   ]
  },
  {
   "cell_type": "code",
   "execution_count": null,
   "metadata": {},
   "outputs": [],
   "source": [
    "print(\"=\" * 50)\n",
    "print(\"start log:\")\n",
    "print(\"...\")\n",
    "print(\"end log\")\n",
    "print(\"=\" * 50)"
   ]
  },
  {
   "cell_type": "code",
   "execution_count": null,
   "metadata": {},
   "outputs": [],
   "source": [
    "x_int = 13\n",
    "y_int = 3\n",
    "\n",
    "floor_division = x_int // y_int\n",
    "print(floor_division)"
   ]
  },
  {
   "cell_type": "code",
   "execution_count": null,
   "metadata": {},
   "outputs": [],
   "source": [
    "x_int = 13\n",
    "y_int = 3\n",
    "\n",
    "modulus = x_int % y_int\n",
    "print(modulus)"
   ]
  },
  {
   "cell_type": "markdown",
   "metadata": {},
   "source": [
    "# Some shorthand"
   ]
  },
  {
   "cell_type": "code",
   "execution_count": null,
   "metadata": {},
   "outputs": [],
   "source": [
    "x_int = 3\n",
    "\n",
    "x_int = x_int + 3\n",
    "print(x_int)"
   ]
  },
  {
   "cell_type": "code",
   "execution_count": null,
   "metadata": {},
   "outputs": [],
   "source": [
    "x_int = 3\n",
    "\n",
    "x_int += 3\n",
    "print(x_int)"
   ]
  },
  {
   "cell_type": "code",
   "execution_count": null,
   "metadata": {},
   "outputs": [],
   "source": [
    "x_int = 3\n",
    "\n",
    "x_int -= 3\n",
    "print(x_int)"
   ]
  },
  {
   "cell_type": "code",
   "execution_count": null,
   "metadata": {},
   "outputs": [],
   "source": [
    "x_int = 3\n",
    "\n",
    "x_int *= 3\n",
    "print(x_int)"
   ]
  },
  {
   "cell_type": "code",
   "execution_count": null,
   "metadata": {},
   "outputs": [],
   "source": [
    "x_int = 3\n",
    "\n",
    "x_int /= 3\n",
    "print(x_int)"
   ]
  },
  {
   "cell_type": "code",
   "execution_count": null,
   "metadata": {},
   "outputs": [],
   "source": [
    "x_int = 3\n",
    "\n",
    "x_int **= 3\n",
    "print(x_int)"
   ]
  },
  {
   "cell_type": "markdown",
   "metadata": {},
   "source": [
    "# Assignment"
   ]
  },
  {
   "cell_type": "code",
   "execution_count": null,
   "metadata": {},
   "outputs": [],
   "source": [
    "x_1 = \"\\U0001f60e\"\n",
    "\n",
    "print(x_1)"
   ]
  },
  {
   "cell_type": "code",
   "execution_count": null,
   "metadata": {},
   "outputs": [],
   "source": [
    "x_1 = \"\\U0001f60e\"\n",
    "x_2 = \"\\N{SLIGHTLY SMILING FACE}\"\n",
    "\n",
    "\n",
    "print(x_1)\n",
    "print(x_2)"
   ]
  },
  {
   "cell_type": "code",
   "execution_count": null,
   "metadata": {},
   "outputs": [],
   "source": [
    "x = \"\\N{SMILING FACE WITH SUNGLASSES}\"\n",
    "\n",
    "y = x\n",
    "y = \"\\N{SMIRKING FACE}\"\n",
    "\n",
    "print(x)"
   ]
  },
  {
   "cell_type": "code",
   "execution_count": null,
   "metadata": {},
   "outputs": [],
   "source": [
    "x_list = [\"\\N{SMILING FACE WITH SUNGLASSES}\", \"\\N{CAT}\", \"\\N{FIRE}\"]\n",
    "print(x_list)\n",
    "\n",
    "y_list = x_list\n",
    "y_list[0] = \"\\N{SMIRKING FACE}\"\n",
    "\n",
    "print(x_list)"
   ]
  },
  {
   "cell_type": "code",
   "execution_count": null,
   "metadata": {},
   "outputs": [],
   "source": [
    "import copy\n",
    "\n",
    "x_list = [\"\\N{SMILING FACE WITH SUNGLASSES}\", \"\\N{CAT}\", \"\\N{FIRE}\"]\n",
    "print(x_list)\n",
    "\n",
    "y_list = copy.deepcopy(x_list)\n",
    "y_list[0] = \"\\N{SMIRKING FACE}\"\n",
    "\n",
    "print(x_list)"
   ]
  },
  {
   "cell_type": "code",
   "execution_count": null,
   "metadata": {},
   "outputs": [],
   "source": [
    "TIME = 1701\n",
    "\n",
    "if TIME > 1700:\n",
    "    drink_to_order = \"Beer\"\n",
    "else:\n",
    "    drink_to_order = \"Cola Zero\"\n",
    "\n",
    "print(drink_to_order)"
   ]
  },
  {
   "cell_type": "code",
   "execution_count": null,
   "metadata": {},
   "outputs": [],
   "source": [
    "TIME = 1701\n",
    "\n",
    "drink_to_order = \"Beer\" if TIME > 1700 else \"Cola Zero\"\n",
    "\n",
    "print(drink_to_order)"
   ]
  },
  {
   "cell_type": "code",
   "execution_count": null,
   "metadata": {},
   "outputs": [],
   "source": [
    "maybe_none_value = None\n",
    "\n",
    "result = maybe_none_value if maybe_none_value else \"default\"\n",
    "\n",
    "print(result)"
   ]
  },
  {
   "cell_type": "markdown",
   "metadata": {},
   "source": [
    "# Boolean Logic"
   ]
  },
  {
   "cell_type": "code",
   "execution_count": null,
   "metadata": {},
   "outputs": [],
   "source": [
    "condition = True\n",
    "\n",
    "print(\"Condition is True\" if condition else \"Condition is False\")"
   ]
  },
  {
   "cell_type": "code",
   "execution_count": null,
   "metadata": {},
   "outputs": [],
   "source": [
    "condition = 100 == 2\n",
    "print(type(condition))"
   ]
  },
  {
   "cell_type": "code",
   "execution_count": null,
   "metadata": {},
   "outputs": [],
   "source": [
    "condition = 100 == 2\n",
    "\n",
    "print(\"Condition is True\" if condition else \"Condition is False\")"
   ]
  },
  {
   "cell_type": "code",
   "execution_count": null,
   "metadata": {},
   "outputs": [],
   "source": [
    "condition = 100 >= 2  # <= also works\n",
    "\n",
    "print(\"Condition is True\" if condition else \"Condition is False\")"
   ]
  },
  {
   "cell_type": "code",
   "execution_count": null,
   "metadata": {},
   "outputs": [],
   "source": [
    "condition = 100 > 2  # < also works\n",
    "\n",
    "print(\"Condition is True\" if condition else \"Condition is False\")"
   ]
  },
  {
   "cell_type": "code",
   "execution_count": null,
   "metadata": {},
   "outputs": [],
   "source": [
    "condition = 100 != 2\n",
    "\n",
    "print(\"Condition is True\" if condition else \"Condition is False\")"
   ]
  },
  {
   "cell_type": "code",
   "execution_count": null,
   "metadata": {},
   "outputs": [],
   "source": [
    "condition = 0.3 == 0.1 + 0.2\n",
    "print(type(condition))\n",
    "\n",
    "print(\"Condition is True\" if condition else \"Condition is False\")"
   ]
  },
  {
   "cell_type": "code",
   "execution_count": null,
   "metadata": {},
   "outputs": [],
   "source": [
    "x = 0.2\n",
    "y = 0.1\n",
    "z_added = x + y\n",
    "z_raw = 0.3\n",
    "\n",
    "print(f\"{z_added:.32f}\")\n",
    "print(f\"{z_raw:.32f}\")"
   ]
  },
  {
   "cell_type": "code",
   "execution_count": null,
   "metadata": {},
   "outputs": [],
   "source": [
    "x_list = [1, 2, 3, 4]\n",
    "\n",
    "condition = 1 not in x_list\n",
    "print(\"Condition is True\" if condition else \"Condition is False\")"
   ]
  },
  {
   "cell_type": "code",
   "execution_count": null,
   "metadata": {},
   "outputs": [],
   "source": [
    "x_string = \"Beer\"\n",
    "\n",
    "condition = \"r\" in x_string\n",
    "print(\"Condition is True\" if condition else \"Condition is False\")"
   ]
  },
  {
   "cell_type": "code",
   "execution_count": null,
   "metadata": {},
   "outputs": [],
   "source": [
    "x_string = \"Beer\"\n",
    "\n",
    "condition = type(x_string) == str\n",
    "print(\"Condition is True\" if condition else \"Condition is False\")"
   ]
  },
  {
   "cell_type": "code",
   "execution_count": null,
   "metadata": {},
   "outputs": [],
   "source": [
    "x_string = \"Beer\"\n",
    "\n",
    "condition = isinstance(x_string, str)\n",
    "print(\"Condition is True\" if condition else \"Condition is False\")"
   ]
  },
  {
   "cell_type": "code",
   "execution_count": null,
   "metadata": {},
   "outputs": [],
   "source": [
    "list_1 = [1, 2, 3, 4]\n",
    "list_2 = [1, 2, 3, 4]\n",
    "\n",
    "condition = list_1 == list_2\n",
    "print(\"Condition is True\" if condition else \"Condition is False\")"
   ]
  },
  {
   "cell_type": "code",
   "execution_count": null,
   "metadata": {},
   "outputs": [],
   "source": [
    "list_1 = [1, 2, 3, 4]\n",
    "list_2 = [1, 2, 3, 4]\n",
    "\n",
    "condition = list_1 is list_2\n",
    "print(\"Condition is True\" if condition else \"Condition is False\")"
   ]
  },
  {
   "cell_type": "code",
   "execution_count": null,
   "metadata": {},
   "outputs": [],
   "source": [
    "list_1 = [1, 2, 3, 4]\n",
    "list_2 = list_1\n",
    "\n",
    "condition = list_1 is list_2\n",
    "print(\"Condition is True\" if condition else \"Condition is False\")"
   ]
  },
  {
   "cell_type": "code",
   "execution_count": null,
   "metadata": {},
   "outputs": [],
   "source": [
    "import copy\n",
    "\n",
    "list_1 = [1, 2, 3, 4]\n",
    "list_2 = copy.deepcopy(list_1)\n",
    "\n",
    "condition = list_1 is list_2\n",
    "print(\"Condition is True\" if condition else \"Condition is False\")"
   ]
  },
  {
   "cell_type": "code",
   "execution_count": null,
   "metadata": {},
   "outputs": [],
   "source": [
    "condition_1 = True\n",
    "condition_2 = False\n",
    "\n",
    "condition = condition_1 and condition_2\n",
    "print(\"Condition is True\" if condition else \"Condition is False\")"
   ]
  },
  {
   "cell_type": "code",
   "execution_count": null,
   "metadata": {},
   "outputs": [],
   "source": [
    "condition_1 = True\n",
    "condition_2 = False\n",
    "\n",
    "condition = condition_1 or condition_2\n",
    "print(\"Condition is True\" if condition else \"Condition is False\")"
   ]
  },
  {
   "cell_type": "code",
   "execution_count": null,
   "metadata": {},
   "outputs": [],
   "source": [
    "condition_1 = True\n",
    "\n",
    "condition = not condition_1\n",
    "print(\"Condition is True\" if condition else \"Condition is False\")"
   ]
  },
  {
   "cell_type": "code",
   "execution_count": null,
   "metadata": {},
   "outputs": [],
   "source": [
    "c_1 = True\n",
    "c_2 = False\n",
    "c_3 = True\n",
    "c_4 = False\n",
    "c_5 = True\n",
    "\n",
    "condition = c_1 and (not (c_2 or not (c_3 and c_4))) and c_5\n",
    "print(\"Condition is True\" if condition else \"Condition is False\")"
   ]
  },
  {
   "cell_type": "code",
   "execution_count": null,
   "metadata": {},
   "outputs": [],
   "source": [
    "x_list = [True, True, True, True]\n",
    "\n",
    "condition = all(x_list)\n",
    "print(\"Condition is True\" if condition else \"Condition is False\")"
   ]
  },
  {
   "cell_type": "code",
   "execution_count": null,
   "metadata": {},
   "outputs": [],
   "source": [
    "x_list = [False, False, False]\n",
    "\n",
    "condition = all(x_list)\n",
    "print(\"Condition is True\" if condition else \"Condition is False\")"
   ]
  },
  {
   "cell_type": "code",
   "execution_count": null,
   "metadata": {},
   "outputs": [],
   "source": [
    "x_list = [12, 45, 0, 5]\n",
    "\n",
    "condition = all(x_list)\n",
    "print(\"Condition is True\" if condition else \"Condition is False\")"
   ]
  },
  {
   "cell_type": "code",
   "execution_count": null,
   "metadata": {},
   "outputs": [],
   "source": [
    "x_list = [False, False, True]\n",
    "\n",
    "condition = any(x_list)\n",
    "print(\"Condition is True\" if condition else \"Condition is False\")"
   ]
  },
  {
   "cell_type": "code",
   "execution_count": null,
   "metadata": {},
   "outputs": [],
   "source": [
    "x_list = [False, False, False]\n",
    "\n",
    "condition = any(x_list)\n",
    "print(\"Condition is True\" if condition else \"Condition is False\")"
   ]
  },
  {
   "cell_type": "code",
   "execution_count": null,
   "metadata": {},
   "outputs": [],
   "source": [
    "x_set = {False, 0, None, \"0\"}\n",
    "\n",
    "condition = any(x_set)\n",
    "print(\"Condition is True\" if condition else \"Condition is False\")"
   ]
  },
  {
   "cell_type": "code",
   "execution_count": null,
   "metadata": {},
   "outputs": [],
   "source": [
    "x_list = [\"a\", \"b\", \"c\", \"d\"]\n",
    "\n",
    "print(x_list[0])\n",
    "print(x_list[-2])"
   ]
  },
  {
   "cell_type": "code",
   "execution_count": null,
   "metadata": {},
   "outputs": [],
   "source": [
    "x_set = {\"a\", \"b\", \"c\", \"d\"}\n",
    "\n",
    "\n",
    "print(x_set[0:2])\n",
    "print(x_set[-2])"
   ]
  },
  {
   "cell_type": "code",
   "execution_count": null,
   "metadata": {},
   "outputs": [],
   "source": [
    "x_list = [\"a\", \"b\", \"c\", \"d\"]\n",
    "\n",
    "print(x_list[-2:])\n",
    "print(x_list[:1])\n",
    "print(x_list[:])"
   ]
  },
  {
   "cell_type": "code",
   "execution_count": null,
   "metadata": {},
   "outputs": [],
   "source": [
    "x_list = [\"a\", \"b\", \"c\", \"d\"]\n",
    "\n",
    "x_list[0:2] = [\"party\", \"time\"]\n",
    "print(x_list)"
   ]
  },
  {
   "cell_type": "code",
   "execution_count": null,
   "metadata": {},
   "outputs": [],
   "source": [
    "x_list = [\"a\", \"b\", \"c\", \"d\"]\n",
    "\n",
    "x_list[0:2] = [\"party\", \"time\"]\n",
    "print(x_list)"
   ]
  },
  {
   "cell_type": "code",
   "execution_count": null,
   "metadata": {},
   "outputs": [],
   "source": [
    "x_dict = {\"a\": 1, \"b\": 2, \"c\": 3, \"d\": 4}\n",
    "\n",
    "x_dict[\"a\"] = \"party\"\n",
    "x_dict[\"b\"] = \"time\"\n",
    "print(x_dict)"
   ]
  },
  {
   "cell_type": "code",
   "execution_count": null,
   "metadata": {},
   "outputs": [],
   "source": [
    "x_list = [\"apple\", \"banana\", \"cherry\"]\n",
    "updated_list = x_list.append(\"orange\")\n",
    "\n",
    "print(updated_list)"
   ]
  },
  {
   "cell_type": "code",
   "execution_count": null,
   "metadata": {},
   "outputs": [],
   "source": [
    "x_list = [\"apple\", \"banana\", \"cherry\"]\n",
    "x_list.insert(1, \"orange\")\n",
    "\n",
    "print(x_list)"
   ]
  },
  {
   "cell_type": "code",
   "execution_count": null,
   "metadata": {},
   "outputs": [],
   "source": [
    "x_list = [\"apple\", \"banana\", \"cherry\"]\n",
    "y_list = [\"orange\", \"kiwi\"]\n",
    "\n",
    "x_list.extend(y_list)\n",
    "\n",
    "print(x_list)"
   ]
  },
  {
   "cell_type": "code",
   "execution_count": null,
   "metadata": {},
   "outputs": [],
   "source": [
    "x_list = [\"apple\", \"banana\", \"cherry\"]\n",
    "y_list = \"orange\"\n",
    "\n",
    "x_list.extend(y_list)\n",
    "\n",
    "print(x_list)"
   ]
  },
  {
   "cell_type": "code",
   "execution_count": null,
   "metadata": {},
   "outputs": [],
   "source": [
    "x_tuple = (\"apple\", \"banana\", \"cherry\")\n",
    "y_tuple = (\"orange\",)\n",
    "\n",
    "z_tuple = x_tuple + y_tuple\n",
    "\n",
    "print(z_tuple)"
   ]
  },
  {
   "cell_type": "code",
   "execution_count": null,
   "metadata": {},
   "outputs": [],
   "source": [
    "x_set = {\"apple\", \"banana\", \"cherry\"}\n",
    "x_set.add(\"orange\")\n",
    "\n",
    "print(x_set)"
   ]
  },
  {
   "cell_type": "code",
   "execution_count": null,
   "metadata": {},
   "outputs": [],
   "source": [
    "x_set = {\"apple\", \"banana\", \"cherry\"}\n",
    "y_set = {\"orange\", \"banana\"}\n",
    "x_set.update(y_set)\n",
    "\n",
    "print(x_set)"
   ]
  },
  {
   "cell_type": "code",
   "execution_count": null,
   "metadata": {},
   "outputs": [],
   "source": [
    "x_dict = {\"apple\": 0, \"banana\": 1}\n",
    "y_dict = {\"banana\": 2, \"kiwi\": 3}\n",
    "\n",
    "x_dict.update(y_dict)\n",
    "\n",
    "print(x_dict)"
   ]
  },
  {
   "cell_type": "code",
   "execution_count": null,
   "metadata": {},
   "outputs": [],
   "source": [
    "x_list = [\"apple\", \"banana\", \"cherry\"]\n",
    "x_list.remove(\"cherry\")\n",
    "\n",
    "print(x_list)"
   ]
  },
  {
   "cell_type": "code",
   "execution_count": null,
   "metadata": {},
   "outputs": [],
   "source": [
    "x_list = [\"apple\", \"banana\", \"cherry\"]\n",
    "x_list.pop(1)\n",
    "\n",
    "print(x_list)"
   ]
  },
  {
   "cell_type": "code",
   "execution_count": null,
   "metadata": {},
   "outputs": [],
   "source": [
    "x_set = {\"apple\", \"banana\", \"cherry\"}\n",
    "\n",
    "x_set.remove(\"banana\")\n",
    "\n",
    "print(x_set)"
   ]
  },
  {
   "cell_type": "code",
   "execution_count": null,
   "metadata": {},
   "outputs": [],
   "source": [
    "x_set = {\"apple\", \"banana\", \"cherry\"}\n",
    "\n",
    "x_set.discard(\"Jakob\")\n",
    "\n",
    "print(x_set)"
   ]
  },
  {
   "cell_type": "code",
   "execution_count": null,
   "metadata": {},
   "outputs": [],
   "source": [
    "x_dict = {\"apple\": 0, \"banana\": 1, \"cherry\": 2}\n",
    "\n",
    "x_dict.pop(\"apple\")\n",
    "\n",
    "print(x_dict)"
   ]
  },
  {
   "cell_type": "code",
   "execution_count": null,
   "metadata": {},
   "outputs": [],
   "source": [
    "x_dict = {\"apple\": 0, \"banana\": 1, \"cherry\": 2}\n",
    "\n",
    "del x_dict[\"apple\"]\n",
    "\n",
    "print(x_dict)"
   ]
  }
 ],
 "metadata": {
  "kernelspec": {
   "display_name": "sparo",
   "language": "python",
   "name": "python3"
  },
  "language_info": {
   "codemirror_mode": {
    "name": "ipython",
    "version": 3
   },
   "file_extension": ".py",
   "mimetype": "text/x-python",
   "name": "python",
   "nbconvert_exporter": "python",
   "pygments_lexer": "ipython3",
   "version": "3.10.5"
  }
 },
 "nbformat": 4,
 "nbformat_minor": 2
}
