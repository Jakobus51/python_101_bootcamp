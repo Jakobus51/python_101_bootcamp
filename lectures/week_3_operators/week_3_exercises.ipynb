{
 "cells": [
  {
   "cell_type": "markdown",
   "metadata": {},
   "source": [
    "# Readings/ watchings"
   ]
  },
  {
   "cell_type": "markdown",
   "metadata": {},
   "source": [
    "Please also check all the different methods of lists, tuples, sets adn dicts. We do not cover them all:\n",
    "\n",
    "lists: https://www.w3schools.com/python/python_lists_methods.asp <br> \n",
    "tuples: https://www.w3schools.com/python/python_tuples_methods.asp  <br> \n",
    "sets: https://www.w3schools.com/python/python_sets_methods.asp  <br> \n",
    "dicts: https://www.w3schools.com/python/python_dictionaries_methods.asp  <br> \n",
    "\n",
    "\n",
    "If you want to go full nerd mode about floating point errors, you can watch the video of Matt Parker on floating point errors in minecraft:  <br> \n",
    "https://www.youtube.com/watch?v=ei58gGM9Z8k&ab_channel=Stand-upMaths\n"
   ]
  },
  {
   "cell_type": "markdown",
   "metadata": {},
   "source": [
    "# Questions"
   ]
  },
  {
   "cell_type": "markdown",
   "metadata": {},
   "source": [
    "# Assignment"
   ]
  },
  {
   "cell_type": "code",
   "execution_count": null,
   "metadata": {},
   "outputs": [],
   "source": [
    "# Question 1a: Add your favorite emoji to the dictionary below\n",
    "# Question 1b: Remove the sunglasses emoji from the dictionary\n",
    "\n",
    "x_dict = {\n",
    "    \"sunglasses\": \"\\N{SMILING FACE WITH SUNGLASSES}\",\n",
    "    \"cat\": \"\\N{CAT}\",\n",
    "    \"fire\": \"\\N{FIRE}\",\n",
    "}\n",
    "\n",
    "print(x_dict)"
   ]
  },
  {
   "cell_type": "code",
   "execution_count": null,
   "metadata": {},
   "outputs": [],
   "source": [
    "# your answer here:"
   ]
  },
  {
   "cell_type": "code",
   "execution_count": null,
   "metadata": {},
   "outputs": [],
   "source": [
    "# answer:\n",
    "\n",
    "print(\"\"\"\n",
    "answer 1a:\n",
    "    x_dict[\"favorite_emoji\"] = \"\\N{THUMBS UP SIGN}\"\n",
    "\"\"\")\n",
    "\n",
    "print(\"\"\"\n",
    "answer 1b:\n",
    "    x_dict.pop(\"sunglasses\")\n",
    "\n",
    "\"\"\")\n"
   ]
  },
  {
   "cell_type": "code",
   "execution_count": null,
   "metadata": {},
   "outputs": [],
   "source": [
    "# Question 2a: repeat question 1a and 1b on x_dict_copy and then print the x_dict\n",
    "# Question 2b: Explain what is happening to x_dict and x_dict_copy\n",
    "x_dict = {\n",
    "    \"sunglasses\": \"\\N{SMILING FACE WITH SUNGLASSES}\",\n",
    "    \"cat\": \"\\N{CAT}\",\n",
    "    \"fire\": \"\\N{FIRE}\",\n",
    "}\n",
    "x_dict_copy = x_dict\n",
    "\n",
    "print(x_dict)\n"
   ]
  },
  {
   "cell_type": "code",
   "execution_count": null,
   "metadata": {},
   "outputs": [],
   "source": [
    "# your answer here:"
   ]
  },
  {
   "cell_type": "code",
   "execution_count": null,
   "metadata": {},
   "outputs": [],
   "source": [
    "# answer:\n",
    "print(\"\"\"\n",
    "answer 2a:\n",
    "    x_dict_copy[\"favorite_emoji\"] = \"\\N{THUMBS UP SIGN}\"\n",
    "    x_dict_copy.pop(\"sunglasses\")\n",
    "\"\"\")\n",
    "print(\"\"\"\n",
    "answer 2b:\n",
    "    x_dict and x_dict_copy are references to the same dictionary object in memory.\n",
    "    When you modify x_dict_copy, it also modifies x_dict because they point to the same object.\n",
    "\"\"\")"
   ]
  },
  {
   "cell_type": "code",
   "execution_count": null,
   "metadata": {},
   "outputs": [],
   "source": [
    "# Question 2c: Make a deep copy of x_dict and assign it to x_dict_deep_copy\n",
    "# repeat question 1a and 1b on x_dict_deep_copy and then print the x_dict\n",
    "\n",
    "\n",
    "x_dict = {\n",
    "    \"sunglasses\": \"\\N{SMILING FACE WITH SUNGLASSES}\",\n",
    "    \"cat\": \"\\N{CAT}\",\n",
    "    \"fire\": \"\\N{FIRE}\",\n",
    "}\n",
    "\n",
    "\n",
    "print(x_dict)"
   ]
  },
  {
   "cell_type": "code",
   "execution_count": null,
   "metadata": {},
   "outputs": [],
   "source": [
    "# your answer here:"
   ]
  },
  {
   "cell_type": "code",
   "execution_count": null,
   "metadata": {},
   "outputs": [],
   "source": [
    "# answer\n",
    "print(\"\"\"\n",
    "answer 2c:\n",
    "    import copy\n",
    "    x_dict_deep_copy = copy.deepcopy(x_dict)\n",
    "    x_dict_deep_copy[\"favorite_emoji\"] = \"\\N{THUMBS UP SIGN}\"\n",
    "    x_dict_deep_copy.pop(\"sunglasses\")\n",
    "\"\"\")\n",
    "\n",
    "print(\"\"\"\n",
    "dict also have a build-in copy method, so this is also valid:\n",
    "    x_dict_deep_copy = x_dict.copy()\n",
    "    x_dict_deep_copy[\"favorite_emoji\"] = \"\\N{THUMBS UP SIGN}\"\n",
    "    x_dict_deep_copy.pop(\"sunglasses\")\n",
    "\"\"\")\n"
   ]
  },
  {
   "cell_type": "markdown",
   "metadata": {},
   "source": [
    "# Comparison"
   ]
  },
  {
   "cell_type": "code",
   "execution_count": null,
   "metadata": {},
   "outputs": [],
   "source": [
    "# Question 3a: Evaluate if 10 * 0.1 is equal to 1.0\n",
    "\n",
    "sum = 0\n",
    "for i in range(10):\n",
    "    sum += 0.1\n",
    "\n",
    "condition = ...\n",
    "\n",
    "print(\"condition is True\" if condition else \"condition is False\")"
   ]
  },
  {
   "cell_type": "code",
   "execution_count": null,
   "metadata": {},
   "outputs": [],
   "source": [
    "# your answer here:"
   ]
  },
  {
   "cell_type": "code",
   "execution_count": null,
   "metadata": {},
   "outputs": [],
   "source": [
    "# asnwer:\n",
    "print(\"\"\"\n",
    "answer 3a:\n",
    "    condition = 10 * 0.1 == 1.0\n",
    "\"\"\")"
   ]
  },
  {
   "cell_type": "code",
   "execution_count": null,
   "metadata": {},
   "outputs": [],
   "source": [
    "# Question 3b: Explain what is happening"
   ]
  },
  {
   "cell_type": "code",
   "execution_count": null,
   "metadata": {},
   "outputs": [],
   "source": [
    "# your answer here:"
   ]
  },
  {
   "cell_type": "code",
   "execution_count": null,
   "metadata": {},
   "outputs": [],
   "source": [
    "# answer:\n",
    "print(\"\"\"\n",
    "answer 3b:\n",
    "    The condition evaluates to False because of floating-point precision issues in Python.\n",
    "    The result of 10 * 0.1 is not exactly equal to 1.0 due to how floating-point numbers are represented in memory.\n",
    "\"\"\")"
   ]
  },
  {
   "cell_type": "code",
   "execution_count": null,
   "metadata": {},
   "outputs": [],
   "source": [
    "# Question 3c: Fix the condition so that it evaluates to True"
   ]
  },
  {
   "cell_type": "code",
   "execution_count": null,
   "metadata": {},
   "outputs": [],
   "source": [
    "# your answer here:"
   ]
  },
  {
   "cell_type": "code",
   "execution_count": null,
   "metadata": {},
   "outputs": [],
   "source": [
    "# answer:\n",
    "print(\"\"\"\n",
    "answer 3c:\n",
    "There are multiple ways to fix this:\n",
    "    1. Use the round function:\n",
    "        condition = int(round(sum, 0)) == 1\n",
    "    2. Use the math.isclose function:\n",
    "        import math\n",
    "            condition = math.isclose(sum, 1.0)\n",
    "    3. rewrite the loop to only use integers:\n",
    "        sum = 0\n",
    "        for i in range(10):\n",
    "            sum += 1\n",
    "        condition = sum == 10\n",
    "      \"\"\"\n",
    ")\n",
    "      "
   ]
  },
  {
   "cell_type": "code",
   "execution_count": null,
   "metadata": {},
   "outputs": [],
   "source": [
    "# Question 4a: Check if the string \"Thomas\" is in the list x_list\n",
    "# Question 4b: Check if the string \"Jakob\" is not in the list x_list\n",
    "# Question 4c: Check if there are any empty strings in the list x_list\n",
    "\n",
    "x_list = [\"Rik\", \"Alinda\", \"Jochem\", \"Lisette\", \"\", \"Thomas\", \"Floris\", \"Astrid\"]"
   ]
  },
  {
   "cell_type": "code",
   "execution_count": null,
   "metadata": {},
   "outputs": [],
   "source": [
    "# your answer here:"
   ]
  },
  {
   "cell_type": "code",
   "execution_count": null,
   "metadata": {},
   "outputs": [],
   "source": [
    "# answer:\n",
    "print(\"\"\"\n",
    "answer 4a:\n",
    "    condition = \"Thomas\" in x_list\n",
    "\"\"\")\n",
    "print(\"\"\"\n",
    "answer 4b:\n",
    "    condition = \"Jakob\" not in x_list\n",
    "\"\"\")\n",
    "print(\"\"\"\n",
    "answer 4c:\n",
    "    condition = not all(x_list)\n",
    "    # all returns False if there isany empty string in the list\n",
    "    # And we use not to negate this, so it returns True if there is any empty string\n",
    "\"\"\")"
   ]
  },
  {
   "cell_type": "code",
   "execution_count": null,
   "metadata": {},
   "outputs": [],
   "source": [
    "# Question 5: Check if the following variable is a set\n",
    "x_set = {1, 2, 3, 4, 5}\n",
    "\n",
    "condition = ...\n",
    "\n",
    "print(\"condition is True\" if condition else \"condition is False\")"
   ]
  },
  {
   "cell_type": "code",
   "execution_count": null,
   "metadata": {},
   "outputs": [],
   "source": [
    "# your answer here:"
   ]
  },
  {
   "cell_type": "code",
   "execution_count": null,
   "metadata": {},
   "outputs": [],
   "source": [
    "# answer:\n",
    "print(\"\"\"\n",
    "answer 5:\n",
    "    condition = isinstance(x_set, set)\n",
    "\"\"\")"
   ]
  },
  {
   "cell_type": "code",
   "execution_count": null,
   "metadata": {},
   "outputs": [],
   "source": [
    "# Question 6a: Check if the content of dictionaries are the same\n",
    "\n",
    "x_dict = {\"a\": 1, \"b\": 2}\n",
    "x_dict_a = {\"a\": 1, \"b\": 2}\n",
    "\n",
    "condition = ...\n",
    "print(\"condition is True\" if condition else \"condition is False\")"
   ]
  },
  {
   "cell_type": "code",
   "execution_count": null,
   "metadata": {},
   "outputs": [],
   "source": [
    "# your answer here:"
   ]
  },
  {
   "cell_type": "code",
   "execution_count": null,
   "metadata": {},
   "outputs": [],
   "source": [
    "# answer:\n",
    "print(\"\"\"\n",
    "answer 6a:\n",
    "    condition = x_dict == x_dict_a\n",
    "\"\"\")"
   ]
  },
  {
   "cell_type": "code",
   "execution_count": null,
   "metadata": {},
   "outputs": [],
   "source": [
    "# Question 6b: Check if the dictionaries are the same object\n",
    "\n",
    "x_dict = {\"a\": 1, \"b\": 2}\n",
    "x_dict_a = {\"a\": 1, \"b\": 2}\n",
    "\n",
    "condition = ...\n",
    "print(\"condition is True\" if condition else \"condition is False\")"
   ]
  },
  {
   "cell_type": "code",
   "execution_count": null,
   "metadata": {},
   "outputs": [],
   "source": [
    "# your answer here:"
   ]
  },
  {
   "cell_type": "code",
   "execution_count": null,
   "metadata": {},
   "outputs": [],
   "source": [
    "# answer:\n",
    "print(\"\"\"\n",
    "answer 6b:\n",
    "    condition = x_dict is x_dict_a\n",
    "\"\"\")\n",
    "print(\"So we se '==' checks if the content is the same\")\n",
    "print(\"And 'is' checks if they are the same object in memory\")"
   ]
  },
  {
   "cell_type": "code",
   "execution_count": null,
   "metadata": {},
   "outputs": [],
   "source": [
    "# Question 6c: Check if dictionary a to e is the same object as x_dict\n",
    "# Just write true or false\n",
    "\n",
    "import copy\n",
    "x_dict_a = {\"a\": 1, \"b\": 2}\n",
    "x_dict_a_copy = {\"a\": 1, \"b\": 2}\n",
    "\n",
    "x_dict_b = {\"a\": 1, \"b\": 2}\n",
    "x_dict_b_copy = x_dict_b\n",
    "\n",
    "x_dict_c = {\"a\": 1, \"b\": 2}\n",
    "x_dict_c_copy = x_dict_c.copy()\n",
    "\n",
    "x_dict_d = {\"a\": 1, \"b\": 2}\n",
    "x_dict_d_copy = dict(x_dict_d)\n",
    "\n",
    "x_dict_e = {\"a\": 1, \"b\": 2}\n",
    "x_dict_e_copy = copy.deepcopy(x_dict_e)"
   ]
  },
  {
   "cell_type": "code",
   "execution_count": null,
   "metadata": {},
   "outputs": [],
   "source": [
    "# your answer here:"
   ]
  },
  {
   "cell_type": "code",
   "execution_count": null,
   "metadata": {},
   "outputs": [],
   "source": [
    "# answer:\n",
    "print(\"\"\"\n",
    "answer 6c:\n",
    "      \"\"\")\n",
    "\n",
    "print(f\"{x_dict_a_copy is x_dict_a = }\")\n",
    "print(f\"{x_dict_b_copy is x_dict_b = }\")\n",
    "print(f\"{x_dict_c_copy is x_dict_c = }\")\n",
    "print(f\"{x_dict_d_copy is x_dict_d = }\")\n",
    "print(f\"{x_dict_e_copy is x_dict_e = }\")\n"
   ]
  },
  {
   "cell_type": "markdown",
   "metadata": {},
   "source": [
    "# Working with lists, tuples, sets and dicts"
   ]
  },
  {
   "cell_type": "code",
   "execution_count": null,
   "metadata": {},
   "outputs": [],
   "source": [
    "# Question 7: Practice with lists on the following site\n",
    "# https://www.w3schools.com/python/python_lists_exercises.asp\n"
   ]
  },
  {
   "cell_type": "code",
   "execution_count": null,
   "metadata": {},
   "outputs": [],
   "source": [
    "# Question 8: Practice with tuples on the following site\n",
    "# https://www.w3schools.com/python/python_tuples_exercises.asp"
   ]
  },
  {
   "cell_type": "code",
   "execution_count": null,
   "metadata": {},
   "outputs": [],
   "source": [
    "# Question 9: Practice with sets on the following site\n",
    "# https://www.w3schools.com/python/python_sets_exercises.asp"
   ]
  },
  {
   "cell_type": "code",
   "execution_count": null,
   "metadata": {},
   "outputs": [],
   "source": [
    "# Question 10: Practice with dicts on the following site\n",
    "# https://www.w3schools.com/python/python_dictionaries_exercises.asp"
   ]
  }
 ],
 "metadata": {
  "kernelspec": {
   "display_name": ".venv",
   "language": "python",
   "name": "python3"
  },
  "language_info": {
   "codemirror_mode": {
    "name": "ipython",
    "version": 3
   },
   "file_extension": ".py",
   "mimetype": "text/x-python",
   "name": "python",
   "nbconvert_exporter": "python",
   "pygments_lexer": "ipython3",
   "version": "3.10.5"
  }
 },
 "nbformat": 4,
 "nbformat_minor": 2
}
