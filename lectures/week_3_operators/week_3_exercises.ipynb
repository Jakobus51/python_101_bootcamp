{
 "cells": [
  {
   "cell_type": "code",
   "execution_count": null,
   "metadata": {},
   "outputs": [],
   "source": [
    "my_list = [\"apple\", \"banana\", \"cherry\", \"date\", \"elderberry\"]\n",
    "my_tuple = (\"apple\", \"banana\", \"cherry\", \"date\", \"elderberry\")\n",
    "my_set = {\"apple\", \"banana\", \"cherry\", \"date\", \"elderberry\"}\n",
    "\n",
    "# You can access list elements using indexing:\n",
    "# Indexing starts at 0\n",
    "first_element = my_list[0]  # Access the first element\n",
    "print(first_element)  \n",
    "\n",
    "# You can also use negative indexing to access elements from the end of the list\n",
    "last_element = my_list[-1]  # Access the last element\n",
    "print(last_element)  # Output: elderberry\n",
    "\n",
    "# This works the same for tuples since they are both ordered collections"
   ]
  }
 ],
 "metadata": {
  "language_info": {
   "name": "python"
  }
 },
 "nbformat": 4,
 "nbformat_minor": 2
}
