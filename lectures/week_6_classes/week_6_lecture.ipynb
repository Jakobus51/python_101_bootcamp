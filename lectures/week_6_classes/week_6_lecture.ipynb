{
 "cells": [
  {
   "cell_type": "markdown",
   "metadata": {},
   "source": [
    "# Functional vs object orientated programming"
   ]
  },
  {
   "cell_type": "code",
   "execution_count": null,
   "metadata": {},
   "outputs": [],
   "source": [
    "def grind_beans(coffee_order):\n",
    "    \"\"\"Grind the coffee beans.\"\"\"\n",
    "    print(f\"Grinding the coffee beans for {coffee_order}.\")\n",
    "\n",
    "\n",
    "def brew_coffee(coffee_order):\n",
    "    \"\"\"Brew the coffee.\"\"\"\n",
    "    print(f\"Brewing the coffee for {coffee_order}.\")\n",
    "\n",
    "\n",
    "def serve_coffee(coffee_order):\n",
    "    \"\"\"Serve the coffee.\"\"\"\n",
    "    print(f\"Serving the coffee for {coffee_order}.\")\n",
    "\n",
    "\n",
    "COFFEE_ORDER = \"bakkie pleur\"\n",
    "grinded_beans = grind_beans(COFFEE_ORDER)\n",
    "brewed_coffee = brew_coffee(grinded_beans)\n",
    "lekker_bakkie = serve_coffee(brewed_coffee)\n"
   ]
  },
  {
   "cell_type": "code",
   "execution_count": null,
   "metadata": {},
   "outputs": [],
   "source": [
    "class Barista:\n",
    "    \"\"\"A class representing a Barista.\"\"\"\n",
    "\n",
    "    def __init__(self, name, brewing_experience, likes_his_job):\n",
    "        self.name = name\n",
    "        self.brewing_experience = brewing_experience\n",
    "        self.likes_his_job = likes_his_job\n",
    "\n",
    "    def grind_beans(self, coffee_order):\n",
    "        \"\"\"Grind the coffee beans.\"\"\"\n",
    "        print(f\"{self.name} is grinding the coffee beans for {coffee_order}.\")\n",
    "\n",
    "    def brew_coffee(self, coffee_order):\n",
    "        \"\"\"Brew the coffee.\"\"\"\n",
    "        print(f\"{self.name} is brewing the coffee for {coffee_order}.\")\n",
    "\n",
    "    def serve_coffee(self, coffee_order):\n",
    "        \"\"\"Serve the coffee.\"\"\"\n",
    "        print(f\"{self.name} is serving the coffee for {coffee_order}.\")\n",
    "\n",
    "\n",
    "barista = Barista(name=\"John\", brewing_experience=5, likes_his_job=True)\n",
    "\n",
    "COFFEE_ORDER = \"bakkie pleur\"\n",
    "grinded_beans = barista.grind_beans(COFFEE_ORDER)\n",
    "brewed_coffee = barista.brew_coffee(grinded_beans)\n",
    "lekker_bakkie = barista.serve_coffee(brewed_coffee)"
   ]
  },
  {
   "cell_type": "code",
   "execution_count": null,
   "metadata": {},
   "outputs": [
    {
     "name": "stdout",
     "output_type": "stream",
     "text": [
      "<__main__.Cook object at 0x1036a1420>\n"
     ]
    }
   ],
   "source": [
    "class Cook:\n",
    "    \"\"\"A class representing a Cook.\"\"\"\n",
    "\n",
    "\n",
    "jakob = Cook()\n",
    "\n",
    "print(jakob)"
   ]
  },
  {
   "cell_type": "code",
   "execution_count": null,
   "metadata": {},
   "outputs": [
    {
     "name": "stdout",
     "output_type": "stream",
     "text": [
      "A new Cook instance has been created.\n"
     ]
    }
   ],
   "source": [
    "class Cook:\n",
    "    \"\"\"A class representing a Cook.\"\"\"\n",
    "\n",
    "    def __init__(self):\n",
    "        \"\"\"Initialize a Cook instance.\"\"\"\n",
    "        print(\"A new Cook instance has been created.\")\n",
    "\n",
    "\n",
    "jakob = Cook()"
   ]
  },
  {
   "cell_type": "code",
   "execution_count": null,
   "metadata": {},
   "outputs": [
    {
     "name": "stdout",
     "output_type": "stream",
     "text": [
      "A new Cook instance has been created.\n"
     ]
    }
   ],
   "source": [
    "class Cook:\n",
    "    \"\"\"A class representing a Cook.\"\"\"\n",
    "\n",
    "    def __init__(self):\n",
    "        \"\"\"Initialize a Cook instance.\"\"\"\n",
    "        print(\"A new Cook instance has been created.\")\n",
    "\n",
    "\n",
    "CopyClass = Cook\n",
    "\n",
    "jakob = CopyClass()"
   ]
  },
  {
   "cell_type": "code",
   "execution_count": null,
   "metadata": {},
   "outputs": [
    {
     "name": "stdout",
     "output_type": "stream",
     "text": [
      "Jakob is a Cook.\n"
     ]
    }
   ],
   "source": [
    "class Cook:\n",
    "    \"\"\"A class representing a Cook.\"\"\"\n",
    "\n",
    "    def __init__(self, name: str):\n",
    "        \"\"\"Initialize a Cook instance.\"\"\"\n",
    "        print(f\"{name} is a Cook.\")\n",
    "\n",
    "\n",
    "jakob = Cook(name=\"Jakob\")"
   ]
  },
  {
   "cell_type": "code",
   "execution_count": null,
   "metadata": {},
   "outputs": [
    {
     "name": "stdout",
     "output_type": "stream",
     "text": [
      "Jakob is cooking Afbak pizza.\n"
     ]
    }
   ],
   "source": [
    "class Cook:\n",
    "    \"\"\"A class representing a Cook.\"\"\"\n",
    "\n",
    "    def __init__(self, name: str, signature_dish: str):\n",
    "        \"\"\"Initialize a Cook instance.\"\"\"\n",
    "        self.name = name\n",
    "        self.signature_dish = signature_dish\n",
    "\n",
    "    def cooking_signature_dish(self):\n",
    "        \"\"\"Return the signature dish of the cook.\"\"\"\n",
    "        print(f\"{self.name} is cooking {self.signature_dish}.\")\n",
    "\n",
    "\n",
    "jakob = Cook(name=\"Jakob\", signature_dish=\"Afbak pizza\")\n",
    "\n",
    "jakob.cooking_signature_dish()"
   ]
  },
  {
   "cell_type": "code",
   "execution_count": null,
   "metadata": {},
   "outputs": [
    {
     "name": "stdout",
     "output_type": "stream",
     "text": [
      "<__main__.Cook object at 0x107f82e90>\n"
     ]
    }
   ],
   "source": [
    "class Cook:\n",
    "    \"\"\"A class representing a Cook.\"\"\"\n",
    "\n",
    "    def __init__(self, name: str, signature_dish: str):\n",
    "        \"\"\"Initialize a Cook instance.\"\"\"\n",
    "        self.name = name\n",
    "        self.signature_dish = signature_dish\n",
    "\n",
    "\n",
    "jakob = Cook(name=\"Jakob\", signature_dish=\"Afbak pizza\")\n",
    "\n",
    "print(jakob)"
   ]
  },
  {
   "cell_type": "code",
   "execution_count": null,
   "metadata": {},
   "outputs": [
    {
     "name": "stdout",
     "output_type": "stream",
     "text": [
      "Cook(name=Jakob, signature_dish=Afbak pizza)\n"
     ]
    }
   ],
   "source": [
    "class Cook:\n",
    "    \"\"\"A class representing a Cook.\"\"\"\n",
    "\n",
    "    def __init__(self, name: str, signature_dish: str):\n",
    "        \"\"\"Initialize a Cook instance.\"\"\"\n",
    "        self.name = name\n",
    "        self.signature_dish = signature_dish\n",
    "\n",
    "    def __str__(self) -> str:\n",
    "        \"\"\"Return the length of the signature dish.\"\"\"\n",
    "        return f\"Cook(name={self.name}, signature_dish={self.signature_dish})\"\n",
    "\n",
    "\n",
    "jakob = Cook(name=\"Jakob\", signature_dish=\"Afbak pizza\")\n",
    "\n",
    "print(jakob)"
   ]
  },
  {
   "cell_type": "code",
   "execution_count": null,
   "metadata": {},
   "outputs": [],
   "source": [
    "from enum import Enum\n",
    "\n",
    "\n",
    "class ExportTypes(Enum):\n",
    "    \"\"\"Export types for the dataframe.\"\"\"\n",
    "\n",
    "    CSV = \"csv\"\n",
    "    EXCEL = \"excel\"\n",
    "    JSON = \"json\"\n"
   ]
  },
  {
   "cell_type": "code",
   "execution_count": null,
   "metadata": {},
   "outputs": [
    {
     "name": "stdout",
     "output_type": "stream",
     "text": [
      "Jakob is cooking\n",
      "Rik is serving customers.\n"
     ]
    }
   ],
   "source": [
    "class Employee:\n",
    "    \"\"\"A class representing an Employee.\"\"\"\n",
    "\n",
    "    def __init__(self, name: str):\n",
    "        \"\"\"Initialize an Employee instance.\"\"\"\n",
    "        self.name = name\n",
    "\n",
    "\n",
    "class Server(Employee):\n",
    "    \"\"\"A class representing a Server\"\"\"\n",
    "\n",
    "    def work(self):\n",
    "        \"\"\"Server work.\"\"\"\n",
    "        return f\"{self.name} is serving customers.\"\n",
    "\n",
    "\n",
    "class Cook(Employee):\n",
    "    \"\"\"A class representing a Cook.\"\"\"\n",
    "\n",
    "    def work(self):\n",
    "        \"\"\"Cook work.\"\"\"\n",
    "        return f\"{self.name} is cooking\"\n",
    "\n",
    "\n",
    "jakob = Cook(name=\"Jakob\")\n",
    "print(jakob.work())\n",
    "\n",
    "rik = Server(name=\"Rik\")\n",
    "print(rik.work())"
   ]
  },
  {
   "cell_type": "code",
   "execution_count": null,
   "metadata": {},
   "outputs": [
    {
     "name": "stdout",
     "output_type": "stream",
     "text": [
      "Jakob is cooking\n"
     ]
    }
   ],
   "source": [
    "class Employee:\n",
    "    \"\"\"A class representing an Employee.\"\"\"\n",
    "\n",
    "    def __init__(self, name: str):\n",
    "        \"\"\"Initialize an Employee instance.\"\"\"\n",
    "        self.name = name\n",
    "\n",
    "\n",
    "class Cook:\n",
    "    \"\"\"A class representing a Cook.\"\"\"\n",
    "\n",
    "    def __init__(self, employee: Employee):\n",
    "        self.employee = employee\n",
    "\n",
    "    def work(self):\n",
    "        \"\"\"Cook work.\"\"\"\n",
    "        return f\"{self.employee.name} is cooking\"\n",
    "\n",
    "\n",
    "jakob = Cook(employee=Employee(name=\"Jakob\"))\n",
    "print(jakob.work())"
   ]
  },
  {
   "cell_type": "code",
   "execution_count": null,
   "metadata": {},
   "outputs": [],
   "source": [
    "class Cook:\n",
    "    \"\"\"A class representing a Cook.\"\"\"\n",
    "\n",
    "    def __init__(self, name: str):\n",
    "        \"\"\"Initialize a Cook instance.\"\"\"\n",
    "        self.name = name\n",
    "\n",
    "jakob = Cook(name=\"Jakob\")\n",
    "jakob.signature_dish = \"Afbak pizza\""
   ]
  },
  {
   "cell_type": "code",
   "execution_count": null,
   "metadata": {},
   "outputs": [
    {
     "name": "stdout",
     "output_type": "stream",
     "text": [
      "Jakob is making Afbak pizza.\n"
     ]
    }
   ],
   "source": [
    "class Cook:\n",
    "    \"\"\"A class representing a Cook.\"\"\"\n",
    "\n",
    "    def __init__(self, name: str):\n",
    "        \"\"\"Initialize a Cook instance.\"\"\"\n",
    "        self.name = name\n",
    "\n",
    "    def make_signature_dish(self, signature_dish: str):\n",
    "        \"\"\"Make the signature dish.\"\"\"\n",
    "        self.signature_dish = signature_dish\n",
    "        print(f\"{self.name} is making {self.signature_dish}.\")\n",
    "\n",
    "\n",
    "jakob = Cook(name=\"Jakob\")\n",
    "jakob.make_signature_dish(signature_dish=\"Afbak pizza\")"
   ]
  },
  {
   "cell_type": "code",
   "execution_count": null,
   "metadata": {},
   "outputs": [
    {
     "name": "stdout",
     "output_type": "stream",
     "text": [
      "Jakob is washing hands before cooking.\n",
      "Jakob is making Afbak pizza.\n",
      "Jakob is doing the dishes after cooking.\n"
     ]
    }
   ],
   "source": [
    "class Cook:\n",
    "    \"\"\"A class representing a Cook.\"\"\"\n",
    "\n",
    "    def __init__(self, name: str, signature_dish: str):\n",
    "        \"\"\"Initialize a Cook instance.\"\"\"\n",
    "        self.name = name\n",
    "        self.signature_dish = signature_dish\n",
    "\n",
    "    def make_signature_dish(self):\n",
    "        \"\"\"Make the signature dish.\"\"\"\n",
    "        self._make_signature_dish_prepare()\n",
    "        print(f\"{self.name} is making {self.signature_dish}.\")\n",
    "        self._make_signature_dish_clean_up()\n",
    "\n",
    "    def _make_signature_dish_prepare(self):\n",
    "        \"\"\"Private method to wash hands.\"\"\"\n",
    "        print(f\"{self.name} is washing hands before cooking.\")\n",
    "\n",
    "    def _make_signature_dish_clean_up(self):\n",
    "        \"\"\"Private method to do dishes.\"\"\"\n",
    "        print(f\"{self.name} is doing the dishes after cooking.\")\n",
    "\n",
    "jakob = Cook(name=\"Jakob\", signature_dish=\"Afbak pizza\")\n",
    "jakob.make_signature_dish()\n",
    "\n",
    "jakob.\n",
    "\n",
    "Cook."
   ]
  }
 ],
 "metadata": {
  "kernelspec": {
   "display_name": "sparo",
   "language": "python",
   "name": "python3"
  },
  "language_info": {
   "codemirror_mode": {
    "name": "ipython",
    "version": 3
   },
   "file_extension": ".py",
   "mimetype": "text/x-python",
   "name": "python",
   "nbconvert_exporter": "python",
   "pygments_lexer": "ipython3",
   "version": "3.10.5"
  }
 },
 "nbformat": 4,
 "nbformat_minor": 2
}
