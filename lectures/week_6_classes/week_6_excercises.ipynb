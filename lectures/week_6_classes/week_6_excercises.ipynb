{
 "cells": [
  {
   "cell_type": "markdown",
   "metadata": {},
   "source": [
    "# Readings/ watchings"
   ]
  },
  {
   "cell_type": "markdown",
   "metadata": {},
   "source": [
    "Video about inheritance over composition: <br>\n",
    "https://www.youtube.com/watch?v=hxGOiiR9ZKg&ab_channel=CodeAesthetic <br>\n",
    "\n",
    "Video about dependency injection: <br>\n",
    "https://www.youtube.com/watch?v=J1f5b4vcxCQ&ab_channel=CodeAesthetic <br>"
   ]
  },
  {
   "cell_type": "markdown",
   "metadata": {},
   "source": [
    "# Exercises"
   ]
  },
  {
   "cell_type": "code",
   "execution_count": null,
   "metadata": {},
   "outputs": [],
   "source": [
    "# Question 1a: Combine the following functions into a class, where write file_path and columns as attributes.\n",
    "import pandas as pd\n",
    "\n",
    "\n",
    "file_path = \"...\"\n",
    "columns = [\"dummy1\", \"dummy2\", \"dummy3\"]\n",
    "\n",
    "def read_dataframe(file_path: str) -> pd.DataFrame:\n",
    "    \"\"\"Reads a CSV file and returns a DataFrame.\"\"\"\n",
    "    return pd.read_csv(file_path)\n",
    "\n",
    "def clean_dataframe(df: pd.DataFrame) -> pd.DataFrame:\n",
    "    \"\"\"Cleans the DataFrame by dropping rows with any NaN values.\"\"\"\n",
    "    return df.dropna()\n",
    "\n",
    "def get_relevant_columns(df: pd.DataFrame, columns: list) -> pd.DataFrame:\n",
    "    \"\"\"Returns a DataFrame with only the specified columns.\"\"\"\n",
    "    return df[columns]\n",
    "\n",
    "\n",
    "\n",
    "def add_file_path_column(df: pd.DataFrame, file_path: str) -> pd.DataFrame:\n",
    "    \"\"\"Adds a column with the file path to the DataFrame.\"\"\"\n",
    "    df['file_path'] = file_path\n",
    "    return df\n",
    "\n",
    "\n",
    "data = read_dataframe(file_path)\n",
    "cleaned_data = clean_dataframe(data)\n",
    "cleaned_data = get_relevant_columns(cleaned_data, columns)\n",
    "cleaned_data = add_file_path_column(cleaned_data, file_path)"
   ]
  },
  {
   "cell_type": "code",
   "execution_count": null,
   "metadata": {},
   "outputs": [],
   "source": [
    "# Your answer here:\n"
   ]
  },
  {
   "cell_type": "code",
   "execution_count": null,
   "metadata": {},
   "outputs": [],
   "source": [
    "# answer\n",
    "print(\n",
    "'''\n",
    "answer 1a:\n",
    "    class DataFrameProcessor:\n",
    "        def __init__(self, file_path: str, columns: list):\n",
    "            self.file_path = file_path\n",
    "            self.columns = columns\n",
    "\n",
    "        def read_dataframe(self) -> pd.DataFrame:\n",
    "            \"\"\"Reads a CSV file and returns a DataFrame.\"\"\"\n",
    "            return pd.read_csv(self.file_path)\n",
    "\n",
    "        def clean_dataframe(self, df: pd.DataFrame) -> pd.DataFrame:\n",
    "            \"\"\"Cleans the DataFrame by dropping rows with any NaN values.\"\"\"\n",
    "            return df.dropna()\n",
    "\n",
    "        def get_relevant_columns(self, df: pd.DataFrame) -> pd.DataFrame:\n",
    "            \"\"\"Returns a DataFrame with only the specified columns.\"\"\"\n",
    "            return df[self.columns]\n",
    "        \n",
    "        def add_file_path_column(self, df: pd.DataFrame) -> pd.DataFrame:\n",
    "            \"\"\"Adds a column with the file path to the DataFrame.\"\"\"\n",
    "            df['file_path'] = self.file_path\n",
    "            return df\n",
    "    \n",
    "'''\n",
    ")"
   ]
  },
  {
   "cell_type": "code",
   "execution_count": null,
   "metadata": {},
   "outputs": [],
   "source": [
    "# Question 1b: Make a new method called get_cleaned_data that combines all the previous methods and returns the cleaned DataFrame.\n",
    "# also initialize the class with file_path and columns as attributes and write the code to use this method"
   ]
  },
  {
   "cell_type": "code",
   "execution_count": null,
   "metadata": {},
   "outputs": [],
   "source": [
    "# Your answer here:\n"
   ]
  },
  {
   "cell_type": "code",
   "execution_count": null,
   "metadata": {},
   "outputs": [],
   "source": [
    "# Answer:\n",
    "print(\n",
    "'''\n",
    "answer 1b:\n",
    "    class DataFrameProcessor:\n",
    "       \n",
    "        ... # (previous methods remain unchanged)\n",
    "\n",
    "        def get_cleaned_data(self) -> pd.DataFrame:\n",
    "            \"\"\"Combines all methods to return the cleaned DataFrame.\"\"\"\n",
    "            data = self.read_dataframe()\n",
    "            cleaned_data = self.clean_dataframe(data)\n",
    "            cleaned_data = self.get_relevant_columns(cleaned_data)\n",
    "            cleaned_data = self.multiply_all_dummy_columns_by_two(cleaned_data)\n",
    "            cleaned_data = self.add_file_path_column(cleaned_data)\n",
    "            return cleaned_data\n",
    "\n",
    "\n",
    "    cleaned_data = DataFrameProcessor(file_path=file_path, columns=columns).get_cleaned_data()\n",
    "\n",
    "\n",
    "    You just made Jakobs favourite class pattern!\n",
    "'''\n",
    ")"
   ]
  },
  {
   "cell_type": "code",
   "execution_count": null,
   "metadata": {},
   "outputs": [],
   "source": [
    "# Question 2a: Write a class for an ADC employee which has the following attributes: name, age, position, length"
   ]
  },
  {
   "cell_type": "code",
   "execution_count": null,
   "metadata": {},
   "outputs": [],
   "source": [
    "# Your answer here:"
   ]
  },
  {
   "cell_type": "code",
   "execution_count": null,
   "metadata": {},
   "outputs": [],
   "source": [
    "# answer:\n",
    "print(\n",
    "'''\n",
    "answer 2a:\n",
    "    class AdcEmployee:\n",
    "        \"\"\"Class representing an ADC employee with attributes name, age, position, and length.\"\"\"\n",
    "        def __init__(self, name: str, age: int, position: str, length: int):\n",
    "            \"\"\"Initializes the ADC employee with name, age, position, and length.\"\"\"\n",
    "            self.name = name\n",
    "            self.age = age\n",
    "            self.position = position\n",
    "            self.length = length\n",
    "\n",
    "\n",
    "# Don't forget to properly name the class and its attributes! so Adc and not ADC\n",
    "\n",
    "''')"
   ]
  },
  {
   "cell_type": "code",
   "execution_count": null,
   "metadata": {},
   "outputs": [],
   "source": [
    "# Question 2b: Write the dunder method that returns the length of the employee if we run the len() function on an instance of the class.\n",
    "# Tip: The dunder method is called __len__ "
   ]
  },
  {
   "cell_type": "code",
   "execution_count": null,
   "metadata": {},
   "outputs": [],
   "source": [
    "# Your answer here:\n"
   ]
  },
  {
   "cell_type": "code",
   "execution_count": null,
   "metadata": {},
   "outputs": [],
   "source": [
    "# Answer:\n",
    "print(\n",
    "'''\n",
    "answer 2b:\n",
    "    class AdcEmployee:\n",
    "        \"\"\"Class representing an ADC employee with attributes name, age, position, and length.\"\"\"\n",
    "        def __init__(self, name: str, age: int, position: str, length: int):\n",
    "            \"\"\"Initializes the ADC employee with name, age, position, and length.\"\"\"\n",
    "            self.name = name\n",
    "            self.age = age\n",
    "            self.position = position\n",
    "            self.length = length\n",
    "\n",
    "        def __len__(self) -> int:\n",
    "            \"\"\"Returns the length of the employee.\"\"\"\n",
    "            return self.length\n",
    "\n",
    "''')"
   ]
  },
  {
   "cell_type": "code",
   "execution_count": null,
   "metadata": {},
   "outputs": [],
   "source": [
    "# Question 2c: Also write a dunder method for when we print the instance of the class"
   ]
  },
  {
   "cell_type": "code",
   "execution_count": null,
   "metadata": {},
   "outputs": [],
   "source": [
    "# Your answer here:"
   ]
  },
  {
   "cell_type": "code",
   "execution_count": null,
   "metadata": {},
   "outputs": [],
   "source": [
    "# Answer:\n",
    "print(\n",
    "'''\n",
    "answer 2c:\n",
    "    class AdcEmployee:\n",
    "        \"\"\"Class representing an ADC employee with attributes name, age, position, and length.\"\"\"\n",
    "        def __init__(self, name: str, age: int, position: str, length: int):\n",
    "            \"\"\"Initializes the ADC employee with name, age, position, and length.\"\"\"\n",
    "            self.name = name\n",
    "            self.age = age\n",
    "            self.position = position\n",
    "            self.length = length\n",
    "\n",
    "        def __len__(self) -> int:\n",
    "            \"\"\"Returns the length of the employee.\"\"\"\n",
    "            return self.length\n",
    "        \n",
    "        def __str__(self) -> str:\n",
    "            \"\"\"Returns a string representation of the ADC employee.\"\"\"\n",
    "            return f\"AdcEmployee(name={self.name}, age={self.age}, position={self.position}, length={self.length})\"\n",
    "''')"
   ]
  },
  {
   "cell_type": "code",
   "execution_count": null,
   "metadata": {},
   "outputs": [],
   "source": [
    "# Question 3a: Explain what the following code does. Are we using inheritance here? If so, what is the parent class and what is the child class?\n",
    "\n",
    "import pandas as pd\n",
    "\n",
    "class CSVLoader:\n",
    "    def load(self, path):\n",
    "        return pd.read_csv(path)\n",
    "\n",
    "class DataCleaner(CSVLoader):  \n",
    "    def clean(self, path):\n",
    "        df = self.load(path)\n",
    "        df.dropna(inplace=True)\n",
    "        df.columns = [col.lower() for col in df.columns]\n",
    "        return df\n",
    "    \n",
    "cleaned_data = DataCleaner().clean(\"data.csv\")"
   ]
  },
  {
   "cell_type": "code",
   "execution_count": null,
   "metadata": {},
   "outputs": [],
   "source": [
    "# Your answer here:"
   ]
  },
  {
   "cell_type": "code",
   "execution_count": null,
   "metadata": {},
   "outputs": [],
   "source": [
    "# answer:\n",
    "print(\n",
    "'''\n",
    "Answer 3a\n",
    "    The code defines two classes: CSVLoader and DataCleaner. CSVLoader has a method to load a CSV file into a DataFrame using pandas.\n",
    "    DataCleaner inherits from CSVLoader and adds a method to clean the DataFrame.\n",
    "\n",
    "    Yes, we are using inheritance here. The parent class is CSVLoader, and the child class is DataCleaner.\n",
    "    DataCleaner extends the functionality of CSVLoader by adding data cleaning capabilities.\n",
    "'''\n",
    ")"
   ]
  },
  {
   "cell_type": "code",
   "execution_count": null,
   "metadata": {},
   "outputs": [],
   "source": [
    "# Question 3b: Do you think this is a good example of inheritance? Why or why not?"
   ]
  },
  {
   "cell_type": "code",
   "execution_count": null,
   "metadata": {},
   "outputs": [],
   "source": [
    "# Question 3c: Rewrite this code without inheritance, using composition instead."
   ]
  },
  {
   "cell_type": "code",
   "execution_count": null,
   "metadata": {},
   "outputs": [],
   "source": [
    "# Your answer here:"
   ]
  },
  {
   "cell_type": "code",
   "execution_count": null,
   "metadata": {},
   "outputs": [],
   "source": [
    "# Answer:\n",
    "print(\n",
    "'''\n",
    "Answer 3c:\n",
    "    class CSVLoader:\n",
    "        def load(self, path):\n",
    "            return pd.read_csv(path)\n",
    "\n",
    "    class DataCleaner:\n",
    "        def __init__(self):\n",
    "            self.loader = CSVLoader()\n",
    "\n",
    "        def clean(self, path):\n",
    "            df = self.loader.load(path)\n",
    "            df.dropna(inplace=True)\n",
    "            df.columns = [col.lower() for col in df.columns]\n",
    "            return df\n",
    "\n",
    "    cleaned_data = DataCleaner().clean(\"data.csv\")\n",
    "''')"
   ]
  }
 ],
 "metadata": {
  "kernelspec": {
   "display_name": "sparo",
   "language": "python",
   "name": "python3"
  },
  "language_info": {
   "codemirror_mode": {
    "name": "ipython",
    "version": 3
   },
   "file_extension": ".py",
   "mimetype": "text/x-python",
   "name": "python",
   "nbconvert_exporter": "python",
   "pygments_lexer": "ipython3",
   "version": "3.10.5"
  }
 },
 "nbformat": 4,
 "nbformat_minor": 2
}
