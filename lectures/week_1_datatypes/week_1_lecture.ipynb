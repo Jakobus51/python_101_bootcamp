{
 "cells": [
  {
   "cell_type": "markdown",
   "metadata": {},
   "source": [
    "# Data type quiz"
   ]
  },
  {
   "cell_type": "code",
   "execution_count": null,
   "metadata": {},
   "outputs": [],
   "source": [
    "x = 7\n",
    "print(type(x))"
   ]
  },
  {
   "cell_type": "code",
   "execution_count": null,
   "metadata": {},
   "outputs": [],
   "source": [
    "x = 7.0\n",
    "print(type(x))"
   ]
  },
  {
   "cell_type": "code",
   "execution_count": null,
   "metadata": {},
   "outputs": [],
   "source": [
    "x = -7\n",
    "print(type(x))"
   ]
  },
  {
   "cell_type": "code",
   "execution_count": null,
   "metadata": {},
   "outputs": [],
   "source": [
    "x = \"seven\"\n",
    "print(type(x))"
   ]
  },
  {
   "cell_type": "code",
   "execution_count": null,
   "metadata": {},
   "outputs": [],
   "source": [
    "x = \"7\"\n",
    "print(type(x))"
   ]
  },
  {
   "cell_type": "markdown",
   "metadata": {},
   "source": [
    "# Strongly vs. dynamically typed"
   ]
  },
  {
   "cell_type": "code",
   "execution_count": null,
   "metadata": {},
   "outputs": [],
   "source": [
    "# this is what strongly typed would look like\n",
    "x: int = 7\n",
    "y: float = 7.0\n",
    "z: str = \"7\""
   ]
  },
  {
   "cell_type": "code",
   "execution_count": null,
   "metadata": {},
   "outputs": [],
   "source": [
    "# But Python is dynamically typed, so you can do this:\n",
    "x = 7\n",
    "y = 7.0\n",
    "z = \"7\""
   ]
  },
  {
   "cell_type": "markdown",
   "metadata": {},
   "source": [
    "# Single vs. collection datatypes"
   ]
  },
  {
   "cell_type": "code",
   "execution_count": null,
   "metadata": {},
   "outputs": [],
   "source": [
    "# Single datatypes are not a collection of other data types/ they can only hold a single value:\n",
    "x = 7\n",
    "y = 7.0\n",
    "z = \"7\""
   ]
  },
  {
   "cell_type": "code",
   "execution_count": null,
   "metadata": {},
   "outputs": [],
   "source": [
    "# Collections are a data type that can hold multiple values in a single variable\n",
    "x = [7, 7.0, \"7\"]\n",
    "\n",
    "# They can also hold other collections:\n",
    "\n",
    "y = [7, 7.0, \"7\", [1, 2, 3]]"
   ]
  },
  {
   "cell_type": "markdown",
   "metadata": {},
   "source": [
    "# Native vs. external datatypes"
   ]
  },
  {
   "cell_type": "code",
   "execution_count": null,
   "metadata": {},
   "outputs": [],
   "source": [
    "# native datatypes can be used without importing anything\n",
    "\n",
    "x = int()\n",
    "y = float()\n",
    "z = str()"
   ]
  },
  {
   "cell_type": "code",
   "execution_count": null,
   "metadata": {},
   "outputs": [],
   "source": [
    "# External datatypes need to be imported first\n",
    "# This will throw an error:\n",
    "\n",
    "x = pandas.DataFrame()"
   ]
  },
  {
   "cell_type": "code",
   "execution_count": null,
   "metadata": {},
   "outputs": [],
   "source": [
    "# But will work if you import the library first\n",
    "\n",
    "import pandas\n",
    "\n",
    "x = pandas.DataFrame()"
   ]
  },
  {
   "cell_type": "markdown",
   "metadata": {},
   "source": [
    "# Casting"
   ]
  },
  {
   "cell_type": "code",
   "execution_count": null,
   "metadata": {},
   "outputs": [],
   "source": [
    "# int to float conversion\n",
    "x_int = int(7)\n",
    "print(type(x_int), x_int)\n",
    "\n",
    "x_float = float(x_int)\n",
    "print(type(x_float), x_float)"
   ]
  },
  {
   "cell_type": "code",
   "execution_count": null,
   "metadata": {},
   "outputs": [],
   "source": [
    "# string to int conversion\n",
    "x_str = str(\"7\")\n",
    "print(type(x_str), x_str)\n",
    "\n",
    "x_int = int(x_str)\n",
    "print(type(x_int), x_int)"
   ]
  },
  {
   "cell_type": "code",
   "execution_count": null,
   "metadata": {},
   "outputs": [],
   "source": [
    "# invalid string to float conversion\n",
    "x_str = str(\"Thomas\")\n",
    "print(type(x_str), x_str)\n",
    "\n",
    "x_float = float(x_str)\n",
    "print(type(x_float), x_float)"
   ]
  },
  {
   "cell_type": "code",
   "execution_count": null,
   "metadata": {},
   "outputs": [],
   "source": [
    "x_list = [1, 1, 1, 1]\n",
    "print(type(x_list), x_list)\n",
    "\n",
    "x_set = set(x_list)\n",
    "print(type(x_set), x_set)"
   ]
  },
  {
   "cell_type": "markdown",
   "metadata": {},
   "source": [
    "# Dictionaries"
   ]
  },
  {
   "cell_type": "code",
   "execution_count": null,
   "metadata": {},
   "outputs": [],
   "source": [
    "x = {\"key\": \"value\", \"key_2\": \"value_2\"}\n",
    "print(type(x), x)"
   ]
  },
  {
   "cell_type": "code",
   "execution_count": null,
   "metadata": {},
   "outputs": [],
   "source": [
    "# Keys are unique in a dictionary, so the last one will overwrite the first one\n",
    "x = {\"key\": \"value\", \"key\": \"value_2\"}\n",
    "print(x)"
   ]
  },
  {
   "cell_type": "code",
   "execution_count": null,
   "metadata": {},
   "outputs": [],
   "source": [
    "# Keys need to be hashable, so you can use strings, numbers, and tuples\n",
    "x_int = 1\n",
    "x_float = 1.0\n",
    "x_str = \"1\"\n",
    "x_tuple = (1, 2)\n",
    "x_dict = {x_int: \"value\", x_float: \"value_2\", x_str: \"value_3\", x_tuple: \"value_4\"}\n",
    "print(x_dict)"
   ]
  },
  {
   "cell_type": "code",
   "execution_count": null,
   "metadata": {},
   "outputs": [],
   "source": [
    "# But you cannot use lists or sets as keys\n",
    "x_list = [1, 2]\n",
    "x_set = {1, 2}\n",
    "x_dict = {x_list: \"value\", x_set: \"value_2\"} # this will throw an error\n",
    "print(x_dict)"
   ]
  },
  {
   "cell_type": "code",
   "execution_count": null,
   "metadata": {},
   "outputs": [],
   "source": [
    "# Values can be anything, even other dictionaries\n",
    "x_dict_1 = {\"sub_key_1\": \"sub_value_1\", \"sub_key_2\": \"sub_value_2\"}\n",
    "x_dict_2 = {\"key\": x_dict_1}\n",
    "print(x_dict_2)"
   ]
  },
  {
   "cell_type": "code",
   "execution_count": null,
   "metadata": {},
   "outputs": [],
   "source": [
    "x = 2e6\n",
    "print(x)"
   ]
  }
 ],
 "metadata": {
  "kernelspec": {
   "display_name": ".venv",
   "language": "python",
   "name": "python3"
  },
  "language_info": {
   "codemirror_mode": {
    "name": "ipython",
    "version": 3
   },
   "file_extension": ".py",
   "mimetype": "text/x-python",
   "name": "python",
   "nbconvert_exporter": "python",
   "pygments_lexer": "ipython3",
   "version": "3.10.5"
  }
 },
 "nbformat": 4,
 "nbformat_minor": 2
}
