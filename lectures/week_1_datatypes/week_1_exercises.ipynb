{
 "cells": [
  {
   "cell_type": "markdown",
   "metadata": {},
   "source": [
    "# Initializing"
   ]
  },
  {
   "cell_type": "code",
   "execution_count": null,
   "metadata": {},
   "outputs": [],
   "source": [
    "# Question 1: what are the datatypes of the following variables?\n",
    "a_1 = 1\n",
    "b_1 = 2**128\n",
    "c_1 = -3255522\n",
    "d_1 = 3.14\n",
    "e_1 = 3.14e-10\n",
    "f_1 = 3.14e10\n",
    "g_1 = 3.14j  #\n",
    "h_1 = 3.14e10j\n",
    "i_1 = 3.14e-10j\n",
    "j_1 = True\n",
    "k_1 = False\n",
    "l_1 = None\n",
    "m_1 = \"hello\"\n",
    "n_1 = \"hello\"\n",
    "o_1 = \"\"\"hello\"\"\"\n",
    "p_1 = \"\"\n",
    "q_1 = [1, 2, 3]\n",
    "r_1 = []\n",
    "s_1 = [1, 2, 3, [4, 5]]\n",
    "t_1 = (1, 2, 3)\n",
    "u_1 = (1,)\n",
    "v_1 = 1\n",
    "w_1 = {1, 2, 3}\n",
    "x_1 = {}\n",
    "y_1 = {1: \"one\", 2: \"two\"}\n",
    "z_1 = {1: {2: \"two\"}}"
   ]
  },
  {
   "cell_type": "code",
   "execution_count": null,
   "metadata": {},
   "outputs": [],
   "source": [
    "# Your answer here:"
   ]
  },
  {
   "cell_type": "markdown",
   "metadata": {},
   "source": [
    "To see the answer click the play button next to the # answer: cell"
   ]
  },
  {
   "cell_type": "code",
   "execution_count": null,
   "metadata": {},
   "outputs": [],
   "source": [
    "# answer:\n",
    "print(f\"{type(a_1) = }\")\n",
    "print(f\"{type(b_1) = }\")\n",
    "print(f\"{type(c_1) = }\")\n",
    "print(f\"{type(d_1) = }\")\n",
    "print(f\"{type(e_1) = }\")\n",
    "print(f\"{type(f_1) = }\")\n",
    "print(f\"{type(g_1) = }\")\n",
    "print(f\"{type(h_1) = }\")\n",
    "print(f\"{type(i_1) = }\")\n",
    "print(f\"{type(j_1) = }\")\n",
    "print(f\"{type(k_1) = }\")\n",
    "print(f\"{type(l_1) = }\")\n",
    "print(f\"{type(m_1) = }\")\n",
    "print(f\"{type(n_1) = }\")\n",
    "print(f\"{type(o_1) = }\")\n",
    "print(f\"{type(p_1) = }\")\n",
    "print(f\"{type(q_1) = }\")\n",
    "print(f\"{type(r_1) = }\")\n",
    "print(f\"{type(s_1) = }\")\n",
    "print(f\"{type(t_1) = }\")\n",
    "print(f\"{type(u_1) = }\")\n",
    "print(f\"{type(v_1) = }\", \"It is only a tuple if there is a comma after the 1, otherwise it is an int\")\n",
    "print(f\"{type(w_1) = }\")\n",
    "print(f\"{type(x_1) = }\")\n",
    "print(f\"{type(y_1) = }\")\n",
    "print(f\"{type(z_1) = }\")"
   ]
  },
  {
   "cell_type": "markdown",
   "metadata": {},
   "source": [
    "# Casting"
   ]
  },
  {
   "cell_type": "code",
   "execution_count": null,
   "metadata": {},
   "outputs": [],
   "source": [
    "# Question 2: Convert the following variables to integers and inspect the result\n",
    "a_2 = \"1\"\n",
    "b_2 = \"1.0\"\n",
    "c_2 = \"ADC\"\n",
    "d_2 = 1e3\n",
    "e_2 = 1.5\n",
    "f_2 = 2.9\n",
    "g_2 = True\n",
    "h_2 = False\n",
    "i_2 = None"
   ]
  },
  {
   "cell_type": "code",
   "execution_count": null,
   "metadata": {},
   "outputs": [],
   "source": [
    "# Your answer here:"
   ]
  },
  {
   "cell_type": "code",
   "execution_count": null,
   "metadata": {},
   "outputs": [],
   "source": [
    "# Answer:\n",
    "print(\"a:\")\n",
    "print(f\"{a_2=} {int(a_2) = }\")\n",
    "\n",
    "print(\"\\nb:\")\n",
    "print(\"int('1.0') raises ValueError\")\n",
    "\n",
    "print(\"\\nc:\")\n",
    "print(\"int('ADC') raises ValueError, Python cannot convert a string with non-numeric characters to int\")\n",
    "\n",
    "print(\"\\nd:\")\n",
    "print(f\"{d_2=} {int(d_2) = }\")\n",
    "\n",
    "print(\"\\ne & f:\")\n",
    "print(f\"{e_2=} {int(e_2) = }\")\n",
    "print(f\"{f_2=} {int(f_2) = }\")\n",
    "print(\"When converting floats to int, the decimal part is truncated, so we always round down\")\n",
    "\n",
    "print(\"\\ng & h:\")\n",
    "print(f\"{g_2=} {int(g_2) = }\")\n",
    "print(f\"{h_2=} {int(h_2) = }\")\n",
    "print(\"True is converted to 1, False is converted to 0\")\n",
    "\n",
    "print(\"\\ni:\")\n",
    "print(\"int(None) raises TypeError, None cannot be converted to int\")"
   ]
  },
  {
   "cell_type": "code",
   "execution_count": null,
   "metadata": {},
   "outputs": [],
   "source": [
    "# Question 3: Convert the following variables to floats and inspect the result\n",
    "a_3 = \"1\"\n",
    "b_3 = \"1.0\"\n",
    "c_3 = \"ADC\"\n",
    "d_3 = 2**64\n",
    "e_3 = -10\n",
    "f_3 = True\n",
    "g_3 = False\n",
    "h_3 = None"
   ]
  },
  {
   "cell_type": "code",
   "execution_count": null,
   "metadata": {},
   "outputs": [],
   "source": [
    "# Your answer here:"
   ]
  },
  {
   "cell_type": "code",
   "execution_count": null,
   "metadata": {},
   "outputs": [],
   "source": [
    "# Answer:\n",
    "print(\"a:\")\n",
    "print(f\"{a_3=} {float(a_3) = }\")\n",
    "\n",
    "print(\"\\nb:\")\n",
    "print(f\"{b_3=} {float(b_3) = }\")\n",
    "\n",
    "print(\"\\nc:\")\n",
    "print(\"float('ADC') raises ValueError, Python cannot convert a string with non-numeric characters to float\")\n",
    "\n",
    "print(\"\\nd:\")\n",
    "print(f\"{d_3=} {float(d_3) = }\")\n",
    "\n",
    "print(\"\\ne:\")\n",
    "print(f\"{e_3=} {float(e_3) = }\")\n",
    "\n",
    "print(\"\\nf & g:\")\n",
    "print(f\"{f_3=} {float(f_3) = }\")\n",
    "print(f\"{g_3=} {float(g_3) = }\")\n",
    "print(\"When converting floats to int, the decimal part is truncated, so we always round down\")\n",
    "\n",
    "print(\"\\nh:\")\n",
    "print(\"float(None) raises TypeError, None cannot be converted to float\")"
   ]
  },
  {
   "cell_type": "code",
   "execution_count": null,
   "metadata": {},
   "outputs": [],
   "source": [
    "# Question 4: Convert the following variables to strings and inspect the result\n",
    "a_4 = 1\n",
    "c_4 = 2**16\n",
    "b_4 = 1.0\n",
    "c_4 = 10e24\n",
    "d_4 = True\n",
    "e_4 = False\n",
    "f_4 = None\n",
    "g_4 = [1, 2, 3]\n",
    "h_4 = (1, 2, 3)\n",
    "i_4 = {1, 2, 3}\n",
    "j_4 = {1: \"one\", 2: \"two\"}"
   ]
  },
  {
   "cell_type": "code",
   "execution_count": null,
   "metadata": {},
   "outputs": [],
   "source": [
    "# Your answer here:"
   ]
  },
  {
   "cell_type": "code",
   "execution_count": null,
   "metadata": {},
   "outputs": [],
   "source": [
    "# Answer:\n",
    "print(\"a:\")\n",
    "print(f\"{a_4=} {str(a_4) = }\")\n",
    "\n",
    "print(\"\\nb:\")\n",
    "print(f\"{b_4=} {str(b_4) = }\")\n",
    "\n",
    "print(\"\\nc:\")\n",
    "print(f\"{c_4=} {str(c_4) = }\")\n",
    "\n",
    "print(\"\\nd:\")\n",
    "print(f\"{d_4=} {str(d_4) = }\")\n",
    "\n",
    "print(\"\\ne:\")\n",
    "print(f\"{e_4=} {str(e_4) = }\")\n",
    "\n",
    "print(\"\\nf:\")\n",
    "print(f\"{f_4=} {str(f_4) = }\")\n",
    "\n",
    "print(\"\\ng:\")\n",
    "print(f\"{g_4=} {str(g_4) = }\")\n",
    "\n",
    "print(\"\\nh:\")\n",
    "print(f\"{h_4=} {str(h_4) = }\")\n",
    "\n",
    "print(\"\\ni:\")\n",
    "print(f\"{i_4=} {str(i_4) = }\")\n",
    "\n",
    "print(\"\\nj:\")\n",
    "print(f\"{j_4=} {str(j_4) = }\")\n",
    "\n",
    "print(\"In general, we can convert any object to a string using str()\")\n"
   ]
  },
  {
   "cell_type": "code",
   "execution_count": null,
   "metadata": {},
   "outputs": [],
   "source": [
    "# Question 5: Convert the following variables to booleans and inspect the result\n",
    "a_5 = 0\n",
    "b_5 = 1\n",
    "c_5 = -1\n",
    "d_5 = 0.0\n",
    "e_5 = 1.0\n",
    "f_5 = -1.0\n",
    "g_5 = \"\"\n",
    "h_5 = \"hello\"\n",
    "i_5 = []\n",
    "j_5 = [1, 2, 3]\n",
    "k_5 = ()\n",
    "l_5 = (1, 2, 3)\n",
    "m_5 = {}\n",
    "n_5 = {1: \"one\", 2: \"two\"}\n",
    "o_5 = None"
   ]
  },
  {
   "cell_type": "code",
   "execution_count": null,
   "metadata": {},
   "outputs": [],
   "source": [
    "# Your answer here:"
   ]
  },
  {
   "cell_type": "code",
   "execution_count": null,
   "metadata": {},
   "outputs": [],
   "source": [
    "# Answer:\n",
    "print(\"a:\")\n",
    "print(f\"{a_5=} {bool(a_5) = }\")\n",
    "print(\"\\nb:\")\n",
    "print(f\"{b_5=} {bool(b_5) = }\")\n",
    "print(\"\\nc:\")\n",
    "print(f\"{c_5=} {bool(c_5) = }\")\n",
    "print(\"\\nd:\")\n",
    "print(f\"{d_5=} {bool(d_5) = }\")\n",
    "print(\"\\ne:\")\n",
    "print(f\"{e_5=} {bool(e_5) = }\")\n",
    "print(\"\\nf:\")\n",
    "print(f\"{f_5=} {bool(f_5) = }\")\n",
    "print(\"\\ng:\")\n",
    "print(f\"{g_5=} {bool(g_5) = }\")\n",
    "print(\"\\nh:\")\n",
    "print(f\"{h_5=} {bool(h_5) = }\")\n",
    "print(\"\\ni:\")\n",
    "print(f\"{i_5=} {bool(i_5) = }\")\n",
    "print(\"\\nj:\")\n",
    "print(f\"{j_5=} {bool(j_5) = }\")\n",
    "print(\"\\nk:\")\n",
    "print(f\"{k_5=} {bool(k_5) = }\")\n",
    "print(\"\\nl:\")\n",
    "print(f\"{l_5=} {bool(l_5) = }\")\n",
    "print(\"\\nm:\")\n",
    "print(f\"{m_5=} {bool(m_5) = }\")\n",
    "print(\"\\nn:\")\n",
    "print(f\"{n_5=} {bool(n_5) = }\")\n",
    "print(\"\\no:\")\n",
    "print(f\"{o_5=} {bool(o_5) = }\")\n",
    "print(\"In general, the following values are considered False in Python:\")\n",
    "print(\"0, 0.0, '', [], (), {}, None\")\n",
    "print(\"All other values are considered True. We will use this next week!\")"
   ]
  },
  {
   "cell_type": "code",
   "execution_count": null,
   "metadata": {},
   "outputs": [],
   "source": [
    "# Question 6: Convert the following variables to lists\n",
    "a_6 = 1\n",
    "b_6 = 1.0\n",
    "c_6 = True\n",
    "d_6 = \"hello\"\n",
    "e_6 = (1,)\n",
    "f_6 = {1}\n",
    "g_6 = {1: \"one\", 2: \"two\"}\n",
    "h_6 = None"
   ]
  },
  {
   "cell_type": "code",
   "execution_count": null,
   "metadata": {},
   "outputs": [],
   "source": [
    "# Your answer here:"
   ]
  },
  {
   "cell_type": "code",
   "execution_count": null,
   "metadata": {},
   "outputs": [],
   "source": [
    "# Answer:\n",
    "print(\"a & b & c:\")\n",
    "print(\"we cannot convert a single number or boolean to a list\")\n",
    "\n",
    "print(\"\\nd:\")\n",
    "print(f\"{d_6=} {list(d_6) = }\")\n",
    "print(\n",
    "    \"A string is iterable, so we can convert it to a list of characters, We will go into more detail into this in week 3\"\n",
    ")\n",
    "\n",
    "print(\"\\ne:\")\n",
    "print(f\"{e_6=} {list(e_6) = }\")\n",
    "\n",
    "print(\"\\nf:\")\n",
    "print(f\"{f_6=} {list(f_6) = }\")\n",
    "\n",
    "print(\"\\ng:\")\n",
    "print(f\"{g_6=} {list(g_6) = }\")\n",
    "print(\"A dictionary is iterable, but it is iterable over the keys, so we get a list of the keys\")\n",
    "\n",
    "print(\"\\nh:\")\n",
    "print(\"list(None) raises TypeError, None is not iterable\")"
   ]
  },
  {
   "cell_type": "code",
   "execution_count": null,
   "metadata": {},
   "outputs": [],
   "source": [
    "# Question 7: Convert the following variables to sets\n",
    "a_7 = 1\n",
    "b_7 = [1, 2, 3]\n",
    "c_7 = (1, 1, 2, 2, 3, 3)\n",
    "d_7 = {1: \"one\", 2: \"two\"}\n"
   ]
  },
  {
   "cell_type": "code",
   "execution_count": null,
   "metadata": {},
   "outputs": [],
   "source": [
    "# Your answer here:"
   ]
  },
  {
   "cell_type": "code",
   "execution_count": null,
   "metadata": {},
   "outputs": [],
   "source": [
    "# Answer:\n",
    "print(\"a:\")\n",
    "print(\"we cannot convert a single number to a set\")\n",
    "\n",
    "print(\"\\nb:\")\n",
    "print(f\"{b_7=} {set(b_7) = }\")\n",
    "\n",
    "print(\"\\nc:\")\n",
    "print(f\"{c_7=} {set(c_7) = }\")\n",
    "print(\"A set does not allow duplicates, so we get a set of unique values\")\n",
    "\n",
    "print(\"\\nd:\")\n",
    "print(f\"{d_7=} {set(d_7) = }\")\n",
    "print(\"We once again get a set of the keys, not the values\")\n"
   ]
  },
  {
   "cell_type": "code",
   "execution_count": null,
   "metadata": {},
   "outputs": [],
   "source": [
    "# Question 8: Convert the following variables to dictionaries\n",
    "a_8 = 1\n",
    "b_8 = \"hello\"\n",
    "c_8 = [1, 2, 3]\n",
    "d_8 = (1, 2, 3)"
   ]
  },
  {
   "cell_type": "code",
   "execution_count": null,
   "metadata": {},
   "outputs": [],
   "source": [
    "# Your answer here:"
   ]
  },
  {
   "cell_type": "code",
   "execution_count": null,
   "metadata": {},
   "outputs": [],
   "source": [
    "# Answer:\n",
    "print(\"a:\")\n",
    "print(\"we cannot convert a single number to a dictionary\")\n",
    "\n",
    "print(\"\\nb:\")\n",
    "print(\"we cannot convert a string to a dictionary\")\n",
    "\n",
    "print(\"\\nc:\")\n",
    "print(\"we cannot convert a list to a dictionary\")\n",
    "\n",
    "print(\"\\nd:\")\n",
    "print(\"we cannot convert a tuple to a dictionary\")\n",
    "\n",
    "print(\"We can only convert a dictionary to a dictionary, or an iterable of key-value pairs to a dictionary\")"
   ]
  },
  {
   "cell_type": "code",
   "execution_count": null,
   "metadata": {},
   "outputs": [],
   "source": [
    "# Question 9: Create a dictionary with as the keys the names of the variables from question 8\n",
    "# and as the values the values of the variables from question 8"
   ]
  },
  {
   "cell_type": "code",
   "execution_count": null,
   "metadata": {},
   "outputs": [],
   "source": [
    "# Your answer here:"
   ]
  },
  {
   "cell_type": "code",
   "execution_count": null,
   "metadata": {},
   "outputs": [],
   "source": [
    "# Answer:\n",
    "dict_9 = {\n",
    "    \"a_8\": a_8,\n",
    "    \"b_8\": b_8,\n",
    "    \"c_8\": c_8,\n",
    "    \"d_8\": d_8,\n",
    "}\n",
    "print(dict_9)"
   ]
  },
  {
   "cell_type": "code",
   "execution_count": null,
   "metadata": {},
   "outputs": [],
   "source": [
    "# Question 10: Run the 'import this' command in the welcome.ipynb notebook and read the output. "
   ]
  }
 ],
 "metadata": {
  "kernelspec": {
   "display_name": ".venv",
   "language": "python",
   "name": "python3"
  },
  "language_info": {
   "codemirror_mode": {
    "name": "ipython",
    "version": 3
   },
   "file_extension": ".py",
   "mimetype": "text/x-python",
   "name": "python",
   "nbconvert_exporter": "python",
   "pygments_lexer": "ipython3",
   "version": "3.10.5"
  }
 },
 "nbformat": 4,
 "nbformat_minor": 2
}
