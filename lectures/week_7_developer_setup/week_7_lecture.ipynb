{
 "cells": [
  {
   "cell_type": "markdown",
   "metadata": {},
   "source": [
    "# From Python to bits"
   ]
  },
  {
   "cell_type": "code",
   "execution_count": null,
   "metadata": {},
   "outputs": [],
   "source": [
    "def simple_function():\n",
    "    input_1 = 5\n",
    "    input_2 = 12\n",
    "    output = input_1 * input_2\n",
    "    print(output)"
   ]
  },
  {
   "cell_type": "code",
   "execution_count": null,
   "metadata": {},
   "outputs": [
    {
     "name": "stdout",
     "output_type": "stream",
     "text": [
      "  2           0 LOAD_CONST               1 (5)\n",
      "              2 STORE_FAST               0 (input_1)\n",
      "\n",
      "  3           4 LOAD_CONST               2 (12)\n",
      "              6 STORE_FAST               1 (input_2)\n",
      "\n",
      "  4           8 LOAD_FAST                0 (input_1)\n",
      "             10 LOAD_FAST                1 (input_2)\n",
      "             12 BINARY_MULTIPLY\n",
      "             14 STORE_FAST               2 (output)\n",
      "\n",
      "  5          16 LOAD_GLOBAL              0 (print)\n",
      "             18 LOAD_FAST                2 (output)\n",
      "             20 CALL_FUNCTION            1\n",
      "             22 POP_TOP\n",
      "             24 LOAD_CONST               0 (None)\n",
      "             26 RETURN_VALUE\n"
     ]
    }
   ],
   "source": [
    "import dis\n",
    "\n",
    "\n",
    "dis.dis(simple_function)"
   ]
  },
  {
   "cell_type": "code",
   "execution_count": null,
   "metadata": {},
   "outputs": [],
   "source": [
    "test_dict = {\n",
    "    \"A\": 2,\n",
    "    \"B\": 3,\n",
    "    \"C\": 4,\n",
    "}"
   ]
  }
 ],
 "metadata": {
  "kernelspec": {
   "display_name": "sparo",
   "language": "python",
   "name": "python3"
  },
  "language_info": {
   "codemirror_mode": {
    "name": "ipython",
    "version": 3
   },
   "file_extension": ".py",
   "mimetype": "text/x-python",
   "name": "python",
   "nbconvert_exporter": "python",
   "pygments_lexer": "ipython3",
   "version": "3.10.5"
  }
 },
 "nbformat": 4,
 "nbformat_minor": 2
}
