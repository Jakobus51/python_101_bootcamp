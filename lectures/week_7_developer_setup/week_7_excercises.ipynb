{
 "cells": [
  {
   "cell_type": "markdown",
   "metadata": {},
   "source": [
    "# Readings/ watchings"
   ]
  },
  {
   "cell_type": "markdown",
   "metadata": {},
   "source": [
    "Video about why microsoft word is the best IDE (parody): <br>\n",
    "https://www.youtube.com/watch?v=X34ZmkeZDos&ab_channel=JomaTech  <br>\n",
    "\n",
    "post comparing pyenv, poetry and uv. UV is the best! <br>\n",
    "https://thijsnieuwdorp.com/posts/uv/ <br>\n",
    "\n"
   ]
  },
  {
   "cell_type": "code",
   "execution_count": null,
   "metadata": {},
   "outputs": [
    {
     "name": "stdout",
     "output_type": "stream",
     "text": [
      "Too low!\n"
     ]
    }
   ],
   "source": [
    "# Question 1: Install the Python Debugger extension for VS Code.\n",
    "# And run the following code in the debugger (press the arrow next to the play button and select debug cell)\n",
    "# Do add some stop point by clicking on the left side of the line numbers, this will add a red dot.\n",
    "# play around with the debugger command window on top\n",
    "\n",
    "import random\n",
    "\n",
    "def generate_random_number():\n",
    "    \"\"\"Generate a random number between 1 and 100.\"\"\"\n",
    "    return random.randint(1, 100)\n",
    "\n",
    "def check_guess(guess, number):\n",
    "    \"\"\"Check if the guess is correct, too high, or too low.\"\"\"\n",
    "    if guess < number:\n",
    "        return \"Too low!\"\n",
    "    elif guess > number:\n",
    "        return \"Too high!\"\n",
    "    else:\n",
    "        return \"Correct!\"\n",
    "    \n",
    "\n",
    "random_number = generate_random_number()\n",
    "YOUR_GUESS = 5\n",
    "print(check_guess(YOUR_GUESS, random_number))"
   ]
  },
  {
   "cell_type": "code",
   "execution_count": null,
   "metadata": {},
   "outputs": [],
   "source": [
    "# Question 2a: Write some very unformatted code that does not follow the python conventions.\n",
    "\"\"\"\n",
    "example:\n",
    "def my_function(   x,y, ):return x+      y **   2\n",
    "\"\"\"\n",
    "\n",
    "# Question 2b: Install the Ruff VSCode extension and set it as your default formatter.\n",
    "\n",
    "# Question 2c: Run the Format notebook vscode commend and see what happens.\n",
    "# Tip: Press F1 and search for 'Format Notebook' to find the command."
   ]
  },
  {
   "cell_type": "code",
   "execution_count": null,
   "metadata": {},
   "outputs": [],
   "source": [
    "# Question 2d: Research and enable how to automatically format your code on save."
   ]
  },
  {
   "cell_type": "code",
   "execution_count": null,
   "metadata": {},
   "outputs": [],
   "source": [
    "# Question 3: Go through this page: https://amsterdamdatacollective.atlassian.net/wiki/spaces/CTO/pages/1765015593/VSCode+shortcuts+or+how+to+be+10x+more+productive\n",
    "# And pick 1 shortcut to learn and use it in your daily work."
   ]
  },
  {
   "cell_type": "code",
   "execution_count": null,
   "metadata": {},
   "outputs": [],
   "source": [
    "# Question 4: Go through this page: https://amsterdamdatacollective.atlassian.net/wiki/spaces/CTO/pages/1764491347/pre-commit\n",
    "# And activate and run pre-commit in your local repository."
   ]
  }
 ],
 "metadata": {
  "kernelspec": {
   "display_name": "sparo",
   "language": "python",
   "name": "python3"
  },
  "language_info": {
   "codemirror_mode": {
    "name": "ipython",
    "version": 3
   },
   "file_extension": ".py",
   "mimetype": "text/x-python",
   "name": "python",
   "nbconvert_exporter": "python",
   "pygments_lexer": "ipython3",
   "version": "3.10.5"
  }
 },
 "nbformat": 4,
 "nbformat_minor": 2
}
