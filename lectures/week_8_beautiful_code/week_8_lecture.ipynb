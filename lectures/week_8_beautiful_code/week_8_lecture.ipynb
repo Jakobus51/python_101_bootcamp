{
 "cells": [
  {
   "cell_type": "markdown",
   "metadata": {},
   "source": [
    "# Zen of Python"
   ]
  },
  {
   "cell_type": "code",
   "execution_count": null,
   "metadata": {},
   "outputs": [],
   "source": []
  },
  {
   "cell_type": "code",
   "execution_count": null,
   "metadata": {},
   "outputs": [],
   "source": [
    "def some_random_function(\n",
    "    first_input: str,\n",
    "    second_input: str,\n",
    ") -> str:\n",
    "    \"\"\"Return the inputs with an underscore inbetween.\"\"\"\n",
    "    return f\"{first_input}_{second_input}\"\n",
    "\n",
    "\n",
    "some_random_function(\n",
    "    first_input=\"a\",\n",
    "    second_input=\"b\",\n",
    ")\n",
    "\n",
    "\n",
    "some_random_function(\n",
    "    \"a\",\n",
    "    \"b\",\n",
    ")"
   ]
  },
  {
   "cell_type": "code",
   "execution_count": null,
   "metadata": {},
   "outputs": [],
   "source": [
    "def print_posietive_ints(items: list[int | None]) -> None:\n",
    "    \"\"\"Print positive integers from a list\"\"\"\n",
    "    for item in items:\n",
    "        if item is not None:\n",
    "            if isinstance(item, int):\n",
    "                if item > 0:\n",
    "                    print(item)\n",
    "\n",
    "\n",
    "def print_positive_ints(items: list[int | None]) -> None:\n",
    "    \"\"\"Print positive integers from a list\"\"\"\n",
    "    for item in items:\n",
    "        if item is None:\n",
    "            continue\n",
    "        if not isinstance(item, int):\n",
    "            continue\n",
    "        if item <= 0:\n",
    "            continue\n",
    "        print(item)"
   ]
  },
  {
   "cell_type": "code",
   "execution_count": null,
   "metadata": {},
   "outputs": [],
   "source": [
    "TIME = 1701\n",
    "\n",
    "drink_to_order = \"Beer\" if TIME > 1700 else \"Cola Zero\"\n",
    "\n",
    "print(drink_to_order)"
   ]
  },
  {
   "cell_type": "code",
   "execution_count": null,
   "metadata": {},
   "outputs": [],
   "source": [
    "TIME = 1701\n",
    "\n",
    "if TIME > 1700:\n",
    "    drink_to_order = \"Beer\"\n",
    "else:\n",
    "    drink_to_order = \"Cola Zero\"\n",
    "\n",
    "print(drink_to_order)"
   ]
  },
  {
   "cell_type": "code",
   "execution_count": null,
   "metadata": {},
   "outputs": [],
   "source": [
    "class CSVReader:\n",
    "    def __init__(self, file_path: str):\n",
    "        self.file_path = file_path\n",
    "\n",
    "\n",
    "class CsvReader:\n",
    "    def __init__(self, file_path: str):\n",
    "        self.file_path = file_path"
   ]
  },
  {
   "cell_type": "code",
   "execution_count": null,
   "metadata": {},
   "outputs": [],
   "source": [
    "import polars as pl\n",
    "\n",
    "file_name = \"Thomas\"\n",
    "try:\n",
    "    df = pl.read_csv(file_name)\n",
    "    print(df)\n",
    "except:\n",
    "    print(f\"File {file_name} not found\")\n",
    "\n",
    "print(\"do something with the dataframe\")"
   ]
  },
  {
   "cell_type": "code",
   "execution_count": null,
   "metadata": {},
   "outputs": [],
   "source": [
    "import polars as pl\n",
    "\n",
    "file_name = \"Thomas\"\n",
    "try:\n",
    "    df = pl.read_csv(file_name)\n",
    "    print(df)\n",
    "except FileNotFoundError:\n",
    "    print(f\"File {file_name} not found\")\n",
    "except Exception as e:\n",
    "    print(f\"Unexpected error: {e}\")\n",
    "\n",
    "print(\"do something with the dataframe\")"
   ]
  },
  {
   "cell_type": "code",
   "execution_count": null,
   "metadata": {},
   "outputs": [],
   "source": [
    "def dividee(x, y):\n",
    "    return x / y"
   ]
  },
  {
   "cell_type": "code",
   "execution_count": null,
   "metadata": {},
   "outputs": [],
   "source": [
    "def divide(nominator: float, denominator: float) -> float:\n",
    "    if denominator == 0:\n",
    "        raise ValueError(\"Cannot divide by zero.\")\n",
    "    return nominator / denominator"
   ]
  },
  {
   "cell_type": "code",
   "execution_count": null,
   "metadata": {},
   "outputs": [],
   "source": [
    "x_string = \"Wadup\"\n",
    "\n",
    "if type(x_string) == str:\n",
    "    print(\"x_string is a string\")\n",
    "\n",
    "\n",
    "if isinstance(x_string, str):\n",
    "    print(\"x_string is a string\")"
   ]
  },
  {
   "cell_type": "code",
   "execution_count": null,
   "metadata": {},
   "outputs": [],
   "source": [
    "import cmath\n",
    "import math\n",
    "\n",
    "\n",
    "def sqrt(x: float) -> float:\n",
    "    \"\"\"Jakobs square root function.\"\"\"\n",
    "    print(\"getting square root of\", x)\n",
    "    return x**0.5\n",
    "\n",
    "\n",
    "print(math.sqrt(4))\n",
    "print(cmath.sqrt(-4))\n",
    "print(sqrt(4))"
   ]
  }
 ],
 "metadata": {
  "kernelspec": {
   "display_name": "python-bootcamp-101",
   "language": "python",
   "name": "python3"
  },
  "language_info": {
   "codemirror_mode": {
    "name": "ipython",
    "version": 3
   },
   "file_extension": ".py",
   "mimetype": "text/x-python",
   "name": "python",
   "nbconvert_exporter": "python",
   "pygments_lexer": "ipython3",
   "version": "3.10.5"
  }
 },
 "nbformat": 4,
 "nbformat_minor": 2
}
